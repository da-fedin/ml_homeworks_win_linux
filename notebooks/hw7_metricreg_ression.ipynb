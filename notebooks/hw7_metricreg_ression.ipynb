{
 "cells": [
  {
   "cell_type": "markdown",
   "metadata": {
    "collapsed": false
   },
   "source": [
    "Import dependencies"
   ]
  },
  {
   "cell_type": "code",
   "execution_count": null,
   "metadata": {},
   "outputs": [],
   "source": [
    "# For Data science\n",
    "import pandas as pd\n",
    "import seaborn as sns\n",
    "\n",
    "import matplotlib.pyplot as plt\n",
    "from sklearn import (\n",
    "    model_selection,\n",
    "    linear_model,\n",
    "    svm,\n",
    ")\n",
    "\n",
    "# For modules\n",
    "from sources import (\n",
    "    get_heatmap,\n",
    "    check_is_na,\n",
    "    get_category_encoded,\n",
    "    three_sigma_cleared,\n",
    "    get_count_plot,\n",
    "    evaluate_model\n",
    ")"
   ]
  },
  {
   "cell_type": "markdown",
   "metadata": {
    "collapsed": false
   },
   "source": [
    "# Getting data, observations\n",
    "Get dataset"
   ]
  },
  {
   "cell_type": "code",
   "execution_count": null,
   "metadata": {},
   "outputs": [],
   "source": [
    "# Get dataset from file\n",
    "data = pd.read_csv(\n",
    "    \"../data/abalone.data\",\n",
    "    delimiter=\",\",\n",
    "    names=[\n",
    "        \"sex\",\n",
    "        \"Length\",\n",
    "        \"Diameter\",\n",
    "        \"Height\",\n",
    "        \"Whole weight\",\n",
    "        \"Shucked weight\",\n",
    "        \"Viscera weight\",\n",
    "        \"Shell weight\",\n",
    "        \"Rings\",\n",
    "    ],\n",
    ")"
   ]
  },
  {
   "cell_type": "markdown",
   "metadata": {
    "collapsed": false
   },
   "source": [
    "Look for missing values"
   ]
  },
  {
   "cell_type": "code",
   "execution_count": null,
   "metadata": {},
   "outputs": [],
   "source": [
    "# Check if the dataset has missing values\n",
    "check_is_na(data)"
   ]
  },
  {
   "cell_type": "markdown",
   "metadata": {
    "collapsed": false
   },
   "source": [
    "Get dataset data"
   ]
  },
  {
   "cell_type": "code",
   "execution_count": null,
   "metadata": {},
   "outputs": [],
   "source": [
    "# Get dataset info\n",
    "data.info()"
   ]
  },
  {
   "cell_type": "markdown",
   "metadata": {
    "collapsed": false
   },
   "source": [
    "There is a categorical column in dataset"
   ]
  },
  {
   "cell_type": "code",
   "execution_count": null,
   "metadata": {},
   "outputs": [],
   "source": [
    "# Get DataFrame from categorical column\n",
    "df = data.select_dtypes(include=\"object\")\n",
    "\n",
    "# Get head\n",
    "df.head(5)"
   ]
  },
  {
   "cell_type": "markdown",
   "metadata": {
    "collapsed": false
   },
   "source": [
    "Encode category to numerical values"
   ]
  },
  {
   "cell_type": "code",
   "execution_count": null,
   "metadata": {},
   "outputs": [],
   "source": [
    "# Encode categorical data\n",
    "encoded_dataset = get_category_encoded(data, 'sex', 'ordinal')\n",
    "\n",
    "encoded_dataset = encoded_dataset.iloc[:, 1:]\n",
    "\n",
    "encoded_dataset"
   ]
  },
  {
   "cell_type": "code",
   "execution_count": null,
   "metadata": {},
   "outputs": [],
   "source": [
    "# Get heatmap for prepared dataset\n",
    "get_heatmap(encoded_dataset, 'encoded_dataset')"
   ]
  },
  {
   "cell_type": "markdown",
   "metadata": {
    "collapsed": false
   },
   "source": [
    "There are a lot of strongly correlated features in dataset."
   ]
  },
  {
   "cell_type": "markdown",
   "metadata": {
    "collapsed": false
   },
   "source": [
    "Deal with correlating features"
   ]
  },
  {
   "cell_type": "code",
   "execution_count": null,
   "metadata": {},
   "outputs": [],
   "source": [
    "# Set new combination for weight features\n",
    "encoded_dataset['weight_index'] =\\\n",
    "    encoded_dataset['Shell weight'] +\\\n",
    "    encoded_dataset['Shucked weight'] +\\\n",
    "    encoded_dataset['Viscera weight'] / encoded_dataset['Whole weight']\n",
    "\n",
    "# Set new combination for geometry features\n",
    "encoded_dataset['geometry_index'] =\\\n",
    "    encoded_dataset['Length'] *\\\n",
    "    encoded_dataset['Diameter'] *\\\n",
    "    encoded_dataset['Height']\n",
    "\n",
    "# Set major index\n",
    "encoded_dataset['index'] = encoded_dataset['geometry_index'] / encoded_dataset['weight_index']\n",
    "\n",
    "# Drop combination components\n",
    "encoded_dataset.drop(\n",
    "    columns=[\n",
    "        'Shell weight',\n",
    "        'Shucked weight',\n",
    "        'Viscera weight',\n",
    "        'Whole weight',\n",
    "        'Length',\n",
    "        'Diameter',\n",
    "        'Height',\n",
    "        'weight_index',\n",
    "        'geometry_index',\n",
    "    ],\n",
    "    inplace=True\n",
    ")\n",
    "\n",
    "# Get new heatmap\n",
    "get_heatmap(encoded_dataset, 'encoded_dataset')"
   ]
  },
  {
   "cell_type": "markdown",
   "metadata": {
    "collapsed": false
   },
   "source": [
    "The highly correlated features are removed."
   ]
  },
  {
   "cell_type": "markdown",
   "metadata": {
    "collapsed": false
   },
   "source": [
    "Let's analyse main feature effect on target."
   ]
  },
  {
   "cell_type": "code",
   "execution_count": null,
   "metadata": {},
   "outputs": [],
   "source": [
    "# Regression plot\n",
    "sns.regplot(data=encoded_dataset, x=\"index\", y=\"Rings\");"
   ]
  },
  {
   "cell_type": "markdown",
   "metadata": {
    "collapsed": false
   },
   "source": [
    "Out-layers should be removed from 'index' feature."
   ]
  },
  {
   "cell_type": "code",
   "execution_count": null,
   "metadata": {},
   "outputs": [],
   "source": [
    "# Clear 'index' feature\n",
    "encoded_dataset_filtered = three_sigma_cleared(encoded_dataset, 'index')"
   ]
  },
  {
   "cell_type": "code",
   "execution_count": null,
   "metadata": {},
   "outputs": [],
   "source": [
    "# Regression plot\n",
    "sns.regplot(data=encoded_dataset_filtered, x=\"index\", y=\"Rings\");"
   ]
  },
  {
   "cell_type": "markdown",
   "metadata": {
    "collapsed": false
   },
   "source": [
    "Looks much better."
   ]
  },
  {
   "cell_type": "code",
   "execution_count": null,
   "metadata": {},
   "outputs": [],
   "source": [
    "# Plot distribution for sex feature\n",
    "sns.boxplot(data=encoded_dataset_filtered, x=\"sex\", y=\"Rings\");"
   ]
  },
  {
   "cell_type": "markdown",
   "metadata": {
    "collapsed": false
   },
   "source": [
    "The effect of 'sex' feature is not statistically sufficient."
   ]
  },
  {
   "cell_type": "markdown",
   "metadata": {
    "collapsed": false
   },
   "source": [
    "Now, there is no sufficiently correlated features.\n",
    "\n",
    "Scale the new combined feature."
   ]
  },
  {
   "cell_type": "code",
   "execution_count": null,
   "metadata": {},
   "outputs": [],
   "source": [
    "scaled_dataset = encoded_dataset_filtered"
   ]
  },
  {
   "cell_type": "markdown",
   "metadata": {
    "collapsed": false
   },
   "source": [
    "# Regression\n",
    "Split dataset to train and test"
   ]
  },
  {
   "cell_type": "code",
   "execution_count": null,
   "metadata": {},
   "outputs": [],
   "source": [
    "# Set feature and target subsets\n",
    "abalone_features = scaled_dataset.iloc[:, 1:]\n",
    "abalone_target = scaled_dataset.iloc[:, :1]\n",
    "\n",
    "# Get split subsets\n",
    "X_train, X_test, y_train, y_test = model_selection.train_test_split(\n",
    "    abalone_features,\n",
    "    abalone_target,\n",
    "    test_size=0.3,\n",
    "    random_state=42\n",
    ")"
   ]
  },
  {
   "cell_type": "markdown",
   "metadata": {
    "collapsed": false
   },
   "source": [
    "Check if split target data is balanced"
   ]
  },
  {
   "cell_type": "code",
   "execution_count": null,
   "metadata": {},
   "outputs": [],
   "source": [
    "# Get DataFrame from Series object\n",
    "train_df = pd.DataFrame(y_train, columns=['Rings'])\n",
    "test_df = pd.DataFrame(y_test, columns=['Rings'])\n",
    "\n",
    "# Get count plot for target in train dataset\n",
    "get_count_plot(train_df, 'Rings')\n",
    "get_count_plot(test_df, 'Rings')"
   ]
  },
  {
   "cell_type": "markdown",
   "metadata": {
    "collapsed": false
   },
   "source": [
    "Target distributions looked as not normal ones but quite similar. Target distributions balansed."
   ]
  },
  {
   "cell_type": "code",
   "execution_count": null,
   "metadata": {},
   "outputs": [],
   "source": [
    "# Get regression object\n",
    "abalone_regression = linear_model.LinearRegression()\n",
    "\n",
    "# Get cross-validation results\n",
    "cross_validation_score = model_selection.cross_val_score(\n",
    "    abalone_regression,\n",
    "    X_train,\n",
    "    y_train,\n",
    "    cv=3\n",
    ")\n",
    "\n",
    "# Get fit\n",
    "abalone_regression.fit(X_train, y_train)\n",
    "\n",
    "# Get train score\n",
    "abalone_train_score = abalone_regression.score(X_train, y_train)\n",
    "# Geet test score\n",
    "abalone_test_score = abalone_regression.score(X_test, y_test)\n",
    "\n",
    "print(f\"Cross validation score: {cross_validation_score[:]}\")\n",
    "print(f\"Train score: {abalone_train_score:.2f}\")\n",
    "print(f\"Test score: {abalone_test_score:.2f}\")"
   ]
  },
  {
   "cell_type": "markdown",
   "metadata": {
    "collapsed": false
   },
   "source": [
    "Model looks stable.\n",
    "\n",
    "Let's evaluate model."
   ]
  },
  {
   "cell_type": "code",
   "execution_count": null,
   "metadata": {},
   "outputs": [],
   "source": [
    "# Get metrics for fit model\n",
    "evaluate_model(\n",
    "    abalone_regression,\n",
    "    X_train,\n",
    "    X_test,\n",
    "    y_train,\n",
    "    y_test\n",
    ")\n"
   ]
  },
  {
   "cell_type": "markdown",
   "metadata": {
    "collapsed": false
   },
   "source": [
    "Metrics for the test and train fit look quite similar."
   ]
  },
  {
   "cell_type": "code",
   "execution_count": null,
   "metadata": {},
   "outputs": [],
   "source": [
    "# Get numbers from model\n",
    "model = abalone_regression\n",
    "intercept = model.intercept_\n",
    "coefficients = model.coef_\n",
    "features = model.feature_names_in_\n",
    "score = model.score(X_test, y_test)\n",
    "\n",
    "# Print model\n",
    "print(f\"Score:\\nR^2 = {score:.2f}\\n\\n\"\n",
    "      f\"The model is:\\ny = {float(intercept):.2f} +\"\n",
    "      f\" {coefficients[:, 0][0]:.2f} * {features[0]} + {coefficients[:, 1][0]:.2f} * {features[1]}\")\n"
   ]
  },
  {
   "cell_type": "code",
   "execution_count": null,
   "metadata": {},
   "outputs": [],
   "source": [
    "# Get density plot\n",
    "# for test data\n",
    "sns.kdeplot(\n",
    "    y_test,\n",
    "    fill=False,\n",
    "    color='r',\n",
    "    label='test subset',\n",
    ")\n",
    "\n",
    "# for predicted data\n",
    "sns.kdeplot(\n",
    "    abalone_regression.predict(X_test),\n",
    "    fill=True,\n",
    "    color='b',\n",
    "    label='predicted',\n",
    ")\n",
    "\n",
    "# Plot\n",
    "plt.title('Distribution of observations in test dataset and and predicted dataset')\n",
    "plt.legend();"
   ]
  },
  {
   "cell_type": "markdown",
   "metadata": {
    "collapsed": false
   },
   "source": [
    "# Classification"
   ]
  },
  {
   "cell_type": "markdown",
   "metadata": {
    "collapsed": false
   },
   "source": [
    "Make additional imports"
   ]
  },
  {
   "cell_type": "markdown",
   "metadata": {
    "collapsed": false
   },
   "source": [
    "Encode category to numerical values"
   ]
  },
  {
   "cell_type": "code",
   "execution_count": null,
   "metadata": {},
   "outputs": [],
   "source": [
    "# Encode categorical data\n",
    "encoded_dataset = get_category_encoded(data, 'sex', 'ordinal')\n",
    "\n",
    "encoded_dataset = encoded_dataset.iloc[:, 1:]\n",
    "\n",
    "encoded_dataset.head(3)"
   ]
  },
  {
   "cell_type": "markdown",
   "metadata": {
    "collapsed": false
   },
   "source": [
    "Make data"
   ]
  },
  {
   "cell_type": "code",
   "execution_count": null,
   "metadata": {},
   "outputs": [],
   "source": [
    "# Set feature and target subsets\n",
    "X = encoded_dataset.drop('Rings', axis=1)\n",
    "y = encoded_dataset['Rings']"
   ]
  },
  {
   "cell_type": "markdown",
   "metadata": {
    "collapsed": false
   },
   "source": [
    "Split dataset to test and train data."
   ]
  },
  {
   "cell_type": "code",
   "execution_count": null,
   "metadata": {},
   "outputs": [],
   "source": [
    "# Get split subsets\n",
    "X_train, X_test, y_train, y_test = model_selection.train_test_split(\n",
    "    X,\n",
    "    y,\n",
    "    test_size=0.3,\n",
    "    random_state=42\n",
    ")"
   ]
  },
  {
   "cell_type": "code",
   "execution_count": null,
   "metadata": {},
   "outputs": [],
   "source": [
    "# Initiate classification\n",
    "classifier = svm.LinearSVC(dual=\"auto\")\n",
    "\n",
    "# Train model\n",
    "classifier.fit(X_train, y_train);"
   ]
  },
  {
   "cell_type": "code",
   "execution_count": null,
   "metadata": {},
   "outputs": [],
   "source": [
    "# Score model\n",
    "classifier.score(X_test, y_test)"
   ]
  },
  {
   "cell_type": "markdown",
   "metadata": {
    "collapsed": false
   },
   "source": [
    "Visualize model"
   ]
  },
  {
   "cell_type": "markdown",
   "metadata": {
    "collapsed": false
   },
   "source": []
  },
  {
   "cell_type": "code",
   "execution_count": null,
   "metadata": {},
   "outputs": [],
   "source": [
    "# Get density plot\n",
    "# for test data\n",
    "sns.kdeplot(\n",
    "    y_test,\n",
    "    fill=False,\n",
    "    color='r',\n",
    "    label='test subset',\n",
    ")\n",
    "\n",
    "# for predicted data\n",
    "sns.kdeplot(\n",
    "    classifier.predict(X_test),\n",
    "    fill=True,\n",
    "    color='b',\n",
    "    label='predicted',\n",
    ")\n",
    "\n",
    "# Plot\n",
    "plt.title('Distribution of observations in test dataset and and predicted dataset')\n",
    "plt.legend();"
   ]
  },
  {
   "cell_type": "markdown",
   "metadata": {
    "collapsed": false
   },
   "source": [
    "# Summary\n",
    "1. Correlated features removed.\n",
    "2. New combined feature created.\n",
    "3. Regression model created.\n",
    "4. Additional linear classification done for whole numerical features.\n",
    "4. Metrics looked poor."
   ]
  }
 ],
 "metadata": {
  "kernelspec": {
   "display_name": "Python 3",
   "language": "python",
   "name": "python3"
  },
  "language_info": {
   "codemirror_mode": {
    "name": "ipython",
    "version": 2
   },
   "file_extension": ".py",
   "mimetype": "text/x-python",
   "name": "python",
   "nbconvert_exporter": "python",
   "pygments_lexer": "ipython2",
   "version": "2.7.6"
  }
 },
 "nbformat": 4,
 "nbformat_minor": 0
}
