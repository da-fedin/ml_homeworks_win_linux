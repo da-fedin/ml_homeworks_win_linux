{
 "cells": [
  {
   "cell_type": "raw",
   "id": "fd666fff5ab06174",
   "metadata": {
    "collapsed": false
   },
   "source": [
    "# Import dependencies"
   ]
  },
  {
   "cell_type": "code",
   "execution_count": null,
   "id": "initial_id",
   "metadata": {
    "ExecuteTime": {
     "start_time": "2024-02-11T18:13:23.835706100Z"
    }
   },
   "outputs": [],
   "source": [
    "# import warnings\n",
    "\n",
    "# For Data science\n",
    "import pandas as pd\n",
    "from sklearn.model_selection import train_test_split\n",
    "from sklearn.feature_extraction.text import TfidfVectorizer\n",
    "\n",
    "from datetime import datetime"
   ]
  },
  {
   "cell_type": "markdown",
   "id": "8ba11971040616eb",
   "metadata": {
    "collapsed": false
   },
   "source": [
    "# Getting data, observations\n",
    "## Get dataset"
   ]
  },
  {
   "cell_type": "code",
   "execution_count": null,
   "id": "e8d039075d99938d",
   "metadata": {
    "ExecuteTime": {
     "end_time": "2024-02-11T18:13:24.541548100Z",
     "start_time": "2024-02-11T18:13:23.840705Z"
    }
   },
   "outputs": [],
   "source": [
    "# Get dataset from file\n",
    "df = pd.read_csv(\n",
    "    f\"../data/IMDB_Dataset.csv\",\n",
    ")\n",
    "\n",
    "# Show dataset head\n",
    "df.head()"
   ]
  },
  {
   "cell_type": "code",
   "execution_count": null,
   "id": "2930910b051bd35e",
   "metadata": {
    "ExecuteTime": {
     "end_time": "2024-02-11T18:13:24.553855900Z",
     "start_time": "2024-02-11T18:13:24.541548100Z"
    }
   },
   "outputs": [],
   "source": [
    "review = df.columns[-1]\n",
    "\n",
    "grouped = df.groupby(review).size()"
   ]
  },
  {
   "cell_type": "code",
   "execution_count": null,
   "id": "3c2622e7e3ceecf2",
   "metadata": {
    "ExecuteTime": {
     "end_time": "2024-02-11T18:13:24.794966500Z",
     "start_time": "2024-02-11T18:13:24.553855900Z"
    }
   },
   "outputs": [],
   "source": [
    "grouped.plot(\n",
    "    kind='bar',\n",
    "    xlabel='Review',\n",
    "    ylabel='Count',\n",
    "    title='Count of Reviews',\n",
    ");"
   ]
  },
  {
   "cell_type": "markdown",
   "id": "c154d1878883edc6",
   "metadata": {
    "collapsed": false
   },
   "source": [
    "Dataframe is balanced.\n",
    "Split dataset to train and test."
   ]
  },
  {
   "cell_type": "code",
   "execution_count": null,
   "id": "c5c1675cef0921a9",
   "metadata": {
    "ExecuteTime": {
     "end_time": "2024-02-11T18:13:24.805852Z",
     "start_time": "2024-02-11T18:13:24.793969100Z"
    }
   },
   "outputs": [],
   "source": [
    "train, test = train_test_split(\n",
    "    df,\n",
    "    train_size=.7,\n",
    "    test_size=.3,\n",
    "    shuffle=True,\n",
    "    random_state=42,\n",
    ")\n",
    "\n",
    "train_x, train_y = train['review'], train['sentiment']\n",
    "test_x, test_y = test['review'], test['sentiment']"
   ]
  },
  {
   "cell_type": "markdown",
   "id": "d2cfc77e448fc861",
   "metadata": {
    "collapsed": false
   },
   "source": [
    "Transform words from the text reviews into a numeric representation of its frequency."
   ]
  },
  {
   "cell_type": "code",
   "execution_count": null,
   "id": "be09eb7fc3b60223",
   "metadata": {
    "ExecuteTime": {
     "end_time": "2024-02-11T18:13:33.872878400Z",
     "start_time": "2024-02-11T18:13:24.810854300Z"
    }
   },
   "outputs": [],
   "source": [
    "tfidf = TfidfVectorizer(stop_words='english')\n",
    "train_x_vector = tfidf.fit_transform(train_x)\n",
    "\n",
    "pd.DataFrame.sparse.from_spmatrix(\n",
    "    data=train_x_vector,\n",
    "    index=train_x.index,\n",
    "    columns=tfidf.get_feature_names_out()\n",
    ")"
   ]
  },
  {
   "cell_type": "code",
   "execution_count": null,
   "id": "57cdc7e3defd36e",
   "metadata": {
    "ExecuteTime": {
     "end_time": "2024-02-11T18:15:20.949906300Z",
     "start_time": "2024-02-11T18:15:17.865855300Z"
    }
   },
   "outputs": [],
   "source": [
    "test_x_vector = tfidf.transform(test_x)"
   ]
  }
 ],
 "metadata": {
  "kernelspec": {
   "display_name": "Python 3",
   "language": "python",
   "name": "python3"
  },
  "language_info": {
   "codemirror_mode": {
    "name": "ipython",
    "version": 2
   },
   "file_extension": ".py",
   "mimetype": "text/x-python",
   "name": "python",
   "nbconvert_exporter": "python",
   "pygments_lexer": "ipython2",
   "version": "2.7.6"
  }
 },
 "nbformat": 4,
 "nbformat_minor": 5
}
