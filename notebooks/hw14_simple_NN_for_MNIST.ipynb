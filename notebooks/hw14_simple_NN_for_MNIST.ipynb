{
 "cells": [
  {
   "cell_type": "markdown",
   "id": "21a3b9e6a2396b05",
   "metadata": {
    "collapsed": false
   },
   "source": [
    "# Import dependencies"
   ]
  },
  {
   "cell_type": "code",
   "execution_count": null,
   "id": "2ee5b44c1ac15e36",
   "metadata": {},
   "outputs": [],
   "source": [
    "import warnings\n",
    "\n",
    "# For graph\n",
    "import matplotlib.pyplot as plt\n",
    "import seaborn as sns\n",
    "\n",
    "# For datascience\n",
    "import numpy as np\n",
    "\n",
    "from keras.datasets import mnist\n",
    "from keras.utils import to_categorical\n",
    "from keras.layers import Flatten, Dense, Dropout\n",
    "from keras.models import Sequential\n",
    "from keras.callbacks import EarlyStopping, TerminateOnNaN, ProgbarLogger, TensorBoard\n",
    "from keras.optimizers import Adam\n",
    "from datetime import datetime\n",
    "\n",
    "warnings.filterwarnings(\"ignore\")"
   ]
  },
  {
   "cell_type": "markdown",
   "id": "77cdcf102be638b4",
   "metadata": {
    "collapsed": false
   },
   "source": [
    "Mute warnings"
   ]
  },
  {
   "cell_type": "code",
   "execution_count": null,
   "id": "30584c20ba817a51",
   "metadata": {},
   "outputs": [],
   "source": [
    "# Set random seed for reproducibility\n",
    "np.random.seed(42)"
   ]
  },
  {
   "cell_type": "markdown",
   "id": "4d5588a244dce50c",
   "metadata": {
    "collapsed": false
   },
   "source": [
    "# Getting data, observations\n",
    "## Get dataset"
   ]
  },
  {
   "cell_type": "code",
   "execution_count": null,
   "id": "8ef03e1beb7f7d1c",
   "metadata": {},
   "outputs": [],
   "source": [
    "# Load MNIST dataset\n",
    "(train_images, train_labels), (test_images, test_labels) = mnist.load_data()"
   ]
  },
  {
   "cell_type": "markdown",
   "id": "8dbeb36c1fff2299",
   "metadata": {
    "collapsed": false
   },
   "source": [
    "Show original images"
   ]
  },
  {
   "cell_type": "code",
   "execution_count": null,
   "id": "b6c7d12f1f52db6f",
   "metadata": {},
   "outputs": [],
   "source": [
    "# Sample 25 mnist digits from train dataset\n",
    "indexes = np.random.randint(0, train_images.shape[0], size=25)\n",
    "images = train_images[indexes]\n",
    "labels = train_labels[indexes]\n",
    "\n",
    "# Plot the 25 mnist digits\n",
    "plt.figure(figsize=(5, 5))\n",
    "\n",
    "for i in range(len(indexes)):\n",
    "    plt.subplot(5, 5, i + 1)\n",
    "    image = images[i]\n",
    "    plt.imshow(image, cmap=\"gray\")\n",
    "    plt.axis(\"off\")\n",
    "\n",
    "plt.show()\n",
    "plt.savefig(\"mnist-samples.png\")\n",
    "plt.close(\"all\")"
   ]
  },
  {
   "cell_type": "markdown",
   "id": "eab18a5ef750a527",
   "metadata": {
    "collapsed": false
   },
   "source": [
    "## Preprocessing\n",
    "Reshape data"
   ]
  },
  {
   "cell_type": "code",
   "execution_count": null,
   "id": "816ff40a59b693cd",
   "metadata": {},
   "outputs": [],
   "source": [
    "# Resize images to match the required input\n",
    "train_images_reshaped = train_images.reshape(train_images.shape[0], 28, 28)\n",
    "test_images_reshaped = test_images.reshape(test_images.shape[0], 28, 28)"
   ]
  },
  {
   "cell_type": "markdown",
   "id": "e1af44c0a29906c6",
   "metadata": {
    "collapsed": false
   },
   "source": [
    "Resize image"
   ]
  },
  {
   "cell_type": "code",
   "execution_count": null,
   "id": "ceb27a5cae365987",
   "metadata": {},
   "outputs": [],
   "source": [
    "# Normalize pixel values to be between 0 and 1\n",
    "train_images_resized = train_images_reshaped.astype(\"float32\") / 255\n",
    "test_images_resized = test_images_reshaped.astype(\"float32\") / 255"
   ]
  },
  {
   "cell_type": "markdown",
   "id": "a8ef24eab6df97ee",
   "metadata": {
    "collapsed": false
   },
   "source": [
    "Make labels"
   ]
  },
  {
   "cell_type": "code",
   "execution_count": null,
   "id": "9da089d35dc86b70",
   "metadata": {},
   "outputs": [],
   "source": [
    "# One-hot encode labels\n",
    "train_labels = to_categorical(train_labels)\n",
    "test_labels = to_categorical(test_labels)"
   ]
  },
  {
   "cell_type": "markdown",
   "id": "a61192470a07ca22",
   "metadata": {
    "collapsed": false
   },
   "source": [
    "# Create model\n",
    "## Set model"
   ]
  },
  {
   "cell_type": "code",
   "execution_count": null,
   "id": "d32d1f441d92b80e",
   "metadata": {},
   "outputs": [],
   "source": [
    "# Set hidden units amount\n",
    "hidden_units = 128\n",
    "\n",
    "# Get model\n",
    "model = Sequential(\n",
    "    [\n",
    "        Flatten(input_shape=(28, 28)),  # Flatten the input image\n",
    "        Dense(\n",
    "            units=128, activation=\"relu\"\n",
    "        ),  # Fully connected layer with 128 neurons and ReLU activation\n",
    "        Dropout(0.2),  # Dropout layer to prevent over-fitting\n",
    "        Dense(\n",
    "            units=10, activation=\"softmax\"\n",
    "        ),  # Output layer with 10 neurons (one for each class) and softmax activation\n",
    "    ]\n",
    ")"
   ]
  },
  {
   "cell_type": "markdown",
   "id": "9fc5285f3d248d43",
   "metadata": {
    "collapsed": false
   },
   "source": [
    "## Compile model"
   ]
  },
  {
   "cell_type": "code",
   "execution_count": null,
   "id": "6003cdb160ac8158",
   "metadata": {},
   "outputs": [],
   "source": [
    "# Compile model\n",
    "model.compile(\n",
    "    optimizer=Adam(0.001),\n",
    "    loss=\"categorical_crossentropy\",  # Use categorical_crossentropy for one-hot encoded labels\n",
    "    metrics=[\"accuracy\"],  # Use 'accuracy' instead of SparseCategoricalAccuracy\n",
    ")"
   ]
  },
  {
   "cell_type": "markdown",
   "id": "c986b9afb6451e0a",
   "metadata": {
    "collapsed": false
   },
   "source": [
    "## Set callbacks"
   ]
  },
  {
   "cell_type": "code",
   "execution_count": null,
   "id": "8a1b5b80a1f6cddd",
   "metadata": {},
   "outputs": [],
   "source": [
    "# Get time log\n",
    "logs = \"logs/\" + datetime.now().strftime(\"%Y%m%d-%H%M%S\")\n",
    "\n",
    "# Get TensorBoard\n",
    "tboard_callback = TensorBoard(\n",
    "    log_dir=logs,\n",
    "    histogram_freq=1,\n",
    "    profile_batch=\"500,520\",\n",
    ")\n",
    "\n",
    "# Define early stopping callback\n",
    "early_stopping = EarlyStopping(\n",
    "    monitor=\"val_loss\",  # Monitor validation loss\n",
    "    patience=3,  # Number of epochs with no improvement after which training will be stopped\n",
    "    restore_best_weights=False,  # Restore weights from the epoch with the best validation loss\n",
    ")\n",
    "# Define terminate if Nan result appeared\n",
    "terminate_on_nan = TerminateOnNaN()\n",
    "\n",
    "# Define progress bar with metrics\n",
    "progbar_logger = ProgbarLogger(count_mode=\"samples\", stateful_metrics=[\"acc\"])"
   ]
  },
  {
   "cell_type": "markdown",
   "id": "acdc5e267884c2d1",
   "metadata": {
    "collapsed": false
   },
   "source": [
    "## Train model"
   ]
  },
  {
   "cell_type": "code",
   "execution_count": null,
   "id": "8373578708e534b",
   "metadata": {},
   "outputs": [],
   "source": [
    "# Fit model\n",
    "history = model.fit(\n",
    "    x=train_images_resized,\n",
    "    y=train_labels,\n",
    "    epochs=6,\n",
    "    validation_data=(\n",
    "        test_images_resized,\n",
    "        test_labels,\n",
    "    ),\n",
    "    callbacks=[\n",
    "        early_stopping,\n",
    "        terminate_on_nan,\n",
    "        progbar_logger,\n",
    "    ],\n",
    ")"
   ]
  },
  {
   "cell_type": "markdown",
   "id": "3108be61e537725",
   "metadata": {
    "collapsed": false
   },
   "source": [
    "# Result visualization\n",
    "## Get tensorboard"
   ]
  },
  {
   "cell_type": "code",
   "execution_count": null,
   "id": "21a888434b0b0bb1",
   "metadata": {},
   "outputs": [],
   "source": [
    "# Load the TensorBoard notebook extension.\n",
    "%load_ext tensorboard\n",
    "\n",
    "# Launch TensorBoard and navigate to the Profile tab to view performance profile\n",
    "%tensorboard --logdir=logs --port=6011\n",
    "\n",
    "# !!! Got message like 'Reusing TensorBoard on port XXXX' - change port !!!"
   ]
  },
  {
   "cell_type": "markdown",
   "id": "1c80894612122d9d",
   "metadata": {
    "collapsed": false
   },
   "source": [
    "Scalars trends are quite representative."
   ]
  },
  {
   "cell_type": "markdown",
   "id": "c752a34de59b4bc7",
   "metadata": {
    "collapsed": false
   },
   "source": [
    "# Get graph\n",
    "## We can get loss as a trend."
   ]
  },
  {
   "cell_type": "code",
   "execution_count": null,
   "id": "8be729b1d41c6ac1",
   "metadata": {},
   "outputs": [],
   "source": [
    "# Plot train loss\n",
    "sns.lineplot(\n",
    "    x=range(1, len(history.history[\"loss\"]) + 1),\n",
    "    y=history.history[\"loss\"],\n",
    "    label=\"Train\",\n",
    ")\n",
    "\n",
    "# Plot validation loss\n",
    "sns.lineplot(\n",
    "    x=range(1, len(history.history[\"val_loss\"]) + 1),\n",
    "    y=history.history[\"val_loss\"],\n",
    "    label=\"Test\",\n",
    ")\n",
    "\n",
    "plt.title(\"Model loss\")\n",
    "plt.ylabel(\"Loss\")\n",
    "plt.xlabel(\"Epoch\")\n",
    "plt.legend(loc=\"upper right\")\n",
    "\n",
    "# Evaluate the model\n",
    "test_loss, test_acc = model.evaluate(test_images_resized, test_labels)\n",
    "print(f\"Test accuracy: {test_acc: .2f}.\")"
   ]
  },
  {
   "cell_type": "markdown",
   "id": "2f0de75d92e00bd5",
   "metadata": {
    "collapsed": false
   },
   "source": []
  },
  {
   "cell_type": "markdown",
   "id": "4055dd7b4c06cf45",
   "metadata": {
    "collapsed": false
   },
   "source": [
    "It looks like 6th epoch gives overfitting."
   ]
  }
 ],
 "metadata": {
  "kernelspec": {
   "display_name": "Python 3",
   "language": "python",
   "name": "python3"
  },
  "language_info": {
   "codemirror_mode": {
    "name": "ipython",
    "version": 2
   },
   "file_extension": ".py",
   "mimetype": "text/x-python",
   "name": "python",
   "nbconvert_exporter": "python",
   "pygments_lexer": "ipython2",
   "version": "2.7.6"
  }
 },
 "nbformat": 4,
 "nbformat_minor": 5
}
