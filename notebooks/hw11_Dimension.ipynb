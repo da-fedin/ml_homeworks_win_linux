{
 "cells": [
  {
   "cell_type": "markdown",
   "metadata": {
    "collapsed": false
   },
   "source": [
    "# Import dependencies"
   ]
  },
  {
   "cell_type": "code",
   "execution_count": null,
   "metadata": {
    "ExecuteTime": {
     "end_time": "2024-02-24T17:15:15.674732900Z",
     "start_time": "2024-02-24T17:15:15.422273200Z"
    }
   },
   "outputs": [],
   "source": [
    "# To mute annoying warnings in notebook\n",
    "import warnings\n",
    "import numpy as np\n",
    "\n",
    "# For Data science\n",
    "import pandas as pd\n",
    "\n",
    "# For visualization\n",
    "import seaborn as sns\n",
    "import matplotlib.pyplot as plt\n",
    "\n",
    "from sklearn import (\n",
    "    preprocessing,\n",
    "    decomposition,\n",
    ")\n",
    "\n",
    "warnings.filterwarnings(\"ignore\")"
   ]
  },
  {
   "cell_type": "markdown",
   "metadata": {
    "collapsed": false
   },
   "source": [
    "# Getting data, observations\n",
    "## Get dataset"
   ]
  },
  {
   "cell_type": "code",
   "execution_count": null,
   "metadata": {
    "ExecuteTime": {
     "end_time": "2024-02-24T17:15:15.695903500Z",
     "start_time": "2024-02-24T17:15:15.679728400Z"
    }
   },
   "outputs": [],
   "source": [
    "# Get dataset from file\n",
    "data = pd.read_csv(\n",
    "    \"../data/SouthGermanCredit.asc\",\n",
    "    delimiter=\" \",\n",
    ")"
   ]
  },
  {
   "cell_type": "code",
   "execution_count": null,
   "metadata": {
    "ExecuteTime": {
     "end_time": "2024-02-24T17:15:15.727884200Z",
     "start_time": "2024-02-24T17:15:15.697903400Z"
    }
   },
   "outputs": [],
   "source": [
    "# Get data info\n",
    "data.info()"
   ]
  },
  {
   "cell_type": "markdown",
   "metadata": {
    "collapsed": false
   },
   "source": [
    "# Preprocessing\n",
    "\n",
    "## Scaling"
   ]
  },
  {
   "cell_type": "code",
   "execution_count": null,
   "metadata": {
    "ExecuteTime": {
     "end_time": "2024-02-24T17:15:15.737878200Z",
     "start_time": "2024-02-24T17:15:15.721888Z"
    }
   },
   "outputs": [],
   "source": [
    "# Scale data\n",
    "scaler = preprocessing.StandardScaler()\n",
    "\n",
    "X_scaled = scaler.fit_transform(data)"
   ]
  },
  {
   "cell_type": "markdown",
   "metadata": {
    "collapsed": false
   },
   "source": [
    "# Processing\n",
    "\n",
    "## Decomposition"
   ]
  },
  {
   "cell_type": "code",
   "execution_count": null,
   "metadata": {
    "ExecuteTime": {
     "end_time": "2024-02-24T17:15:16.557819600Z",
     "start_time": "2024-02-24T17:15:15.738877800Z"
    }
   },
   "outputs": [],
   "source": [
    "# Get principal component analyzer\n",
    "pca = decomposition.PCA()\n",
    "\n",
    "# Fit scaled data\n",
    "X_pca = pca.fit(X_scaled)\n",
    "\n",
    "# Get explained variance (amount of variance explained by each of the selected components)\n",
    "explained_variance_ratio = pca.explained_variance_ratio_\n",
    "\n",
    "# Get cumulative explained variance for retained features\n",
    "cumulative_explained_variance_ratio = np.cumsum(explained_variance_ratio)\n",
    "\n",
    "# Plot explained variance\n",
    "sns.lineplot(\n",
    "    data=explained_variance_ratio,\n",
    "    label=\"variance\",\n",
    "    color=\"g\",\n",
    "    marker=\"o\",\n",
    ")\n",
    "\n",
    "plt.xlabel(\"Number of principal components\")\n",
    "plt.ylabel(\"explained_variance_ratio\")\n",
    "axis_2 = plt.gca().twinx()\n",
    "\n",
    "sns.lineplot(\n",
    "    data=cumulative_explained_variance_ratio,\n",
    "    label=\"cumulative variance\",\n",
    "    color=\"r\",\n",
    "    marker=\"s\",\n",
    ")\n",
    "\n",
    "plt.title(\"Explained variance by principal components\")\n",
    "plt.ylabel(\"cumulative_explained_variance_ratio\");"
   ]
  },
  {
   "cell_type": "code",
   "execution_count": null,
   "metadata": {
    "ExecuteTime": {
     "end_time": "2024-02-24T17:15:16.569693500Z",
     "start_time": "2024-02-24T17:15:16.561818100Z"
    }
   },
   "outputs": [],
   "source": [
    "# Get amount of retained components with cumulative explained variance more than 70%\n",
    "retained_components = np.argmax(cumulative_explained_variance_ratio >= 0.7)\n",
    "\n",
    "retained_components"
   ]
  },
  {
   "cell_type": "code",
   "execution_count": null,
   "metadata": {
    "ExecuteTime": {
     "end_time": "2024-02-24T17:15:16.651295300Z",
     "start_time": "2024-02-24T17:15:16.568694600Z"
    }
   },
   "outputs": [],
   "source": [
    "# Get analyzer for only components which cumulative explained variance is more than 70%\n",
    "pca_reduced = decomposition.PCA(n_components=retained_components)\n",
    "\n",
    "# Get decomposition for chosen components\n",
    "X_reduced = pca_reduced.fit_transform(X_scaled)\n",
    "\n",
    "# Get variance loss\n",
    "loss = 1 - cumulative_explained_variance_ratio[retained_components]\n",
    "\n",
    "print(f\"Variance loss is {loss:.2f}\")"
   ]
  },
  {
   "cell_type": "markdown",
   "metadata": {
    "collapsed": false
   },
   "source": [
    "# Summary\n",
    "1. Linear dimensionality reduction made with cumulative explained variance required.\n",
    "2. Amount of components reduced from 20 to 10 with no sufficient information loss."
   ]
  }
 ],
 "metadata": {
  "kernelspec": {
   "display_name": "Python 3",
   "language": "python",
   "name": "python3"
  },
  "language_info": {
   "codemirror_mode": {
    "name": "ipython",
    "version": 2
   },
   "file_extension": ".py",
   "mimetype": "text/x-python",
   "name": "python",
   "nbconvert_exporter": "python",
   "pygments_lexer": "ipython2",
   "version": "2.7.6"
  }
 },
 "nbformat": 4,
 "nbformat_minor": 0
}
