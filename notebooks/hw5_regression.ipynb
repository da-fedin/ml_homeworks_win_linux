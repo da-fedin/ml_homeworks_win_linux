{
 "cells": [
  {
   "cell_type": "markdown",
   "metadata": {
    "collapsed": false
   },
   "source": [
    "Import dependencies"
   ]
  },
  {
   "cell_type": "code",
   "execution_count": null,
   "metadata": {
    "ExecuteTime": {
     "end_time": "2024-01-07T15:15:38.653001020Z",
     "start_time": "2024-01-07T15:15:38.590830106Z"
    }
   },
   "outputs": [],
   "source": [
    "# For typing\n",
    "from typing import Dict, TypeAlias\n",
    "\n",
    "# For Data science\n",
    "import matplotlib.pyplot as plt\n",
    "import pandas as pd\n",
    "import seaborn as sns\n",
    "import numpy as np\n",
    "\n",
    "from scipy import stats\n",
    "from sklearn import (\n",
    "    linear_model,\n",
    "    model_selection,\n",
    "    preprocessing,\n",
    "    metrics,\n",
    ")\n",
    "\n",
    "LinearRegressionModel: TypeAlias = linear_model.LinearRegression\n",
    "StandardScaler: TypeAlias = preprocessing.StandardScaler\n",
    "\n",
    "# plt.close(\"all\")"
   ]
  },
  {
   "cell_type": "markdown",
   "metadata": {
    "collapsed": false
   },
   "source": [
    "# Getting data, observations and preliminary processing\n",
    "Get datasets"
   ]
  },
  {
   "cell_type": "code",
   "execution_count": null,
   "metadata": {
    "ExecuteTime": {
     "end_time": "2024-01-07T15:14:42.126177929Z",
     "start_time": "2024-01-07T15:14:41.026240467Z"
    }
   },
   "outputs": [],
   "source": [
    "# Get datasets\n",
    "red_wine = pd.read_csv(\"src/winequality-red.csv\", delimiter=\";\")\n",
    "white_wine = pd.read_csv(\"src/winequality-white.csv\", delimiter=\";\")"
   ]
  },
  {
   "cell_type": "markdown",
   "metadata": {
    "collapsed": false
   },
   "source": [
    "Show dataset info"
   ]
  },
  {
   "cell_type": "code",
   "execution_count": null,
   "metadata": {
    "ExecuteTime": {
     "end_time": "2024-01-07T15:14:42.145916793Z",
     "start_time": "2024-01-07T15:14:41.049306947Z"
    }
   },
   "outputs": [],
   "source": [
    "# Get data for red wine\n",
    "red_wine.info(verbose=False)"
   ]
  },
  {
   "cell_type": "code",
   "execution_count": null,
   "metadata": {
    "ExecuteTime": {
     "end_time": "2024-01-07T15:14:42.146340485Z",
     "start_time": "2024-01-07T15:14:41.075427269Z"
    }
   },
   "outputs": [],
   "source": [
    "# Get data for white wine\n",
    "white_wine.info(verbose=False)"
   ]
  },
  {
   "cell_type": "markdown",
   "metadata": {
    "collapsed": false
   },
   "source": [
    "Look for missing values"
   ]
  },
  {
   "cell_type": "code",
   "execution_count": null,
   "metadata": {
    "ExecuteTime": {
     "end_time": "2024-01-07T15:14:42.164606215Z",
     "start_time": "2024-01-07T15:14:41.112862481Z"
    }
   },
   "outputs": [],
   "source": [
    "if white_wine.isna().any().any() | white_wine.isna().any().any():\n",
    "    print(\"There are missing values in datasets\")\n",
    "else:\n",
    "    print(\"There is no missing values in datasets\")"
   ]
  },
  {
   "cell_type": "markdown",
   "metadata": {
    "collapsed": false
   },
   "source": [
    "Look for correlations"
   ]
  },
  {
   "cell_type": "code",
   "execution_count": null,
   "metadata": {
    "ExecuteTime": {
     "end_time": "2024-01-07T15:14:42.445708098Z",
     "start_time": "2024-01-07T15:14:41.121056104Z"
    }
   },
   "outputs": [],
   "source": [
    "def get_heatmap(dataframe: pd.DataFrame, name: str) -> None:\n",
    "    # Get correlation matrix\n",
    "    correlation_statistics = dataframe.corr()\n",
    "\n",
    "    # Set mask to get triangle visualization\n",
    "    stst_mask = np.triu(correlation_statistics)\n",
    "\n",
    "    # Set size for the plot\n",
    "    plt.figure(figsize=(15, 15))\n",
    "\n",
    "    # Get heatmap\n",
    "    sns.heatmap(correlation_statistics, mask=stst_mask, annot=True)\n",
    "\n",
    "    plt.title(f\"Heatmap of Correlation Matrix for {name}.\")\n",
    "\n",
    "\n",
    "get_heatmap(red_wine, \"red_wine\");"
   ]
  },
  {
   "cell_type": "code",
   "execution_count": null,
   "metadata": {},
   "outputs": [],
   "source": [
    "get_heatmap(white_wine, \"white_wine\")"
   ]
  },
  {
   "cell_type": "markdown",
   "metadata": {
    "collapsed": false
   },
   "source": [
    "There is the sufficient correlation between density and residual sugar features. Let's get the combined feature instead of correlating ones."
   ]
  },
  {
   "cell_type": "code",
   "execution_count": null,
   "metadata": {},
   "outputs": [],
   "source": [
    "# Update correlating feature\n",
    "white_wine = white_wine.assign(\n",
    "    density_to_residuals=white_wine[\"residual sugar\"] * white_wine[\"density\"]\n",
    ")\n",
    "\n",
    "\n",
    "# Drop original columns\n",
    "white_wine.drop(columns=[\"density\", \"residual sugar\"], inplace=True)\n",
    "\n",
    "# Move assigned column to the first position\n",
    "new_column_order = [\"density_to_residuals\"] + [\n",
    "    column for column in white_wine if column != \"density_to_residuals\"\n",
    "]\n",
    "\n",
    "white_wine_ordered = white_wine.reindex(columns=new_column_order)\n",
    "# new_column_order\n",
    "# Get heatmap for updated dataset\n",
    "get_heatmap(white_wine_ordered, \"white_wine\")"
   ]
  },
  {
   "cell_type": "markdown",
   "metadata": {
    "collapsed": false
   },
   "source": [
    "Now, there are no correlating features in dataset. Let's look at target distribution."
   ]
  },
  {
   "cell_type": "code",
   "execution_count": null,
   "metadata": {},
   "outputs": [],
   "source": [
    "# Get distribution for red wine target\n",
    "sns.countplot(data=red_wine, x=\"quality\");"
   ]
  },
  {
   "cell_type": "code",
   "execution_count": null,
   "metadata": {},
   "outputs": [],
   "source": [
    "# Get distribution for white wine target\n",
    "sns.countplot(data=white_wine, x=\"quality\");"
   ]
  },
  {
   "cell_type": "markdown",
   "metadata": {
    "collapsed": false
   },
   "source": [
    "Target distributions looked as normal ones. Let's check the normality by test."
   ]
  },
  {
   "cell_type": "code",
   "execution_count": null,
   "metadata": {},
   "outputs": [],
   "source": [
    "red_wine_normality = stats.shapiro(red_wine[\"quality\"])[0]\n",
    "white_wine_normality = stats.shapiro(white_wine[\"quality\"])[0]\n",
    "\n",
    "print(\n",
    "    f\"Normality test statistics for the both dataset targets are: {red_wine_normality:.2f} and {white_wine_normality:.2f}.\"\n",
    ")"
   ]
  },
  {
   "cell_type": "markdown",
   "metadata": {
    "collapsed": false
   },
   "source": [
    "Not a perfect result but the acceptable one."
   ]
  },
  {
   "cell_type": "markdown",
   "metadata": {
    "collapsed": false
   },
   "source": [
    "# Linear regression for red_wine dataset\n",
    "Splitting dataframe to train and test subsets"
   ]
  },
  {
   "cell_type": "code",
   "execution_count": null,
   "metadata": {},
   "outputs": [],
   "source": [
    "# Set feature and target subsets\n",
    "red_wine_features = red_wine.iloc[:, :-1]\n",
    "red_wine_target = red_wine.iloc[:, -1]\n",
    "\n",
    "# Get split subsets\n",
    "X_train, X_test, y_train, y_test = model_selection.train_test_split(\n",
    "    red_wine_features, red_wine_target, test_size=0.3, random_state=100\n",
    ")"
   ]
  },
  {
   "cell_type": "markdown",
   "metadata": {
    "collapsed": false
   },
   "source": [
    "Scale features"
   ]
  },
  {
   "cell_type": "code",
   "execution_count": null,
   "metadata": {},
   "outputs": [],
   "source": [
    "# Get scaler\n",
    "red_wine_scaler = preprocessing.StandardScaler()\n",
    "\n",
    "# Train scaler\n",
    "red_wine_X_train_scaled = red_wine_scaler.fit_transform(X_train)\n",
    "# Scale test data\n",
    "red_wine_X_test_scaled = red_wine_scaler.fit_transform(X_test)"
   ]
  },
  {
   "cell_type": "markdown",
   "metadata": {
    "collapsed": false
   },
   "source": [
    "Check if split target data is balanced"
   ]
  },
  {
   "cell_type": "code",
   "execution_count": null,
   "metadata": {},
   "outputs": [],
   "source": [
    "# Get DataFrame from Series object\n",
    "train_df = pd.DataFrame(y_train, columns=[\"quality\"])\n",
    "\n",
    "# Create a count plot for the DataFrame column\n",
    "plt.figure(figsize=(8, 6))\n",
    "sns.countplot(x=\"quality\", data=train_df)\n",
    "plt.title(\"Count plot for train_df\")\n",
    "plt.show()\n",
    "\n",
    "# Get portions\n",
    "y_train.value_counts(normalize=True)"
   ]
  },
  {
   "cell_type": "markdown",
   "metadata": {
    "collapsed": false
   },
   "source": [
    "Repeat for test subset"
   ]
  },
  {
   "cell_type": "code",
   "execution_count": null,
   "metadata": {},
   "outputs": [],
   "source": [
    "# Get DataFrame from Series object\n",
    "test_df = pd.DataFrame(y_test, columns=[\"quality\"])\n",
    "\n",
    "# Create a count plot for the DataFrame column\n",
    "plt.figure(figsize=(8, 6))\n",
    "sns.countplot(x=\"quality\", data=test_df)\n",
    "plt.title(\"Count plot for test_df\")\n",
    "plt.show()\n",
    "\n",
    "# Get portions\n",
    "y_test.value_counts(normalize=True)"
   ]
  },
  {
   "cell_type": "markdown",
   "metadata": {
    "collapsed": false
   },
   "source": [
    "Figures and portion values show balansed status."
   ]
  },
  {
   "cell_type": "markdown",
   "metadata": {
    "collapsed": false
   },
   "source": [
    "Get linear regression"
   ]
  },
  {
   "cell_type": "code",
   "execution_count": null,
   "metadata": {},
   "outputs": [],
   "source": [
    "# Get regression object\n",
    "red_wine_reg = linear_model.LinearRegression()\n",
    "\n",
    "# Get cross-validation results\n",
    "cross_validation_score = model_selection.cross_val_score(\n",
    "    red_wine_reg, red_wine_X_train_scaled, y_train, cv=5\n",
    ")\n",
    "\n",
    "# Get fit\n",
    "red_wine_reg.fit(red_wine_X_train_scaled, y_train)\n",
    "\n",
    "# Get train score\n",
    "red_wine_train_score = red_wine_reg.score(red_wine_X_train_scaled, y_train)\n",
    "# Geet test score\n",
    "red_wine_test_score = red_wine_reg.score(red_wine_X_test_scaled, y_test)\n",
    "\n",
    "print(f\"Cross validation score: {cross_validation_score[:]}.\")\n",
    "print(f\"Train score: {red_wine_train_score:.2f}.\")\n",
    "print(f\"Test score: {red_wine_test_score:.2f}.\")"
   ]
  },
  {
   "cell_type": "markdown",
   "metadata": {
    "collapsed": false
   },
   "source": [
    "Model looks stable\n",
    "\n",
    "Let's evaluate model"
   ]
  },
  {
   "cell_type": "code",
   "execution_count": null,
   "metadata": {},
   "outputs": [],
   "source": [
    "# Get metrics for fit model\n",
    "def evaluate_model(\n",
    "    model: LinearRegressionModel,\n",
    "    x_train: StandardScaler,\n",
    "    x_test: StandardScaler,\n",
    "    y_train: StandardScaler,\n",
    "    y_test: StandardScaler,\n",
    ") -> Dict[str, float]:\n",
    "    y_train_predicted = model.predict(x_train)\n",
    "    y_test_predicted = model.predict(x_test)\n",
    "\n",
    "    # Get mean square metrics\n",
    "    mse_train = metrics.mean_squared_error(y_train, y_train_predicted)\n",
    "    mse_test = metrics.mean_squared_error(y_test, y_test_predicted)\n",
    "\n",
    "    # Get RMS metrics\n",
    "    rmse_train = metrics.mean_squared_error(y_train, y_train_predicted, squared=False)\n",
    "    rmse_test = metrics.mean_squared_error(y_test, y_test_predicted, squared=False)\n",
    "\n",
    "    return {\n",
    "        \"MSE trained\": round(mse_train, 3),\n",
    "        \"MSE tested\": round(mse_test, 3),\n",
    "        \"RMSE trained\": round(rmse_train, 3),\n",
    "        \"RMSE tested\": round(rmse_test, 3),\n",
    "    }\n",
    "\n",
    "\n",
    "# Get metrics for red wine model\n",
    "evaluate_model(\n",
    "    red_wine_reg, red_wine_X_train_scaled, red_wine_X_test_scaled, y_train, y_test\n",
    ")"
   ]
  },
  {
   "cell_type": "markdown",
   "metadata": {
    "collapsed": false
   },
   "source": [
    "Trained and test metrics look quite similar. Let's visualize errors."
   ]
  },
  {
   "cell_type": "code",
   "execution_count": null,
   "metadata": {},
   "outputs": [],
   "source": [
    "# Get density plot\n",
    "sns.kdeplot(y_test, fill=True, color=\"r\", label=\"test subset\")\n",
    "sns.kdeplot(\n",
    "    red_wine_reg.predict(red_wine_X_test_scaled),\n",
    "    fill=True,\n",
    "    color=\"b\",\n",
    "    label=\"predicted\",\n",
    ")\n",
    "plt.title(\"Distribution of observations in test dataset and and predicted dataset\")\n",
    "plt.legend();"
   ]
  },
  {
   "cell_type": "markdown",
   "metadata": {
    "collapsed": false
   },
   "source": [
    "There are regions under 4 and above 8 quality grade which is not covered by model. It's suspected that the reason is the presence of out-layers in the dataset."
   ]
  },
  {
   "cell_type": "markdown",
   "metadata": {
    "collapsed": false
   },
   "source": [
    "# Linear regression for white_wine dataset\n",
    "Splitting dataframe to train and test subsets"
   ]
  },
  {
   "cell_type": "code",
   "execution_count": null,
   "metadata": {},
   "outputs": [],
   "source": [
    "# Set feature and target subsets\n",
    "white_wine_features = white_wine_ordered.iloc[:, :-1]\n",
    "white_wine_target = white_wine_ordered.iloc[:, -1]\n",
    "\n",
    "# Get split subsets\n",
    "X_train, X_test, y_train, y_test = model_selection.train_test_split(\n",
    "    white_wine_features, white_wine_target, test_size=0.3, random_state=100\n",
    ")"
   ]
  },
  {
   "cell_type": "markdown",
   "metadata": {
    "collapsed": false
   },
   "source": [
    "Scale features"
   ]
  },
  {
   "cell_type": "code",
   "execution_count": null,
   "metadata": {},
   "outputs": [],
   "source": [
    "# Get scaler\n",
    "white_wine_scaler = preprocessing.StandardScaler()\n",
    "\n",
    "# Train scaler\n",
    "white_wine_X_train_scaled = white_wine_scaler.fit_transform(X_train)\n",
    "# Scale test data\n",
    "white_wine_X_test_scaled = white_wine_scaler.fit_transform(X_test)"
   ]
  },
  {
   "cell_type": "markdown",
   "metadata": {
    "collapsed": false
   },
   "source": [
    "Check if split target data is balanced"
   ]
  },
  {
   "cell_type": "code",
   "execution_count": null,
   "metadata": {},
   "outputs": [],
   "source": [
    "# Get DataFrame from Series object\n",
    "train_df = pd.DataFrame(y_train, columns=[\"quality\"])\n",
    "\n",
    "# Create a count plot for the DataFrame column\n",
    "plt.figure(figsize=(8, 6))\n",
    "sns.countplot(x=\"quality\", data=train_df)\n",
    "plt.title(\"Count plot for train_df\")\n",
    "plt.show()\n",
    "\n",
    "# Get portions\n",
    "y_train.value_counts(normalize=True)\n",
    "\n",
    "# train_df"
   ]
  },
  {
   "cell_type": "markdown",
   "metadata": {
    "collapsed": false
   },
   "source": [
    "Repeat for test subset"
   ]
  },
  {
   "cell_type": "code",
   "execution_count": null,
   "metadata": {},
   "outputs": [],
   "source": [
    "# Get DataFrame from Series object\n",
    "test_df = pd.DataFrame(y_test, columns=[\"quality\"])\n",
    "\n",
    "# Create a count plot for the DataFrame column\n",
    "plt.figure(figsize=(8, 6))\n",
    "sns.countplot(x=\"quality\", data=test_df)\n",
    "plt.title(\"Count plot for test_df\")\n",
    "plt.show()\n",
    "\n",
    "# Get portions\n",
    "y_test.value_counts(normalize=True)"
   ]
  },
  {
   "cell_type": "markdown",
   "metadata": {
    "collapsed": false
   },
   "source": [
    "Figures and portion values show balanced status."
   ]
  },
  {
   "cell_type": "markdown",
   "metadata": {
    "collapsed": false
   },
   "source": [
    "Get linear regression"
   ]
  },
  {
   "cell_type": "code",
   "execution_count": null,
   "metadata": {},
   "outputs": [],
   "source": [
    "# Get regression object\n",
    "white_wine_reg = linear_model.LinearRegression()\n",
    "\n",
    "# Get cross-validation results\n",
    "cross_validation_score = model_selection.cross_val_score(\n",
    "    white_wine_reg, white_wine_X_train_scaled, y_train, cv=5\n",
    ")\n",
    "\n",
    "print(f\"Cross validation score: {cross_validation_score[:]}\")\n",
    "\n",
    "# Get fit\n",
    "white_wine_reg.fit(white_wine_X_train_scaled, y_train)\n",
    "\n",
    "# Get train score\n",
    "white_wine_train_score = white_wine_reg.score(white_wine_X_train_scaled, y_train)\n",
    "\n",
    "# Geet test score\n",
    "white_wine_test_score = white_wine_reg.score(white_wine_X_test_scaled, y_test)\n",
    "\n",
    "print(f\"Train score: {white_wine_train_score:.2f}\")\n",
    "print(f\"Test score: {white_wine_test_score:.2f}\")"
   ]
  },
  {
   "cell_type": "markdown",
   "metadata": {
    "collapsed": false
   },
   "source": [
    "Model looks stable\n",
    "\n",
    "Let's evaluate model"
   ]
  },
  {
   "cell_type": "code",
   "execution_count": null,
   "metadata": {},
   "outputs": [],
   "source": [
    "# Evaluate model\n",
    "evaluate_model(\n",
    "    white_wine_reg, white_wine_X_train_scaled, white_wine_X_test_scaled, y_train, y_test\n",
    ")"
   ]
  },
  {
   "cell_type": "markdown",
   "metadata": {
    "collapsed": false
   },
   "source": [
    "Trained and test metrics look quite similar. Let's visualize errors."
   ]
  },
  {
   "cell_type": "code",
   "execution_count": null,
   "metadata": {},
   "outputs": [],
   "source": [
    "# Get density plot\n",
    "sns.kdeplot(y_test, fill=True, color=\"r\", label=\"test subset\")\n",
    "sns.kdeplot(\n",
    "    white_wine_reg.predict(white_wine_X_test_scaled),\n",
    "    fill=True,\n",
    "    color=\"b\",\n",
    "    label=\"predicted\",\n",
    ")\n",
    "plt.title(\"Distribution of observations in test dataset and and predicted dataset\")\n",
    "plt.legend();"
   ]
  },
  {
   "cell_type": "markdown",
   "metadata": {
    "collapsed": false
   },
   "source": [
    "There are regions under 4 and above 8 quality grade which is not covered by model. It's suspected that the reason is the presence of out-layers in the dataset."
   ]
  },
  {
   "cell_type": "markdown",
   "metadata": {
    "collapsed": false
   },
   "source": [
    "# Summary\n",
    "1. Both datasets were analysed and correlating features were combined to new feature.\n",
    "2. Both regression models (for red and white wine) were successfully trained.\n",
    "3. Values of the coefficient of determination for both models are relatively low (0,24 - 0.38) that would come from the out-layers in datasets.\n",
    "4. Out-layer detection and cleaning is required to get models improved."
   ]
  }
 ],
 "metadata": {
  "kernelspec": {
   "display_name": "Python 3",
   "language": "python",
   "name": "python3"
  },
  "language_info": {
   "codemirror_mode": {
    "name": "ipython",
    "version": 2
   },
   "file_extension": ".py",
   "mimetype": "text/x-python",
   "name": "python",
   "nbconvert_exporter": "python",
   "pygments_lexer": "ipython2",
   "version": "2.7.6"
  }
 },
 "nbformat": 4,
 "nbformat_minor": 0
}
