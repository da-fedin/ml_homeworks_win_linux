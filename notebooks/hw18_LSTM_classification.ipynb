{
 "cells": [
  {
   "cell_type": "markdown",
   "id": "148950651412c229",
   "metadata": {
    "collapsed": false
   },
   "source": [
    "# Import dependencies"
   ]
  },
  {
   "cell_type": "code",
   "execution_count": null,
   "id": "e7e1ede2c2c2ef21",
   "metadata": {
    "ExecuteTime": {
     "end_time": "2024-02-17T20:35:03.139147400Z",
     "start_time": "2024-02-17T20:35:03.051574800Z"
    }
   },
   "outputs": [],
   "source": [
    "# To mute annoying warnings in notebook\n",
    "import warnings\n",
    "import time\n",
    "from datetime import datetime\n",
    "\n",
    "# For data science\n",
    "import pandas as pd\n",
    "import keras\n",
    "from keras import layers\n",
    "from keras.preprocessing.text import Tokenizer\n",
    "from sklearn.model_selection import train_test_split\n",
    "from keras.preprocessing.sequence import pad_sequences\n",
    "from keras.callbacks import EarlyStopping, TerminateOnNaN, ProgbarLogger, TensorBoard, LearningRateScheduler\n",
    "\n",
    "# For graph\n",
    "import seaborn as sns\n",
    "import matplotlib.pyplot as plt\n",
    "\n",
    "warnings.filterwarnings(\"ignore\")"
   ]
  },
  {
   "cell_type": "markdown",
   "id": "196ed05b4a8634ed",
   "metadata": {
    "collapsed": false
   },
   "source": [
    "# Getting data, observations\n",
    "Get dataset"
   ]
  },
  {
   "cell_type": "code",
   "execution_count": null,
   "id": "51e0c1971244b6b6",
   "metadata": {
    "ExecuteTime": {
     "end_time": "2024-02-17T20:35:04.107720800Z",
     "start_time": "2024-02-17T20:35:03.145484200Z"
    }
   },
   "outputs": [],
   "source": [
    "# Get dataset from file\n",
    "df = pd.read_csv(\n",
    "    f\"../data/IMDB_Dataset.csv\",\n",
    ")\n",
    "\n",
    "# Show dataset head\n",
    "df.head()"
   ]
  },
  {
   "cell_type": "markdown",
   "id": "1f3f0f15ea5bf2b7",
   "metadata": {
    "collapsed": false
   },
   "source": [
    "Tokenize text."
   ]
  },
  {
   "cell_type": "code",
   "execution_count": null,
   "id": "ca21c0bcc36c60a1",
   "metadata": {
    "ExecuteTime": {
     "end_time": "2024-02-17T20:35:20.311827800Z",
     "start_time": "2024-02-17T20:35:04.110776700Z"
    }
   },
   "outputs": [],
   "source": [
    "# Tokenization\n",
    "tokenizer = Tokenizer(num_words=5000)  # Set maximum number of words to keep\n",
    "tokenizer.fit_on_texts(df['review'])  # Fit tokenizer on the reviews\n",
    "sequences = tokenizer.texts_to_sequences(df['review'])  # Convert text to sequences of word indices"
   ]
  },
  {
   "cell_type": "markdown",
   "id": "f929b67f6b8d977e",
   "metadata": {
    "collapsed": false
   },
   "source": [
    "Set crop parameters for words."
   ]
  },
  {
   "cell_type": "code",
   "execution_count": null,
   "id": "initial_id",
   "metadata": {
    "ExecuteTime": {
     "end_time": "2024-02-17T20:35:20.323674700Z",
     "start_time": "2024-02-17T20:35:20.315610200Z"
    }
   },
   "outputs": [],
   "source": [
    "max_features = 20000  # Only consider the top 20k words\n",
    "max_length = 200"
   ]
  },
  {
   "cell_type": "markdown",
   "id": "39ba3f611bb260cc",
   "metadata": {
    "collapsed": false
   },
   "source": [
    "Ensure that all sequences in a dataset have the same length by padding or truncating them as needed."
   ]
  },
  {
   "cell_type": "code",
   "execution_count": null,
   "id": "ed6195b158bb6e12",
   "metadata": {
    "ExecuteTime": {
     "end_time": "2024-02-17T20:35:20.938424500Z",
     "start_time": "2024-02-17T20:35:20.322594900Z"
    }
   },
   "outputs": [],
   "source": [
    "padded_sequences = pad_sequences(\n",
    "    sequences=sequences,\n",
    "    maxlen=max_length,\n",
    "    padding='post',\n",
    ")"
   ]
  },
  {
   "cell_type": "markdown",
   "id": "e5f0a3449b8694e5",
   "metadata": {
    "collapsed": false
   },
   "source": [
    "Code labels."
   ]
  },
  {
   "cell_type": "code",
   "execution_count": null,
   "id": "45f2215bdbbd8f1d",
   "metadata": {
    "ExecuteTime": {
     "end_time": "2024-02-17T20:35:20.955483900Z",
     "start_time": "2024-02-17T20:35:20.940533200Z"
    }
   },
   "outputs": [],
   "source": [
    "df['sentiment'] = df['sentiment'].map({'positive': 1, 'negative': 0})"
   ]
  },
  {
   "cell_type": "markdown",
   "id": "7da6cc529dfc12d7",
   "metadata": {
    "collapsed": false
   },
   "source": [
    "Split dataframe to train and test data."
   ]
  },
  {
   "cell_type": "code",
   "execution_count": null,
   "id": "86659c5ba1998808",
   "metadata": {
    "ExecuteTime": {
     "end_time": "2024-02-17T20:35:20.992692Z",
     "start_time": "2024-02-17T20:35:20.952249400Z"
    }
   },
   "outputs": [],
   "source": [
    "# Get split subsets\n",
    "X_train, X_test, y_train, y_test = train_test_split(\n",
    "    padded_sequences,\n",
    "    df['sentiment'],\n",
    "    test_size=0.3,\n",
    "    random_state=42\n",
    ")"
   ]
  },
  {
   "cell_type": "markdown",
   "id": "7f7ce6efa1d38d9c",
   "metadata": {
    "collapsed": false
   },
   "source": [
    "Instantiate a Keras tensor."
   ]
  },
  {
   "cell_type": "code",
   "execution_count": null,
   "id": "af2c54d80d5336f5",
   "metadata": {
    "ExecuteTime": {
     "end_time": "2024-02-17T20:35:20.993769600Z",
     "start_time": "2024-02-17T20:35:20.982651100Z"
    }
   },
   "outputs": [],
   "source": [
    "# Input layer\n",
    "inputs = keras.Input(\n",
    "    shape=(None,),\n",
    "    dtype=\"int32\",\n",
    ")"
   ]
  },
  {
   "cell_type": "markdown",
   "id": "866587243e707167",
   "metadata": {
    "collapsed": false
   },
   "source": [
    "Turn positive integers (indexes) into dense vectors of fixed size."
   ]
  },
  {
   "cell_type": "code",
   "execution_count": null,
   "id": "d9100431a0b77226",
   "metadata": {
    "ExecuteTime": {
     "end_time": "2024-02-17T20:35:21.037957200Z",
     "start_time": "2024-02-17T20:35:20.992692Z"
    }
   },
   "outputs": [],
   "source": [
    "# Embedding Layer\n",
    "x = layers.Embedding(\n",
    "    input_dim=max_features,\n",
    "    output_dim=128\n",
    ")(inputs)"
   ]
  },
  {
   "cell_type": "markdown",
   "id": "e82729e48528a37c",
   "metadata": {
    "collapsed": false
   },
   "source": [
    "Set layers."
   ]
  },
  {
   "cell_type": "code",
   "execution_count": null,
   "id": "54bedcae7fb78751",
   "metadata": {
    "ExecuteTime": {
     "end_time": "2024-02-17T20:35:22.239220700Z",
     "start_time": "2024-02-17T20:35:21.031490500Z"
    }
   },
   "outputs": [],
   "source": [
    "# First Bidirectional LSTM\n",
    "x = layers.Bidirectional(\n",
    "    layers.LSTM(\n",
    "        units=64,\n",
    "        return_sequences=True,\n",
    "    )\n",
    ")(x)\n",
    "\n",
    "# Second Bidirectional LSTM\n",
    "x = layers.Bidirectional(layers.LSTM(64))(x)\n",
    "\n",
    "# Dense (Fully Connected) Layer\n",
    "outputs = layers.Dense(\n",
    "    units=1,\n",
    "    activation=\"sigmoid\",\n",
    ")(x)\n",
    "\n",
    "model = keras.Model(inputs, outputs)\n",
    "\n",
    "model.summary()"
   ]
  },
  {
   "cell_type": "markdown",
   "id": "c07ff8736483a4d",
   "metadata": {
    "collapsed": false
   },
   "source": [
    "Set callbacks."
   ]
  },
  {
   "cell_type": "code",
   "execution_count": null,
   "id": "becb7f2fccdcbccb",
   "metadata": {
    "ExecuteTime": {
     "end_time": "2024-02-17T20:35:22.283534600Z",
     "start_time": "2024-02-17T20:35:22.241387100Z"
    }
   },
   "outputs": [],
   "source": [
    "# Get time log\n",
    "logs = \"logs/\" + datetime.now().strftime(\"%Y%m%d-%H%M%S\")\n",
    "\n",
    "# Get TensorBoard \n",
    "tboard_callback = TensorBoard(\n",
    "    log_dir = logs,\n",
    "    histogram_freq = 1,\n",
    "    profile_batch = '500,520'\n",
    ")\n",
    "\n",
    "# Define early stopping callback\n",
    "early_stopping = EarlyStopping(\n",
    "    monitor='val_loss',  # Monitor validation loss\n",
    "    patience=2,          # Number of epochs with no improvement after which training will be stopped\n",
    "    restore_best_weights=False  # Restore weights from the epoch with the best validation loss\n",
    ")\n",
    "# Define terminate if Nan result appeared\n",
    "terminate_on_nan = TerminateOnNaN()\n",
    "\n",
    "# Define progress bar with metrics\n",
    "progbar_logger = ProgbarLogger(\n",
    "    count_mode=\"samples\",\n",
    "    stateful_metrics=['acc'],\n",
    ")\n",
    "\n",
    "# Define a learning rate scheduler function\n",
    "def lr_scheduler(epoch, lr):\n",
    "    decay_rate = 0.01\n",
    "    decay_step = 1\n",
    "    if epoch % decay_step == 0 and epoch:\n",
    "        return lr * decay_rate\n",
    "    return lr\n",
    "\n",
    "# Define a learning rate scheduler callback\n",
    "lr_scheduler_callback = LearningRateScheduler(lr_scheduler)"
   ]
  },
  {
   "cell_type": "markdown",
   "id": "7c3b749a2a857c8e",
   "metadata": {
    "collapsed": false
   },
   "source": [
    "Compile model."
   ]
  },
  {
   "cell_type": "code",
   "execution_count": null,
   "id": "abe96895581dd0c1",
   "metadata": {
    "ExecuteTime": {
     "end_time": "2024-02-17T20:35:22.285656100Z",
     "start_time": "2024-02-17T20:35:22.248160400Z"
    }
   },
   "outputs": [],
   "source": [
    "start_time = time.time()\n",
    "\n",
    "model.compile(\n",
    "    optimizer=\"adam\",\n",
    "    loss=\"binary_crossentropy\",\n",
    "    metrics=[\"accuracy\"],\n",
    ")"
   ]
  },
  {
   "cell_type": "markdown",
   "id": "db7bb7b2879b5d41",
   "metadata": {
    "collapsed": false
   },
   "source": [
    "Fit model."
   ]
  },
  {
   "cell_type": "code",
   "execution_count": null,
   "id": "53066145fd61b545",
   "metadata": {
    "ExecuteTime": {
     "end_time": "2024-02-17T21:00:37.385518600Z",
     "start_time": "2024-02-17T20:35:22.274961400Z"
    }
   },
   "outputs": [],
   "source": [
    "# Get fit object to invoke them.\n",
    "history = model.fit(\n",
    "    x=X_train,\n",
    "    y=y_train,\n",
    "    batch_size=32,\n",
    "    epochs=5,\n",
    "    validation_data=(X_test, y_test),\n",
    "    callbacks = [\n",
    "        early_stopping,\n",
    "        terminate_on_nan,\n",
    "        progbar_logger,\n",
    "        lr_scheduler_callback,\n",
    "        tboard_callback,\n",
    "    ],\n",
    ")\n",
    "\n",
    "print(f\"--- {((time.time() - start_time)):.2f} seconds ---\")"
   ]
  },
  {
   "cell_type": "markdown",
   "id": "2521a5e17ed50168",
   "metadata": {
    "collapsed": false
   },
   "source": [
    "# Result visualization\n",
    "## Get tensorboard"
   ]
  },
  {
   "cell_type": "code",
   "execution_count": null,
   "id": "c15d544ce73bf074",
   "metadata": {
    "ExecuteTime": {
     "end_time": "2024-02-17T21:00:37.412180800Z",
     "start_time": "2024-02-17T21:00:37.382283200Z"
    }
   },
   "outputs": [],
   "source": [
    "%load_ext tensorboard\n",
    "\n",
    "# Launch TensorBoard and navigate to the Profile tab to view performance profile\n",
    "%tensorboard --logdir=logs --port=0\n"
   ]
  },
  {
   "cell_type": "markdown",
   "id": "a82a58e20bb3ede2",
   "metadata": {
    "collapsed": false
   },
   "source": [
    "Scalars trends are quite representative."
   ]
  },
  {
   "cell_type": "markdown",
   "id": "cf59cd58513621c3",
   "metadata": {
    "collapsed": false
   },
   "source": [
    "# Get graph\n",
    "## We can get loss as a trend."
   ]
  },
  {
   "cell_type": "code",
   "execution_count": null,
   "id": "f7752feda4480847",
   "metadata": {
    "ExecuteTime": {
     "end_time": "2024-02-17T21:01:19.583804500Z",
     "start_time": "2024-02-17T21:00:37.408959400Z"
    }
   },
   "outputs": [],
   "source": [
    "# Plot train loss\n",
    "sns.lineplot(\n",
    "    x=range(1, len(history.history['loss']) + 1),\n",
    "    y=history.history['loss'],\n",
    "    label='Train'\n",
    ")\n",
    "\n",
    "# Plot validation loss\n",
    "sns.lineplot(\n",
    "    x=range(1, len(history.history['val_loss']) + 1),\n",
    "    y=history.history['val_loss'],\n",
    "    label='Test'\n",
    ")\n",
    "\n",
    "plt.title('Model loss')\n",
    "plt.ylabel('Loss')\n",
    "plt.xlabel('Epoch')\n",
    "plt.legend(loc='upper right')\n",
    "\n",
    "# Evaluate the model\n",
    "test_loss, test_acc = model.evaluate(X_test, y_test)\n",
    "print(f'Test accuracy: {test_acc: .2f}')"
   ]
  },
  {
   "cell_type": "markdown",
   "id": "282f4a97a1427b20",
   "metadata": {
    "collapsed": false
   },
   "source": [
    "Looks like model is trained well."
   ]
  },
  {
   "cell_type": "markdown",
   "id": "912fb4d7fbc3f3a5",
   "metadata": {
    "collapsed": false
   },
   "source": [
    "# Summary\n",
    "1. LSTM RNN used for classification.\n",
    "2. Model shows good performance.\n",
    "3. Model hyperparameters seemed to be optimized further."
   ]
  }
 ],
 "metadata": {
  "kernelspec": {
   "display_name": "Python 3",
   "language": "python",
   "name": "python3"
  },
  "language_info": {
   "codemirror_mode": {
    "name": "ipython",
    "version": 2
   },
   "file_extension": ".py",
   "mimetype": "text/x-python",
   "name": "python",
   "nbconvert_exporter": "python",
   "pygments_lexer": "ipython2",
   "version": "2.7.6"
  }
 },
 "nbformat": 4,
 "nbformat_minor": 5
}
