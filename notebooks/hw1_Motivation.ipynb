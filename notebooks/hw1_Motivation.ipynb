{
 "cells": [
  {
   "cell_type": "markdown",
   "id": "7de4b03799b1186",
   "metadata": {
    "collapsed": false
   },
   "source": [
    "# Why I chose the \"Machine Learning\" course and what are my expectations.\n",
    "\n",
    "I am an engineer specializing in modeling mechanical processes. Python is a programming language that significantly expands the capabilities of existing software by implementing new calculation and data processing techniques and algorithms. Modern specialists are particularly interested in Python’s capabilities in the field of Artificial Intelligence, including Machine Learning. Therefore, after completing the 'Python Pro' course, I decided to continue expanding my knowledge and practical skills by mastering the capabilities of Artificial Intelligence with Python.\n",
    "\n",
    "Machine Learning is known for its ability to predict phenomena based on the analysis of data with complex relationships, which opens up opportunities to increase the efficiency of engineering modeling by predicting complex material characteristics and optimizing designs. It allows for faster calculations by using 'hybrid' models that combine physical laws with Machine Learning methods. From the 'Machine Learning' course, I expect to gain knowledge and skills that will enable me to choose and effectively use Machine Learning methods in practical activities.\n",
    "\n",
    "... and once again, let's mention linear algebra :))) ..."
   ]
  }
 ],
 "metadata": {
  "kernelspec": {
   "display_name": "Python 3",
   "language": "python",
   "name": "python3"
  },
  "language_info": {
   "codemirror_mode": {
    "name": "ipython",
    "version": 2
   },
   "file_extension": ".py",
   "mimetype": "text/x-python",
   "name": "python",
   "nbconvert_exporter": "python",
   "pygments_lexer": "ipython2",
   "version": "2.7.6"
  }
 },
 "nbformat": 4,
 "nbformat_minor": 5
}
