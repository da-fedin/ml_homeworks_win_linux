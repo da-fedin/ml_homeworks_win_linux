{
 "cells": [
  {
   "cell_type": "markdown",
   "metadata": {
    "collapsed": false
   },
   "source": [
    "# Import dependencies"
   ]
  },
  {
   "cell_type": "code",
   "execution_count": null,
   "metadata": {
    "ExecuteTime": {
     "end_time": "2024-02-24T17:24:39.472726Z",
     "start_time": "2024-02-24T17:24:39.385215800Z"
    },
    "execution": {
     "iopub.execute_input": "2024-01-31T13:54:03.709517Z",
     "iopub.status.busy": "2024-01-31T13:54:03.707453Z",
     "iopub.status.idle": "2024-01-31T13:54:03.724775Z",
     "shell.execute_reply": "2024-01-31T13:54:03.723094Z"
    }
   },
   "outputs": [],
   "source": [
    "# To mute annoying warnings in notebook\n",
    "import warnings\n",
    "\n",
    "# For datascience\n",
    "import numpy as np\n",
    "import pandas as pd\n",
    "\n",
    "# For graph\n",
    "import matplotlib.pyplot as plt\n",
    "\n",
    "# To create iterators\n",
    "import itertools\n",
    "\n",
    "from prophet import Prophet\n",
    "from prophet.plot import (\n",
    "    plot_plotly,\n",
    "    add_changepoints_to_plot,\n",
    "    plot_cross_validation_metric,\n",
    ")\n",
    "from prophet.diagnostics import cross_validation, performance_metrics\n",
    "from datetime import timedelta\n",
    "\n",
    "warnings.filterwarnings(\"ignore\")"
   ]
  },
  {
   "cell_type": "markdown",
   "metadata": {
    "collapsed": false
   },
   "source": [
    "# Getting data, observations\n",
    "## Get dataset"
   ]
  },
  {
   "cell_type": "code",
   "execution_count": null,
   "metadata": {
    "ExecuteTime": {
     "end_time": "2024-02-24T17:24:39.517976700Z",
     "start_time": "2024-02-24T17:24:39.475796900Z"
    }
   },
   "outputs": [],
   "source": [
    "# Get dataset from file\n",
    "df = pd.read_csv(\n",
    "    \"../data/T10Y2Y.csv\",\n",
    ")\n",
    "\n",
    "# Show dataset head\n",
    "df.head()"
   ]
  },
  {
   "cell_type": "code",
   "execution_count": null,
   "metadata": {
    "ExecuteTime": {
     "end_time": "2024-02-24T17:24:39.519083200Z",
     "start_time": "2024-02-24T17:24:39.502773300Z"
    }
   },
   "outputs": [],
   "source": [
    "# Get dataset info\n",
    "df.info()"
   ]
  },
  {
   "cell_type": "code",
   "execution_count": null,
   "metadata": {
    "ExecuteTime": {
     "end_time": "2024-02-24T17:24:39.574496Z",
     "start_time": "2024-02-24T17:24:39.519083200Z"
    }
   },
   "outputs": [],
   "source": [
    "# Get dataset statistics\n",
    "df.describe()"
   ]
  },
  {
   "cell_type": "markdown",
   "metadata": {
    "collapsed": false
   },
   "source": [
    "# Prophet\n",
    "## Linear model\n",
    "Dataset has invalid items. Drop them."
   ]
  },
  {
   "cell_type": "code",
   "execution_count": null,
   "metadata": {
    "ExecuteTime": {
     "end_time": "2024-02-24T17:24:39.612556300Z",
     "start_time": "2024-02-24T17:24:39.541723200Z"
    }
   },
   "outputs": [],
   "source": [
    "# Replace '.' with NaN\n",
    "df.replace(\n",
    "    to_replace=\".\",\n",
    "    value=np.NaN,\n",
    "    inplace=True,\n",
    ")\n",
    "\n",
    "# Drop Nans\n",
    "df.dropna(\n",
    "    axis=0,\n",
    "    inplace=True,\n",
    ")\n",
    "\n",
    "# Show result\n",
    "df.describe()"
   ]
  },
  {
   "cell_type": "markdown",
   "metadata": {
    "collapsed": false
   },
   "source": [
    "Rename columns and set appropriate data types."
   ]
  },
  {
   "cell_type": "code",
   "execution_count": null,
   "metadata": {
    "ExecuteTime": {
     "end_time": "2024-02-24T17:24:39.676262300Z",
     "start_time": "2024-02-24T17:24:39.557783700Z"
    }
   },
   "outputs": [],
   "source": [
    "# Change column names\n",
    "df.columns = [\"ds\", \"y\"]\n",
    "\n",
    "# Set data type for y to float\n",
    "df.y = df.y.astype(float)\n",
    "\n",
    "# Set data type for tima as Timestamp\n",
    "df.ds = pd.to_datetime(df.ds)"
   ]
  },
  {
   "cell_type": "markdown",
   "metadata": {
    "collapsed": false
   },
   "source": [
    "Fit the model."
   ]
  },
  {
   "cell_type": "code",
   "execution_count": null,
   "metadata": {
    "ExecuteTime": {
     "end_time": "2024-02-24T17:24:40.442423500Z",
     "start_time": "2024-02-24T17:24:39.578761600Z"
    }
   },
   "outputs": [],
   "source": [
    "# Instantiating a new Prophet object\n",
    "model_linear = Prophet(\n",
    "    growth=\"linear\",\n",
    ")\n",
    "\n",
    "# Fit\n",
    "model_linear.fit(df);"
   ]
  },
  {
   "cell_type": "markdown",
   "metadata": {
    "collapsed": false
   },
   "source": [
    "Get a suitable dataframe that extends into the future a specified number of days."
   ]
  },
  {
   "cell_type": "code",
   "execution_count": null,
   "metadata": {
    "ExecuteTime": {
     "end_time": "2024-02-24T17:24:40.473142400Z",
     "start_time": "2024-02-24T17:24:40.444588200Z"
    }
   },
   "outputs": [],
   "source": [
    "# Get trend using the extrapolated generative model\n",
    "future = model_linear.make_future_dataframe(periods=365)\n",
    "\n",
    "# Show tail of trend\n",
    "future.tail()"
   ]
  },
  {
   "cell_type": "markdown",
   "metadata": {
    "collapsed": false
   },
   "source": [
    "Make prediction"
   ]
  },
  {
   "cell_type": "code",
   "execution_count": null,
   "metadata": {
    "ExecuteTime": {
     "end_time": "2024-02-24T17:24:40.792493600Z",
     "start_time": "2024-02-24T17:24:40.458174300Z"
    }
   },
   "outputs": [],
   "source": [
    "# Assign each row in future a predicted value - yhat\n",
    "forecast = model_linear.predict(future)\n",
    "\n",
    "# Get dataframe with predicted values, components and uncertainty intervals.\n",
    "forecast[[\"ds\", \"yhat\", \"yhat_lower\", \"yhat_upper\"]].tail()"
   ]
  },
  {
   "cell_type": "markdown",
   "metadata": {
    "collapsed": false
   },
   "source": [
    "Plot the forecast"
   ]
  },
  {
   "cell_type": "code",
   "execution_count": null,
   "metadata": {
    "ExecuteTime": {
     "end_time": "2024-02-24T17:24:42.603478900Z",
     "start_time": "2024-02-24T17:24:40.789278400Z"
    }
   },
   "outputs": [],
   "source": [
    "fig1 = model_linear.plot(\n",
    "    fcst=forecast,\n",
    "    xlabel=\"Time\",\n",
    "    ylabel=\"Yield predicted value\",\n",
    "    include_legend=True,\n",
    ")\n",
    "\n",
    "plt.title(\"Yield forecast\");"
   ]
  },
  {
   "cell_type": "markdown",
   "metadata": {
    "collapsed": false
   },
   "source": [
    "We see the century oscillation as well as year. Let's look closer."
   ]
  },
  {
   "cell_type": "code",
   "execution_count": null,
   "metadata": {
    "ExecuteTime": {
     "end_time": "2024-02-24T17:24:43.633991Z",
     "start_time": "2024-02-24T17:24:42.603478900Z"
    }
   },
   "outputs": [],
   "source": [
    "fig_interactive = plot_plotly(model_linear, forecast)\n",
    "\n",
    "# Update scatter trace to change color to white\n",
    "fig_interactive.update_traces(marker=dict(color=\"white\"))"
   ]
  },
  {
   "cell_type": "markdown",
   "metadata": {
    "collapsed": false
   },
   "source": [
    "Plot trend, holidays, weekly seasonality, and yearly seasonality."
   ]
  },
  {
   "cell_type": "code",
   "execution_count": null,
   "metadata": {
    "ExecuteTime": {
     "end_time": "2024-02-24T17:24:45.111262900Z",
     "start_time": "2024-02-24T17:24:43.441172500Z"
    }
   },
   "outputs": [],
   "source": [
    "# Show the forecast components.\n",
    "fig2 = model_linear.plot_components(\n",
    "    fcst=forecast,\n",
    "    plot_cap=True,\n",
    ")"
   ]
  },
  {
   "cell_type": "markdown",
   "metadata": {
    "collapsed": false
   },
   "source": [
    "Yield as a rule rise on weekends, significantly fall in the end of the summer. Moreover, we see global minimum in the begning of 2023."
   ]
  },
  {
   "cell_type": "markdown",
   "metadata": {
    "collapsed": false
   },
   "source": [
    "## Remove outliers\n",
    "\n",
    "Add change points"
   ]
  },
  {
   "cell_type": "code",
   "execution_count": null,
   "metadata": {
    "ExecuteTime": {
     "end_time": "2024-02-24T17:24:46.907080500Z",
     "start_time": "2024-02-24T17:24:45.113262300Z"
    }
   },
   "outputs": [],
   "source": [
    "# Locate and remove outliers\n",
    "df.loc[\n",
    "    (df[\"ds\"] > \"2023-10-05\") & (df[\"ds\"] < \"2023-11-16\"),\n",
    "    \"y\",\n",
    "] = None\n",
    "\n",
    "# Get new fit\n",
    "cleared_model = Prophet().fit(df)\n",
    "\n",
    "# Plot cleared data\n",
    "fig_cleared = cleared_model.plot(cleared_model.predict(future))"
   ]
  },
  {
   "cell_type": "markdown",
   "metadata": {
    "collapsed": false
   },
   "source": [
    "Forcast a bit straightened."
   ]
  },
  {
   "cell_type": "markdown",
   "metadata": {
    "collapsed": false
   },
   "source": [
    "## Find change points\n",
    "\n",
    "Add change points"
   ]
  },
  {
   "cell_type": "code",
   "execution_count": null,
   "metadata": {
    "ExecuteTime": {
     "end_time": "2024-02-24T17:24:47.682791Z",
     "start_time": "2024-02-24T17:24:46.910411700Z"
    }
   },
   "outputs": [],
   "source": [
    "# Make new figure\n",
    "change_points_figure = model_linear.plot(forecast)\n",
    "\n",
    "# Add change points based on threshold value\n",
    "a = add_changepoints_to_plot(\n",
    "    ax=change_points_figure.gca(),\n",
    "    m=model_linear,\n",
    "    fcst=forecast,\n",
    "    threshold=3,\n",
    ")"
   ]
  },
  {
   "cell_type": "markdown",
   "metadata": {
    "collapsed": false
   },
   "source": [
    "For the threshold value of 3 we get 3 clear trends."
   ]
  },
  {
   "cell_type": "markdown",
   "metadata": {
    "collapsed": false
   },
   "source": [
    "## Hyperparameter training\n",
    "\n",
    "Add change points"
   ]
  },
  {
   "cell_type": "code",
   "execution_count": null,
   "metadata": {
    "ExecuteTime": {
     "end_time": "2024-02-24T20:08:11.572723500Z",
     "start_time": "2024-02-24T20:07:10.783684300Z"
    }
   },
   "outputs": [],
   "source": [
    "df_cv = None\n",
    "\n",
    "# Get parameter grid\n",
    "param_grid = {\n",
    "    \"changepoint_prior_scale\": [0.001, 0.01, 0.1, 0.5],\n",
    "    \"seasonality_prior_scale\": [0.01, 0.1, 1.0, 10.0],\n",
    "}\n",
    "\n",
    "# Generate all combinations of parameters\n",
    "all_params = [\n",
    "    dict(zip(param_grid.keys(), v)) for v in itertools.product(*param_grid.values())\n",
    "]\n",
    "\n",
    "# Store the RMSEs for each params here\n",
    "rmses = []\n",
    "\n",
    "# Use cross validation to evaluate all parameters\n",
    "for params in all_params:\n",
    "    # Fit model with given params\n",
    "    model_grid = Prophet(**params).fit(df)\n",
    "\n",
    "    df_cv = cross_validation(\n",
    "        model=model_grid,\n",
    "        initial=\"730 days\",\n",
    "        period=\"365 days\",\n",
    "        horizon=\"365 days\",\n",
    "        parallel=\"processes\",\n",
    "    )\n",
    "\n",
    "    df_p = performance_metrics(\n",
    "        df=df_cv,\n",
    "        rolling_window=1,\n",
    "    )\n",
    "\n",
    "    rmses.append(df_p[\"rmse\"].values[0])\n",
    "\n",
    "# Find the best parameters\n",
    "tuning_results = pd.DataFrame(all_params)\n",
    "\n",
    "tuning_results[\"rmse\"] = rmses\n",
    "\n",
    "tuning_results"
   ]
  },
  {
   "cell_type": "code",
   "execution_count": null,
   "metadata": {
    "ExecuteTime": {
     "end_time": "2024-02-24T20:08:49.655814700Z",
     "start_time": "2024-02-24T20:08:49.340622100Z"
    }
   },
   "outputs": [],
   "source": [
    "best_params = all_params[np.argmin(rmses)]\n",
    "\n",
    "best_params"
   ]
  },
  {
   "cell_type": "code",
   "execution_count": null,
   "metadata": {
    "ExecuteTime": {
     "end_time": "2024-02-24T20:08:49.776190200Z",
     "start_time": "2024-02-24T20:08:49.598965Z"
    }
   },
   "outputs": [],
   "source": [
    "df_cv"
   ]
  },
  {
   "cell_type": "code",
   "execution_count": null,
   "metadata": {
    "ExecuteTime": {
     "end_time": "2024-02-24T20:14:50.130675Z",
     "start_time": "2024-02-24T20:14:49.548079700Z"
    }
   },
   "outputs": [],
   "source": [
    "if df_cv is not None:\n",
    "    try:\n",
    "        fig_cv_metrics = plot_cross_validation_metric(\n",
    "            df_cv=df_cv,\n",
    "            metric=\"rmse\",\n",
    "            rolling_window=0.1,\n",
    "        )\n",
    "\n",
    "    except Exception as e:\n",
    "        print(f\"Wrong TypeError: --- {e} --- Issue with function suspected.\")\n",
    "\n",
    "else:\n",
    "    print(\"df_cv is None\")"
   ]
  },
  {
   "cell_type": "markdown",
   "metadata": {
    "collapsed": false
   },
   "source": [
    "## Logistic model - Saturation\n",
    "\n",
    "Get sub-period to discover."
   ]
  },
  {
   "cell_type": "code",
   "execution_count": null,
   "metadata": {
    "ExecuteTime": {
     "end_time": "2024-02-24T20:13:12.423889900Z",
     "start_time": "2024-02-24T20:13:12.325152800Z"
    }
   },
   "outputs": [],
   "source": [
    "# Get current date\n",
    "current_datetime = pd.Timestamp.now()\n",
    "\n",
    "# Filter time period\n",
    "filtered_df = df[\n",
    "    (df[\"ds\"] > current_datetime - timedelta(days=3.95 * 365))\n",
    "    & (df[\"ds\"] < current_datetime - timedelta(days=3.85 * 365))\n",
    "]"
   ]
  },
  {
   "cell_type": "markdown",
   "metadata": {
    "collapsed": false
   },
   "source": [
    "Set logistic parameters."
   ]
  },
  {
   "cell_type": "code",
   "execution_count": null,
   "metadata": {
    "ExecuteTime": {
     "end_time": "2024-02-24T20:13:12.506378400Z",
     "start_time": "2024-02-24T20:13:12.375944800Z"
    }
   },
   "outputs": [],
   "source": [
    "# Set saturation\n",
    "saturation = 0.55\n",
    "\n",
    "# Add constant saturation values as a column\n",
    "filtered_df[\"cap\"] = saturation"
   ]
  },
  {
   "cell_type": "markdown",
   "metadata": {
    "collapsed": false
   },
   "source": [
    "Get logistic model."
   ]
  },
  {
   "cell_type": "code",
   "execution_count": null,
   "metadata": {
    "ExecuteTime": {
     "end_time": "2024-02-24T20:13:13.005846800Z",
     "start_time": "2024-02-24T20:13:12.499749700Z"
    }
   },
   "outputs": [],
   "source": [
    "# Get model with weekly oscillations dropped to have more smooth curve\n",
    "model_log = Prophet(\n",
    "    growth=\"logistic\",\n",
    "    weekly_seasonality=False,\n",
    ")\n",
    "\n",
    "# Fit model\n",
    "model_log.fit(filtered_df);"
   ]
  },
  {
   "cell_type": "markdown",
   "metadata": {
    "collapsed": false
   },
   "source": [
    "Make future dataframe."
   ]
  },
  {
   "cell_type": "code",
   "execution_count": null,
   "metadata": {
    "ExecuteTime": {
     "end_time": "2024-02-24T20:13:13.007975900Z",
     "start_time": "2024-02-24T20:13:12.857031600Z"
    }
   },
   "outputs": [],
   "source": [
    "# Get dataframe\n",
    "future_log = model_log.make_future_dataframe(periods=30)\n",
    "\n",
    "# Add saturation column to predicted dataframe\n",
    "future_log[\"cap\"] = saturation"
   ]
  },
  {
   "cell_type": "markdown",
   "metadata": {
    "collapsed": false
   },
   "source": [
    "Make prediction and plot."
   ]
  },
  {
   "cell_type": "code",
   "execution_count": null,
   "metadata": {
    "ExecuteTime": {
     "end_time": "2024-02-24T20:13:13.593823900Z",
     "start_time": "2024-02-24T20:13:12.865405500Z"
    }
   },
   "outputs": [],
   "source": [
    "# Predict\n",
    "forecast_log = model_log.predict(future_log)\n",
    "\n",
    "# Plot forecast\n",
    "fig_log = model_log.plot(\n",
    "    fcst=forecast_log,\n",
    "    include_legend=True,\n",
    ")\n",
    "\n",
    "plt.title(\"Prophet Logistic Growth Forecast\");"
   ]
  },
  {
   "cell_type": "markdown",
   "metadata": {
    "collapsed": false
   },
   "source": [
    "Yield value .8 is forcast in 1 month. Let's compare the result with real values"
   ]
  },
  {
   "cell_type": "code",
   "execution_count": null,
   "metadata": {
    "ExecuteTime": {
     "end_time": "2024-02-24T20:13:13.598766Z",
     "start_time": "2024-02-24T20:13:13.593823900Z"
    }
   },
   "outputs": [],
   "source": [
    "# Filter time period in original dataset\n",
    "filtered_df = df[\n",
    "    (df[\"ds\"] > current_datetime - timedelta(days=3.95 * 365))\n",
    "    & (df[\"ds\"] < current_datetime - timedelta(days=3.8 * 365))\n",
    "]"
   ]
  },
  {
   "cell_type": "code",
   "execution_count": null,
   "metadata": {
    "ExecuteTime": {
     "end_time": "2024-02-24T20:13:14.119693200Z",
     "start_time": "2024-02-24T20:13:13.601118500Z"
    }
   },
   "outputs": [],
   "source": [
    "# Plot data for period of forcast\n",
    "plot = filtered_df.plot(\n",
    "    x=\"ds\",\n",
    "    y=\"y\",\n",
    "    figsize=(10, 6),\n",
    "    grid=True,\n",
    ")\n",
    "\n",
    "constant_value = 0.55\n",
    "\n",
    "plt.axhline(\n",
    "    y=constant_value,\n",
    "    color=\"r\",\n",
    "    linestyle=\"--\",\n",
    ");"
   ]
  },
  {
   "cell_type": "markdown",
   "metadata": {
    "collapsed": false
   },
   "source": [
    "Logistic forcast is wrong. Real trand differs from forcast one."
   ]
  },
  {
   "cell_type": "markdown",
   "metadata": {
    "collapsed": false
   },
   "source": [
    "# Summary\n",
    "1. Prophet package used to discover example dataset on trends.\n",
    "2. Hyperparameters tuned.\n",
    "2. LogisiticRegression used to make the prediction"
   ]
  }
 ],
 "metadata": {
  "kernelspec": {
   "display_name": "Python 3",
   "language": "python",
   "name": "python3"
  },
  "language_info": {
   "codemirror_mode": {
    "name": "ipython",
    "version": 3
   },
   "file_extension": ".py",
   "mimetype": "text/x-python",
   "name": "python",
   "nbconvert_exporter": "python",
   "pygments_lexer": "ipython3",
   "version": "3.11.4"
  }
 },
 "nbformat": 4,
 "nbformat_minor": 0
}
