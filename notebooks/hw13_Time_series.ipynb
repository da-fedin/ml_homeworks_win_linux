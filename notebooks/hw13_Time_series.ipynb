{
 "cells": [
  {
   "cell_type": "markdown",
   "metadata": {
    "collapsed": false
   },
   "source": [
    "# Install requirements"
   ]
  },
  {
   "cell_type": "code",
   "execution_count": null,
   "metadata": {
    "ExecuteTime": {
     "end_time": "2024-02-02T13:06:44.785787205Z",
     "start_time": "2024-02-02T13:06:44.155772990Z"
    },
    "execution": {
     "iopub.execute_input": "2024-01-31T13:54:03.709517Z",
     "iopub.status.busy": "2024-01-31T13:54:03.707453Z",
     "iopub.status.idle": "2024-01-31T13:54:03.724775Z",
     "shell.execute_reply": "2024-01-31T13:54:03.723094Z"
    }
   },
   "outputs": [],
   "source": [
    "# To mute annoying warnings in notebook\n",
    "import warnings\n",
    "\n",
    "import numpy as np\n",
    "import pandas as pd\n",
    "from prophet import Prophet\n",
    "from prophet.plot import plot_plotly, add_changepoints_to_plot, plot_cross_validation_metric\n",
    "from prophet.diagnostics import cross_validation, performance_metrics\n",
    "from datetime import timedelta\n",
    "\n",
    "# Math plot\n",
    "import matplotlib.pyplot as plt\n",
    "\n",
    "# To create iterators\n",
    "import itertools\n",
    "\n",
    "warnings.filterwarnings(\"ignore\")"
   ]
  },
  {
   "cell_type": "markdown",
   "metadata": {
    "collapsed": false
   },
   "source": [
    "# Getting data, observations\n",
    "## Get dataset"
   ]
  },
  {
   "cell_type": "code",
   "execution_count": null,
   "metadata": {
    "ExecuteTime": {
     "end_time": "2024-02-02T13:06:45.228914032Z",
     "start_time": "2024-02-02T13:06:44.175175482Z"
    }
   },
   "outputs": [],
   "source": [
    "# Get dataset from file\n",
    "df = pd.read_csv(\n",
    "    \"../data/T10Y2Y.csv\",\n",
    ")\n",
    "\n",
    "# Show dataset head\n",
    "df.head()"
   ]
  },
  {
   "cell_type": "code",
   "execution_count": null,
   "metadata": {
    "ExecuteTime": {
     "end_time": "2024-02-02T13:06:45.232150743Z",
     "start_time": "2024-02-02T13:06:44.220868861Z"
    }
   },
   "outputs": [],
   "source": [
    "#Get dataset info\n",
    "df.info()"
   ]
  },
  {
   "cell_type": "code",
   "execution_count": null,
   "metadata": {
    "ExecuteTime": {
     "end_time": "2024-02-02T13:06:45.235640820Z",
     "start_time": "2024-02-02T13:06:44.221109645Z"
    }
   },
   "outputs": [],
   "source": [
    "# Get dataset statistics\n",
    "df.describe()"
   ]
  },
  {
   "cell_type": "markdown",
   "metadata": {
    "collapsed": false
   },
   "source": [
    "# Prophet\n",
    "## Linear model\n",
    "Dataset has invalid items. Drop them."
   ]
  },
  {
   "cell_type": "code",
   "execution_count": null,
   "metadata": {
    "ExecuteTime": {
     "end_time": "2024-02-02T13:06:45.237708472Z",
     "start_time": "2024-02-02T13:06:44.251197832Z"
    }
   },
   "outputs": [],
   "source": [
    "# Replace '.' with NaN\n",
    "df.replace(to_replace='.', value=np.NaN, inplace=True)\n",
    "\n",
    "# Drop Nans\n",
    "df.dropna(axis=0, inplace=True)\n",
    "\n",
    "# Show result\n",
    "df.describe()"
   ]
  },
  {
   "cell_type": "markdown",
   "metadata": {
    "collapsed": false
   },
   "source": [
    "Rename columns and set appropriate data types."
   ]
  },
  {
   "cell_type": "code",
   "execution_count": null,
   "metadata": {
    "ExecuteTime": {
     "end_time": "2024-02-02T13:06:45.237946419Z",
     "start_time": "2024-02-02T13:06:44.280459805Z"
    }
   },
   "outputs": [],
   "source": [
    "# Change column names\n",
    "df.columns = ['ds', 'y']\n",
    "\n",
    "# Set data type for y to float\n",
    "df.y = df.y.astype(float)\n",
    "\n",
    "# Set data type for tima as Timestamp\n",
    "df.ds= pd.to_datetime(df.ds)"
   ]
  },
  {
   "cell_type": "markdown",
   "metadata": {
    "collapsed": false
   },
   "source": [
    "Fit the model."
   ]
  },
  {
   "cell_type": "code",
   "execution_count": null,
   "metadata": {
    "ExecuteTime": {
     "end_time": "2024-02-02T13:06:45.312540770Z",
     "start_time": "2024-02-02T13:06:44.280687120Z"
    }
   },
   "outputs": [],
   "source": [
    "# Instantiating a new Prophet object\n",
    "model_linear = Prophet(\n",
    "    growth='linear',\n",
    "    # Drop seasonal oscillations\n",
    "    # yearly_seasonality=False\n",
    ")\n",
    "\n",
    "# Fit\n",
    "model_linear.fit(df);"
   ]
  },
  {
   "cell_type": "markdown",
   "metadata": {
    "collapsed": false
   },
   "source": [
    "Get a suitable dataframe that extends into the future a specified number of days."
   ]
  },
  {
   "cell_type": "code",
   "execution_count": null,
   "metadata": {
    "ExecuteTime": {
     "end_time": "2024-02-02T13:06:45.312952897Z",
     "start_time": "2024-02-02T13:06:45.001864847Z"
    }
   },
   "outputs": [],
   "source": [
    "# Get trend using the extrapolated generative model\n",
    "future = model_linear.make_future_dataframe(periods=365)\n",
    "\n",
    "# Show tail of trend\n",
    "future.tail()"
   ]
  },
  {
   "cell_type": "markdown",
   "metadata": {
    "collapsed": false
   },
   "source": [
    "Make prediction"
   ]
  },
  {
   "cell_type": "code",
   "execution_count": null,
   "metadata": {
    "ExecuteTime": {
     "end_time": "2024-02-02T13:06:45.799172762Z",
     "start_time": "2024-02-02T13:06:45.018666450Z"
    }
   },
   "outputs": [],
   "source": [
    "# Assign each row in future a predicted value - yhat\n",
    "forecast = model_linear.predict(future)\n",
    "\n",
    "# Get dataframe with predicted values, components and uncertainty intervals.\n",
    "forecast[['ds', 'yhat', 'yhat_lower', 'yhat_upper']].tail()"
   ]
  },
  {
   "cell_type": "markdown",
   "metadata": {
    "collapsed": false
   },
   "source": [
    "Plot the forecast"
   ]
  },
  {
   "cell_type": "code",
   "execution_count": null,
   "metadata": {
    "ExecuteTime": {
     "end_time": "2024-02-02T13:06:46.533461948Z",
     "start_time": "2024-02-02T13:06:45.503498149Z"
    }
   },
   "outputs": [],
   "source": [
    "fig1 = model_linear.plot(\n",
    "    fcst=forecast,\n",
    "    xlabel='Time',\n",
    "    ylabel='Yield predicted value',\n",
    "    include_legend=True\n",
    ")\n",
    "\n",
    "plt.title('Yield forecast');"
   ]
  },
  {
   "cell_type": "markdown",
   "metadata": {
    "collapsed": false
   },
   "source": [
    "We see the century oscillation as well as year. Let's look closer."
   ]
  },
  {
   "cell_type": "code",
   "execution_count": null,
   "metadata": {
    "ExecuteTime": {
     "end_time": "2024-02-02T13:06:46.981509732Z",
     "start_time": "2024-02-02T13:06:46.446135627Z"
    }
   },
   "outputs": [],
   "source": [
    "fig_interactive = plot_plotly(model_linear, forecast)\n",
    "\n",
    "# Update scatter trace to change color to white\n",
    "fig_interactive.update_traces(marker=dict(color='white'))"
   ]
  },
  {
   "cell_type": "markdown",
   "metadata": {
    "collapsed": false
   },
   "source": [
    "Plot trend, holidays, weekly seasonality, and yearly seasonality."
   ]
  },
  {
   "cell_type": "code",
   "execution_count": null,
   "metadata": {
    "ExecuteTime": {
     "end_time": "2024-02-02T13:06:49.185930289Z",
     "start_time": "2024-02-02T13:06:46.695251869Z"
    }
   },
   "outputs": [],
   "source": [
    "# Show the forecast components.\n",
    "fig2 = model_linear.plot_components(\n",
    "    fcst=forecast,\n",
    "    plot_cap=True\n",
    ")"
   ]
  },
  {
   "cell_type": "markdown",
   "metadata": {
    "collapsed": false
   },
   "source": [
    "Yield as a rule rise on weekends, significantly fall in the end of the summer. Moreover, we see global minimum in the begning of 2023."
   ]
  },
  {
   "cell_type": "markdown",
   "metadata": {
    "collapsed": false
   },
   "source": [
    "## Remove outliers\n",
    "\n",
    "Add change points"
   ]
  },
  {
   "cell_type": "code",
   "execution_count": null,
   "metadata": {
    "ExecuteTime": {
     "end_time": "2024-02-02T13:06:52.240136707Z",
     "start_time": "2024-02-02T13:06:49.184221057Z"
    }
   },
   "outputs": [],
   "source": [
    "# Locate and remove outliers\n",
    "df.loc[\n",
    "    (df['ds'] > '2023-10-05') & (df['ds'] < '2023-11-16'),\n",
    "    'y'\n",
    "] = None\n",
    "\n",
    "# Get new fit\n",
    "cleared_model = Prophet().fit(df)\n",
    "\n",
    "# Plot cleared data\n",
    "fig_cleared = cleared_model.plot(cleared_model.predict(future))"
   ]
  },
  {
   "cell_type": "markdown",
   "metadata": {
    "collapsed": false
   },
   "source": [
    "Forcast a bit straightened."
   ]
  },
  {
   "cell_type": "markdown",
   "metadata": {
    "collapsed": false
   },
   "source": [
    "## Find change points\n",
    "\n",
    "Add change points"
   ]
  },
  {
   "cell_type": "code",
   "execution_count": null,
   "metadata": {
    "ExecuteTime": {
     "end_time": "2024-02-02T13:06:53.149033807Z",
     "start_time": "2024-02-02T13:06:52.166154081Z"
    }
   },
   "outputs": [],
   "source": [
    "# Make new figure\n",
    "change_points_figure = model_linear.plot(forecast)\n",
    "\n",
    "# Add change points based on threshold value\n",
    "a = add_changepoints_to_plot(\n",
    "    ax=change_points_figure.gca(),\n",
    "    m=model_linear,\n",
    "    fcst=forecast,\n",
    "    threshold=3\n",
    ")"
   ]
  },
  {
   "cell_type": "markdown",
   "metadata": {
    "collapsed": false
   },
   "source": [
    "For the threshold value of 3 we get 3 clear trends."
   ]
  },
  {
   "cell_type": "markdown",
   "metadata": {
    "collapsed": false
   },
   "source": [
    "## Hyperparameter training\n",
    "\n",
    "Add change points"
   ]
  },
  {
   "cell_type": "code",
   "execution_count": null,
   "metadata": {
    "ExecuteTime": {
     "end_time": "2024-02-02T13:07:42.126734561Z",
     "start_time": "2024-02-02T13:06:53.138096889Z"
    }
   },
   "outputs": [],
   "source": [
    "# Get parameter grid\n",
    "param_grid = {\n",
    "    'changepoint_prior_scale': [0.001, 0.01, 0.1, 0.5],\n",
    "    'seasonality_prior_scale': [0.01, 0.1, 1.0, 10.0],\n",
    "}\n",
    "\n",
    "# Generate all combinations of parameters\n",
    "all_params = [dict(zip(param_grid.keys(), v)) for v in itertools.product(*param_grid.values())]\n",
    "\n",
    "# Store the RMSEs for each params here\n",
    "rmses = []\n",
    "\n",
    "# Use cross validation to evaluate all parameters\n",
    "for params in all_params:\n",
    "\n",
    "    # Fit model with given params\n",
    "    model_grid = Prophet(**params).fit(df)\n",
    "\n",
    "    df_cv = cross_validation(\n",
    "        model_grid,\n",
    "        initial='730 days',\n",
    "        period='365 days',\n",
    "        horizon='365 days',\n",
    "        parallel=\"processes\",\n",
    "    )\n",
    "\n",
    "    df_p = performance_metrics(\n",
    "        df_cv,\n",
    "        rolling_window=1\n",
    "    )\n",
    "\n",
    "    rmses.append(df_p['rmse'].values[0])\n",
    "\n",
    "# Find the best parameters\n",
    "tuning_results = pd.DataFrame(all_params)\n",
    "\n",
    "tuning_results['rmse'] = rmses\n",
    "\n",
    "tuning_results"
   ]
  },
  {
   "cell_type": "code",
   "execution_count": null,
   "metadata": {
    "ExecuteTime": {
     "end_time": "2024-02-02T13:07:42.152938182Z",
     "start_time": "2024-02-02T13:07:42.133509492Z"
    }
   },
   "outputs": [],
   "source": [
    "best_params = all_params[np.argmin(rmses)]\n",
    "\n",
    "best_params"
   ]
  },
  {
   "cell_type": "code",
   "execution_count": null,
   "metadata": {
    "ExecuteTime": {
     "end_time": "2024-02-02T13:07:42.580371602Z",
     "start_time": "2024-02-02T13:07:42.147881180Z"
    }
   },
   "outputs": [],
   "source": [
    "if df_cv is not None:\n",
    "\n",
    "    try:\n",
    "\n",
    "        fig_cv_metrics = plot_cross_validation_metric(\n",
    "            df_cv=df_cv,\n",
    "            metric='mape',\n",
    "            rolling_window=.1\n",
    "        )\n",
    "\n",
    "    except Exception as e:\n",
    "\n",
    "        print(f'Wrong TypeError: --- {e} --- Issue with function suspected')\n",
    "\n",
    "else:\n",
    "\n",
    "    print(\"df_cv is None\")"
   ]
  },
  {
   "cell_type": "markdown",
   "metadata": {
    "collapsed": false
   },
   "source": [
    "## Logistic model - Saturation\n",
    "\n",
    "Get sub-period to discover."
   ]
  },
  {
   "cell_type": "code",
   "execution_count": null,
   "metadata": {
    "ExecuteTime": {
     "end_time": "2024-02-02T13:07:42.605967002Z",
     "start_time": "2024-02-02T13:07:42.456297581Z"
    }
   },
   "outputs": [],
   "source": [
    "# Get current date\n",
    "current_datetime = pd.Timestamp.now()\n",
    "\n",
    "# Filter time period\n",
    "filtered_df = df[\n",
    "    (df['ds'] > current_datetime - timedelta(days=3.95 * 365))\n",
    "    &\n",
    "    (df['ds'] < current_datetime - timedelta(days=3.85 * 365))\n",
    "]"
   ]
  },
  {
   "cell_type": "markdown",
   "metadata": {
    "collapsed": false
   },
   "source": [
    "Set logistic parameters."
   ]
  },
  {
   "cell_type": "code",
   "execution_count": null,
   "metadata": {
    "ExecuteTime": {
     "end_time": "2024-02-02T13:07:42.606326236Z",
     "start_time": "2024-02-02T13:07:42.456761457Z"
    }
   },
   "outputs": [],
   "source": [
    "# Set saturation\n",
    "saturation = .55\n",
    "\n",
    "# Add constant saturation values as a column\n",
    "filtered_df['cap'] = saturation"
   ]
  },
  {
   "cell_type": "markdown",
   "metadata": {
    "collapsed": false
   },
   "source": [
    "Get logistic model."
   ]
  },
  {
   "cell_type": "code",
   "execution_count": null,
   "metadata": {
    "ExecuteTime": {
     "end_time": "2024-02-02T13:07:42.938061921Z",
     "start_time": "2024-02-02T13:07:42.457030616Z"
    }
   },
   "outputs": [],
   "source": [
    "# Get model with weekly oscillations dropped to have more smooth curve\n",
    "model_log = Prophet(\n",
    "    growth='logistic',\n",
    "    weekly_seasonality=False,\n",
    ")\n",
    "\n",
    "# Fit model\n",
    "model_log.fit(filtered_df);"
   ]
  },
  {
   "cell_type": "markdown",
   "metadata": {
    "collapsed": false
   },
   "source": [
    "Make future dataframe."
   ]
  },
  {
   "cell_type": "code",
   "execution_count": null,
   "metadata": {
    "ExecuteTime": {
     "end_time": "2024-02-02T13:07:42.938601561Z",
     "start_time": "2024-02-02T13:07:42.646641075Z"
    }
   },
   "outputs": [],
   "source": [
    "# Get dataframe\n",
    "future_log = model_log.make_future_dataframe(periods=30)\n",
    "\n",
    "# Add saturation column to predicted dataframe\n",
    "future_log['cap'] = saturation"
   ]
  },
  {
   "cell_type": "markdown",
   "metadata": {
    "collapsed": false
   },
   "source": [
    "Make prediction and plot."
   ]
  },
  {
   "cell_type": "code",
   "execution_count": null,
   "metadata": {
    "ExecuteTime": {
     "end_time": "2024-02-02T13:07:43.915816426Z",
     "start_time": "2024-02-02T13:07:42.688232615Z"
    }
   },
   "outputs": [],
   "source": [
    "# Predict\n",
    "forecast_log = model_log.predict(future_log)\n",
    "\n",
    "# Plot forecast\n",
    "fig_log = model_log.plot(\n",
    "    fcst=forecast_log,\n",
    "    include_legend=True\n",
    ")\n",
    "\n",
    "plt.title('Prophet Logistic Growth Forecast');"
   ]
  },
  {
   "cell_type": "markdown",
   "metadata": {
    "collapsed": false
   },
   "source": [
    "Yield value .8 is forcast in 1 month. Let's compare the result with real values"
   ]
  },
  {
   "cell_type": "code",
   "execution_count": null,
   "metadata": {
    "ExecuteTime": {
     "end_time": "2024-02-02T13:07:43.929681045Z",
     "start_time": "2024-02-02T13:07:43.896896211Z"
    }
   },
   "outputs": [],
   "source": [
    "# Filter time period in original dataset\n",
    "filtered_df = df[\n",
    "    (df['ds'] > current_datetime - timedelta(days=3.95 * 365))\n",
    "    &\n",
    "    (df['ds'] < current_datetime - timedelta(days=3.8 * 365))\n",
    "]"
   ]
  },
  {
   "cell_type": "code",
   "execution_count": null,
   "metadata": {
    "ExecuteTime": {
     "end_time": "2024-02-02T13:07:44.435389006Z",
     "start_time": "2024-02-02T13:07:43.921712538Z"
    }
   },
   "outputs": [],
   "source": [
    "# Plot data for period of forcast\n",
    "plot = filtered_df.plot(x='ds', y='y', figsize=(10, 6), grid=True)\n",
    "constant_value = .55\n",
    "\n",
    "plt.axhline(y=constant_value, color='r', linestyle='--');"
   ]
  },
  {
   "cell_type": "markdown",
   "metadata": {
    "collapsed": false
   },
   "source": [
    "Logistic forcast is wrong. Real trand differs from forcast one."
   ]
  }
 ],
 "metadata": {
  "kernelspec": {
   "display_name": "Python 3",
   "language": "python",
   "name": "python3"
  },
  "language_info": {
   "codemirror_mode": {
    "name": "ipython",
    "version": 3
   },
   "file_extension": ".py",
   "mimetype": "text/x-python",
   "name": "python",
   "nbconvert_exporter": "python",
   "pygments_lexer": "ipython3",
   "version": "3.11.4"
  }
 },
 "nbformat": 4,
 "nbformat_minor": 0
}
