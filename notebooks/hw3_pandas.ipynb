{
 "cells": [
  {
   "cell_type": "markdown",
   "metadata": {
    "collapsed": false
   },
   "source": [
    "# Import dependencies"
   ]
  },
  {
   "cell_type": "code",
   "execution_count": null,
   "metadata": {
    "ExecuteTime": {
     "end_time": "2024-02-18T15:27:53.290141Z",
     "start_time": "2024-02-18T15:27:53.179840500Z"
    }
   },
   "outputs": [],
   "source": [
    "import pandas as pd\n",
    "import numpy as np"
   ]
  },
  {
   "cell_type": "markdown",
   "metadata": {
    "collapsed": false
   },
   "source": [
    "# Getting data\n",
    "Get dataset"
   ]
  },
  {
   "cell_type": "code",
   "execution_count": null,
   "metadata": {
    "ExecuteTime": {
     "end_time": "2024-02-18T15:27:53.399511500Z",
     "start_time": "2024-02-18T15:27:53.296137100Z"
    }
   },
   "outputs": [],
   "source": [
    "# Get data as dataframe\n",
    "data = pd.read_csv('../data/adult.data.csv')\n",
    "\n",
    "data.head()"
   ]
  },
  {
   "cell_type": "markdown",
   "metadata": {
    "collapsed": false
   },
   "source": [
    "Drop rows with ? symbol"
   ]
  },
  {
   "cell_type": "code",
   "execution_count": null,
   "metadata": {
    "ExecuteTime": {
     "end_time": "2024-02-18T15:27:53.487819Z",
     "start_time": "2024-02-18T15:27:53.390422100Z"
    }
   },
   "outputs": [],
   "source": [
    "# Create a mask indicating rows containing '?' symbols\n",
    "mask = np.any(data == '?', axis=1)\n",
    "\n",
    "# Select rows that do not contain '?' symbols\n",
    "data = data[~mask]"
   ]
  },
  {
   "cell_type": "markdown",
   "metadata": {
    "collapsed": false
   },
   "source": [
    "Get info"
   ]
  },
  {
   "cell_type": "code",
   "execution_count": null,
   "metadata": {
    "ExecuteTime": {
     "end_time": "2024-02-18T15:27:53.489817200Z",
     "start_time": "2024-02-18T15:27:53.426360700Z"
    }
   },
   "outputs": [],
   "source": [
    "data.info()"
   ]
  },
  {
   "cell_type": "markdown",
   "metadata": {
    "collapsed": false
   },
   "source": [
    "Gat summary"
   ]
  },
  {
   "cell_type": "code",
   "execution_count": null,
   "metadata": {
    "ExecuteTime": {
     "end_time": "2024-02-18T15:27:53.638254200Z",
     "start_time": "2024-02-18T15:27:53.449432600Z"
    }
   },
   "outputs": [],
   "source": [
    "data.describe()"
   ]
  },
  {
   "cell_type": "markdown",
   "metadata": {
    "collapsed": false
   },
   "source": [
    "# Tasks"
   ]
  },
  {
   "cell_type": "markdown",
   "metadata": {},
   "source": [
    "1. How many man and woman are in dataset (by sex feature)?"
   ]
  },
  {
   "cell_type": "code",
   "execution_count": null,
   "metadata": {
    "ExecuteTime": {
     "end_time": "2024-02-18T15:27:53.641251400Z",
     "start_time": "2024-02-18T15:27:53.486817500Z"
    }
   },
   "outputs": [],
   "source": [
    "data.groupby(['sex']).size()"
   ]
  },
  {
   "cell_type": "markdown",
   "metadata": {},
   "source": [
    "2. Woman mean age (by age feature)?"
   ]
  },
  {
   "cell_type": "code",
   "execution_count": null,
   "metadata": {
    "ExecuteTime": {
     "end_time": "2024-02-18T15:27:53.648333700Z",
     "start_time": "2024-02-18T15:27:53.502219900Z"
    }
   },
   "outputs": [],
   "source": [
    "female_age_avg = data.groupby(['sex']).get_group('Male')['age'].mean().astype('int32')\n",
    "\n",
    "print(f\"Average female age is: {female_age_avg} year(s)\")"
   ]
  },
  {
   "cell_type": "markdown",
   "metadata": {},
   "source": [
    "3. German citizen ratio (by native-country feature)?"
   ]
  },
  {
   "cell_type": "code",
   "execution_count": null,
   "metadata": {
    "ExecuteTime": {
     "end_time": "2024-02-18T15:27:53.734648400Z",
     "start_time": "2024-02-18T15:27:53.582369800Z"
    }
   },
   "outputs": [],
   "source": [
    "german_person_count = data.groupby(['native-country']).get_group('Germany').shape[0]\n",
    "\n",
    "german_person_ratio = german_person_count / data.shape[0]\n",
    "\n",
    "print(f\"Ratio of persons from Germany is: {german_person_ratio:.3f}\")"
   ]
  },
  {
   "cell_type": "markdown",
   "metadata": {},
   "source": [
    "4. Age mean and square root mean of persons who earns at least 50K per year ('salary') and for those who earns less?"
   ]
  },
  {
   "cell_type": "code",
   "execution_count": null,
   "metadata": {
    "ExecuteTime": {
     "end_time": "2024-02-18T15:27:53.847504300Z",
     "start_time": "2024-02-18T15:27:53.738645700Z"
    }
   },
   "outputs": [],
   "source": [
    "# Get groups by salary\n",
    "reach_person_group = data.groupby(['salary']).get_group('>50K')\n",
    "other_person_group = data.groupby(['salary']).get_group('<=50K')\n",
    "\n",
    "# Get mean ages\n",
    "reach_person_age_mean = reach_person_group['age'].mean()\n",
    "other_person_age_mean = other_person_group['age'].mean()\n",
    "\n",
    "# Get std\n",
    "reach_person_age_std= reach_person_group['age'].std()\n",
    "other_person_age_std = other_person_group['age'].std()\n",
    "\n",
    "age_format = '.0f'\n",
    "print(f\"Reach persons have mean age {reach_person_age_mean:.0f}\\\n",
    " with std {reach_person_age_std:.2f}\")\n",
    "print(f\"Other persons have mean age {other_person_age_mean:.0f}\\\n",
    " with std {other_person_age_std:.2f}\")"
   ]
  },
  {
   "cell_type": "markdown",
   "metadata": {},
   "source": [
    "6. Is it true that persons who earns more than 50K have higher education?\n",
    "(Bachelors, Prof-school, Assoc-acdm, Assoc-voc, Masters, Doctorate)"
   ]
  },
  {
   "cell_type": "code",
   "execution_count": null,
   "metadata": {
    "ExecuteTime": {
     "end_time": "2024-02-18T15:27:53.958082Z",
     "start_time": "2024-02-18T15:27:53.803791300Z"
    }
   },
   "outputs": [],
   "source": [
    "# Set check list of education level\n",
    "higher_education_list = ['Bachelors', 'Prof-school', 'Assoc-acdm', 'Assoc-voc', 'Masters', 'Doctorate']\n",
    "\n",
    "# Check condition\n",
    "reach_means_smart = reach_person_group['education'].isin(higher_education_list).all()\n",
    "\n",
    "print(f\"Answer on this question is: {reach_means_smart}\")"
   ]
  },
  {
   "cell_type": "markdown",
   "metadata": {},
   "source": [
    "7. Age statistics for each race and sex using 'groupby' and 'describe'."
   ]
  },
  {
   "cell_type": "code",
   "execution_count": null,
   "metadata": {
    "ExecuteTime": {
     "end_time": "2024-02-18T15:27:54.093539300Z",
     "start_time": "2024-02-18T15:27:53.963078700Z"
    }
   },
   "outputs": [],
   "source": [
    "# Get group stat\n",
    "race_age_stat = data.groupby(['race', 'sex'])['age'].describe()\n",
    "\n",
    "race_age_stat"
   ]
  },
  {
   "cell_type": "markdown",
   "metadata": {
    "collapsed": false
   },
   "source": [
    "Max age of Amer-Indian-Eskimo man."
   ]
  },
  {
   "cell_type": "code",
   "execution_count": null,
   "metadata": {
    "ExecuteTime": {
     "end_time": "2024-02-18T15:27:54.116207300Z",
     "start_time": "2024-02-18T15:27:54.028484400Z"
    }
   },
   "outputs": [],
   "source": [
    "# Get Amer-Indian-Eskimo male max age\n",
    "max_age = race_age_stat['max']['Amer-Indian-Eskimo']['Male']\n",
    "\n",
    "print(f\"\\nMax age of Amer-Indian-Eskimo is: {max_age:.0f}\")"
   ]
  },
  {
   "cell_type": "markdown",
   "metadata": {},
   "source": [
    "8. Which category of persons earns at least 50K: married or not (marital-status = (Married-civ-spouse, Married-spouse-absent или Married-AF-spouse)"
   ]
  },
  {
   "cell_type": "code",
   "execution_count": null,
   "metadata": {
    "ExecuteTime": {
     "end_time": "2024-02-18T15:27:54.190016500Z",
     "start_time": "2024-02-18T15:27:54.100536200Z"
    }
   },
   "outputs": [],
   "source": [
    "# Set list of statuses which are equal to married\n",
    "married_statuses = ['Married-civ-spouse', 'Married-spouse-absent', 'Married-AF-spouse']\n",
    "\n",
    "# Get mask for married persons\n",
    "data['Married'] = data['marital-status'].isin(married_statuses)\n",
    "\n",
    "# Get ratios\n",
    "married_ratio = data[data['Married']]['salary'].value_counts(normalize=True).get('>50K', 0)\n",
    "single_ratio = data[~data['Married']]['salary'].value_counts(normalize=True).get('>50K', 0)\n",
    "\n",
    "if married_ratio > single_ratio:\n",
    "    print(\"Reach person ratio is bigger for married persons.\")\n",
    "elif married_ratio < single_ratio:\n",
    "    print(\"Reach person ratio is bigger for single persons.\")\n",
    "else:\n",
    "    print(\"Ratios are identical.\")"
   ]
  },
  {
   "cell_type": "markdown",
   "metadata": {},
   "source": [
    "9. Maximal working hours per week (hours-per-week)? Haw many persons work these hours and how many reach persons among them?"
   ]
  },
  {
   "cell_type": "code",
   "execution_count": null,
   "metadata": {
    "ExecuteTime": {
     "end_time": "2024-02-18T15:27:54.226344800Z",
     "start_time": "2024-02-18T15:27:54.143269Z"
    }
   },
   "outputs": [],
   "source": [
    "max_hours_per_week = data['hours-per-week'].max()\n",
    "person_count = (data['hours-per-week'] == max_hours_per_week).sum()\n",
    "\n",
    "data['hard_worker'] = (data['hours-per-week'] == max_hours_per_week)\n",
    "\n",
    "reach_percentage = data[data['hard_worker']]['salary'].value_counts(normalize=True).get('>50K', 0) * 100\n",
    "\n",
    "print(f\"Max hours per week is {max_hours_per_week}. {person_count} persons do it and {reach_percentage:.1f}% of them are reach persons.\")"
   ]
  },
  {
   "cell_type": "markdown",
   "metadata": {},
   "source": [
    "10. Average working hours (hours-per-week) for poor and reach persons (salary) for each country (native-country)."
   ]
  },
  {
   "cell_type": "code",
   "execution_count": null,
   "metadata": {
    "ExecuteTime": {
     "end_time": "2024-02-18T15:27:54.324713700Z",
     "start_time": "2024-02-18T15:27:54.198057100Z"
    }
   },
   "outputs": [],
   "source": [
    "average_hours_per_week = data.groupby(['native-country', 'salary'])['hours-per-week'].mean()\n",
    "average_hours_per_week"
   ]
  }
 ],
 "metadata": {
  "anaconda-cloud": {},
  "kernelspec": {
   "display_name": "Python 3",
   "language": "python",
   "name": "python3"
  },
  "language_info": {
   "codemirror_mode": {
    "name": "ipython",
    "version": 3
   },
   "file_extension": ".py",
   "mimetype": "text/x-python",
   "name": "python",
   "nbconvert_exporter": "python",
   "pygments_lexer": "ipython3",
   "version": "3.6.6"
  }
 },
 "nbformat": 4,
 "nbformat_minor": 1
}
