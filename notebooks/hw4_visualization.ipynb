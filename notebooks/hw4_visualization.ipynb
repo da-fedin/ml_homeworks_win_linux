{
 "cells": [
  {
   "cell_type": "markdown",
   "metadata": {
    "collapsed": false
   },
   "source": [
    "# Import dependencies"
   ]
  },
  {
   "cell_type": "code",
   "execution_count": null,
   "metadata": {
    "ExecuteTime": {
     "end_time": "2024-02-18T15:31:15.368933700Z",
     "start_time": "2024-02-18T15:31:15.350978800Z"
    }
   },
   "outputs": [],
   "source": [
    "import matplotlib.pyplot as plt\n",
    "import pandas as pd\n",
    "import seaborn as sns\n",
    "import numpy as np\n",
    "import missingno as msno\n",
    "from scipy import stats\n",
    "\n",
    "plt.close(\"all\")"
   ]
  },
  {
   "cell_type": "markdown",
   "metadata": {
    "collapsed": false
   },
   "source": [
    "Get datasets"
   ]
  },
  {
   "cell_type": "code",
   "execution_count": null,
   "metadata": {
    "ExecuteTime": {
     "end_time": "2023-12-30T13:44:36.023433509Z",
     "start_time": "2023-12-30T13:44:35.564750908Z"
    }
   },
   "outputs": [],
   "source": [
    "players = pd.read_csv(\"Players.csv\")\n",
    "season_stat = pd.read_csv(\"Seasons_Stats.csv\")"
   ]
  },
  {
   "cell_type": "markdown",
   "metadata": {
    "collapsed": false
   },
   "source": [
    "Clear datasets"
   ]
  },
  {
   "cell_type": "code",
   "execution_count": null,
   "metadata": {
    "ExecuteTime": {
     "end_time": "2023-12-30T13:44:36.028983088Z",
     "start_time": "2023-12-30T13:44:35.888378017Z"
    }
   },
   "outputs": [],
   "source": [
    "if players.isna().any().any():\n",
    "    players.dropna(inplace=True)"
   ]
  },
  {
   "cell_type": "markdown",
   "metadata": {
    "collapsed": false
   },
   "source": [
    "Check for correlations between features"
   ]
  },
  {
   "cell_type": "code",
   "execution_count": null,
   "metadata": {
    "ExecuteTime": {
     "end_time": "2023-12-30T13:44:36.029805892Z",
     "start_time": "2023-12-30T13:44:35.889757146Z"
    }
   },
   "outputs": [],
   "source": [
    "round(players[[\"weight\", \"height\", \"born\"]].corr(), 2)"
   ]
  },
  {
   "cell_type": "code",
   "execution_count": null,
   "metadata": {
    "ExecuteTime": {
     "end_time": "2023-12-30T13:44:36.786077950Z",
     "start_time": "2023-12-30T13:44:35.891088305Z"
    }
   },
   "outputs": [],
   "source": [
    "sns.heatmap(\n",
    "    players[[\"weight\", \"height\", \"born\"]].corr(),\n",
    "    annot=True,\n",
    ")"
   ]
  },
  {
   "cell_type": "markdown",
   "metadata": {
    "collapsed": false
   },
   "source": [
    "The sufficient correlation is observed between 'weight' and 'height' features! Let's discover them."
   ]
  },
  {
   "cell_type": "markdown",
   "metadata": {
    "collapsed": false
   },
   "source": [
    "Discover height and weight distribution"
   ]
  },
  {
   "cell_type": "code",
   "execution_count": null,
   "metadata": {
    "ExecuteTime": {
     "end_time": "2023-12-30T13:44:37.380206659Z",
     "start_time": "2023-12-30T13:44:36.808114922Z"
    }
   },
   "outputs": [],
   "source": [
    "# Set a box plot using Pandas\n",
    "height_mean = players.boxplot(\n",
    "    column=\"height\", showmeans=True, meanline=True, notch=True, vert=True\n",
    ")\n",
    "\n",
    "# Customize the plot\n",
    "height_mean.set_xlabel(\"Height\")\n",
    "height_mean.set_title(\"Box Plot with Mean and Confidence Interval (95%)\")\n",
    "\n",
    "# Display the plot\n",
    "plt.show()"
   ]
  },
  {
   "cell_type": "markdown",
   "metadata": {
    "collapsed": false
   },
   "source": [
    "The mean height of players is around 200 units. There are points out of Confidence interval (potential outlayers)."
   ]
  },
  {
   "cell_type": "code",
   "execution_count": null,
   "metadata": {
    "ExecuteTime": {
     "end_time": "2023-12-30T13:44:37.659226400Z",
     "start_time": "2023-12-30T13:44:37.256376399Z"
    }
   },
   "outputs": [],
   "source": [
    "# Set a box plot\n",
    "weight_mean = players.boxplot(\n",
    "    column=\"weight\", showmeans=True, meanline=True, notch=True, vert=True\n",
    ")\n",
    "\n",
    "# Customize the plot\n",
    "weight_mean.set_xlabel(\"Weight\")\n",
    "weight_mean.set_title(\"Box Plot with Mean and Confidence Interval 95%\")\n",
    "\n",
    "# Display the plot\n",
    "plt.show()"
   ]
  },
  {
   "cell_type": "markdown",
   "metadata": {
    "collapsed": false
   },
   "source": [
    "The mean weight of players is around 95 units. The potential outlayers are mostly have bigger values then points within Confidence interval."
   ]
  },
  {
   "cell_type": "code",
   "execution_count": null,
   "metadata": {
    "ExecuteTime": {
     "end_time": "2023-12-30T13:44:42.304993104Z",
     "start_time": "2023-12-30T13:44:37.658026930Z"
    }
   },
   "outputs": [],
   "source": [
    "sns.pairplot(\n",
    "    players[[\"height\", \"weight\", \"birth_state\"]],\n",
    "    hue=\"birth_state\",\n",
    "    hue_order=players[\"birth_state\"].unique().tolist()[:25],\n",
    ");"
   ]
  },
  {
   "cell_type": "markdown",
   "metadata": {
    "collapsed": false
   },
   "source": [
    "It would be better to combine correlated features by on feature, for example, index weight/height)"
   ]
  },
  {
   "cell_type": "code",
   "execution_count": null,
   "metadata": {
    "ExecuteTime": {
     "end_time": "2023-12-30T13:44:43.593581609Z",
     "start_time": "2023-12-30T13:44:42.304580593Z"
    }
   },
   "outputs": [],
   "source": [
    "# Get correlation plot for height and weight\n",
    "sns.lmplot(x=\"height\", y=\"weight\", data=players);"
   ]
  },
  {
   "cell_type": "markdown",
   "metadata": {
    "collapsed": false
   },
   "source": [
    "The linear correlation between weight and height is observed. For the tall people the deviation in weight is bigger."
   ]
  },
  {
   "cell_type": "code",
   "execution_count": null,
   "metadata": {
    "ExecuteTime": {
     "end_time": "2023-12-30T13:44:43.615794757Z",
     "start_time": "2023-12-30T13:44:43.599497695Z"
    }
   },
   "outputs": [],
   "source": [
    "# Get Pearson statistics for the distribution\n",
    "pearson = stats.pearsonr(players[\"weight\"], players[\"height\"])\n",
    "corr = pearson[0]\n",
    "\n",
    "print(f\"Correlation coefficient is: {corr:.2f}\")"
   ]
  },
  {
   "cell_type": "code",
   "execution_count": null,
   "metadata": {
    "ExecuteTime": {
     "end_time": "2023-12-30T13:44:44.740497663Z",
     "start_time": "2023-12-30T13:44:43.613294361Z"
    }
   },
   "outputs": [],
   "source": [
    "sns.lmplot(\n",
    "    x=\"born\",\n",
    "    y=\"weight\",\n",
    "    data=players,\n",
    ");"
   ]
  },
  {
   "cell_type": "markdown",
   "metadata": {
    "collapsed": false
   },
   "source": [
    "Later players have more weight but this tendency is not so much obvious as for weight and height. Let's discover it."
   ]
  },
  {
   "cell_type": "code",
   "execution_count": null,
   "metadata": {
    "ExecuteTime": {
     "end_time": "2023-12-30T13:44:45.057519115Z",
     "start_time": "2023-12-30T13:44:44.746692495Z"
    }
   },
   "outputs": [],
   "source": [
    "# Get median year\n",
    "median_year = players[\"born\"].median()\n",
    "\n",
    "# Create a new column to indicate the period\n",
    "players[\"period\"] = np.where(\n",
    "    players[\"born\"] <= median_year,\n",
    "    f\"Before {int(median_year)}\",\n",
    "    f\"After {int(median_year)}\",\n",
    ")\n",
    "\n",
    "sns.boxplot(x=\"period\", y=\"weight\", data=players)\n",
    "plt.title(\"Weight comparison before and after median year\")\n",
    "plt.show()"
   ]
  },
  {
   "cell_type": "markdown",
   "metadata": {
    "collapsed": false
   },
   "source": [
    "Yeh... The tendency is not sufficient("
   ]
  },
  {
   "cell_type": "markdown",
   "metadata": {
    "collapsed": false
   },
   "source": [
    "Let's discover seasons statistics."
   ]
  },
  {
   "cell_type": "code",
   "execution_count": null,
   "metadata": {
    "ExecuteTime": {
     "end_time": "2023-12-30T13:44:46.126751685Z",
     "start_time": "2023-12-30T13:44:45.059862838Z"
    }
   },
   "outputs": [],
   "source": [
    "# Get diagram with missing values\n",
    "msno.matrix(season_stat);"
   ]
  },
  {
   "cell_type": "markdown",
   "metadata": {
    "collapsed": false
   },
   "source": [
    "There are two empty column and rows with no data. Let's drop them."
   ]
  },
  {
   "cell_type": "code",
   "execution_count": null,
   "metadata": {
    "ExecuteTime": {
     "end_time": "2023-12-30T13:47:27.716551682Z",
     "start_time": "2023-12-30T13:47:27.627011425Z"
    }
   },
   "outputs": [],
   "source": [
    "season_stat.dropna(axis=1, how=\"all\", inplace=True)\n",
    "season_stat.dropna(axis=0, how=\"any\", inplace=True)"
   ]
  },
  {
   "cell_type": "markdown",
   "metadata": {
    "collapsed": false
   },
   "source": [
    "Get heatmap"
   ]
  },
  {
   "cell_type": "code",
   "execution_count": null,
   "metadata": {
    "ExecuteTime": {
     "end_time": "2023-12-30T14:03:26.148645565Z",
     "start_time": "2023-12-30T14:03:24.082782838Z"
    }
   },
   "outputs": [],
   "source": [
    "# Get numbered data\n",
    "numbered_stat = season_stat.select_dtypes(include=\"number\")\n",
    "\n",
    "# Get correlation matrix\n",
    "corr_stat = numbered_stat.corr()\n",
    "\n",
    "# Set mask to get triangle visualization\n",
    "mask = np.triu(corr_stat)\n",
    "\n",
    "# Set size for the plot\n",
    "plt.figure(figsize=(15, 15))\n",
    "\n",
    "# Get heatmap\n",
    "sns.heatmap(\n",
    "    corr_stat,\n",
    "    mask=mask,\n",
    ")\n",
    "\n",
    "plt.title(\"Heatmap of Correlation Matrix\")\n",
    "plt.show()"
   ]
  },
  {
   "cell_type": "markdown",
   "metadata": {
    "collapsed": false
   },
   "source": [
    "There are strongly correlated features"
   ]
  },
  {
   "cell_type": "code",
   "execution_count": null,
   "metadata": {
    "ExecuteTime": {
     "end_time": "2023-12-30T14:18:30.086333702Z",
     "start_time": "2023-12-30T14:18:26.764946955Z"
    }
   },
   "outputs": [],
   "source": [
    "# Set the correlation threshold\n",
    "correlation_threshold = 0.8\n",
    "\n",
    "# Create a mask for values below the threshold\n",
    "narrow_mask = np.abs(corr_stat) < correlation_threshold\n",
    "\n",
    "# Set those values to NaN in the correlation matrix\n",
    "corr_stat_narrowed = corr_stat.mask(narrow_mask)\n",
    "\n",
    "# Create a heatmap for the narrowed correlation matrix\n",
    "plt.figure(figsize=(15, 15))\n",
    "sns.heatmap(corr_stat_narrowed, annot=True, cmap=\"viridis\", fmt=\".2f\", linewidths=0.5)\n",
    "plt.title(f\"Narrowed Heatmap (Correlation > {correlation_threshold})\")\n",
    "plt.show()"
   ]
  },
  {
   "cell_type": "markdown",
   "metadata": {
    "collapsed": false
   },
   "source": [
    "Not sure what do they mean but there are several strongly correlated features in the dataset: G, GS, MP, TS, OWS, DWS, WS, FG, FGA etc."
   ]
  }
 ],
 "metadata": {
  "kernelspec": {
   "display_name": "Python 3",
   "language": "python",
   "name": "python3"
  },
  "language_info": {
   "codemirror_mode": {
    "name": "ipython",
    "version": 2
   },
   "file_extension": ".py",
   "mimetype": "text/x-python",
   "name": "python",
   "nbconvert_exporter": "python",
   "pygments_lexer": "ipython2",
   "version": "2.7.6"
  }
 },
 "nbformat": 4,
 "nbformat_minor": 0
}
