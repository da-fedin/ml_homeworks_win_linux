{
 "cells": [
  {
   "cell_type": "markdown",
   "metadata": {
    "collapsed": false
   },
   "source": [
    "# Import dependencies"
   ]
  },
  {
   "cell_type": "code",
   "execution_count": null,
   "metadata": {
    "ExecuteTime": {
     "end_time": "2024-02-24T16:33:52.324656200Z",
     "start_time": "2024-02-24T16:33:52.293079300Z"
    }
   },
   "outputs": [],
   "source": [
    "# To mute annoying warnings in notebook\n",
    "import warnings\n",
    "import numpy as np\n",
    "\n",
    "# For Data science\n",
    "import pandas as pd\n",
    "\n",
    "# For visualization\n",
    "import seaborn as sns\n",
    "import matplotlib.pyplot as plt\n",
    "\n",
    "from sklearn import (\n",
    "    preprocessing,\n",
    "    decomposition,\n",
    ")\n",
    "\n",
    "warnings.filterwarnings(\"ignore\")"
   ]
  },
  {
   "cell_type": "markdown",
   "metadata": {
    "collapsed": false
   },
   "source": [
    "# Getting data, observations\n",
    "## Get dataset"
   ]
  },
  {
   "cell_type": "code",
   "execution_count": null,
   "metadata": {
    "ExecuteTime": {
     "end_time": "2024-02-24T16:33:52.326653800Z",
     "start_time": "2024-02-24T16:33:52.300073700Z"
    }
   },
   "outputs": [],
   "source": [
    "# Get dataset from file\n",
    "data = pd.read_csv(\n",
    "    \"../data/SouthGermanCredit.asc\",\n",
    "    delimiter=\" \",\n",
    ")"
   ]
  },
  {
   "cell_type": "code",
   "execution_count": null,
   "metadata": {
    "ExecuteTime": {
     "end_time": "2024-02-24T16:33:52.339382Z",
     "start_time": "2024-02-24T16:33:52.315660400Z"
    }
   },
   "outputs": [],
   "source": [
    "# Get data info\n",
    "data.info()"
   ]
  },
  {
   "cell_type": "markdown",
   "metadata": {
    "collapsed": false
   },
   "source": [
    "# Preprocessing\n",
    "\n",
    "## Scaling"
   ]
  },
  {
   "cell_type": "code",
   "execution_count": null,
   "metadata": {
    "ExecuteTime": {
     "end_time": "2024-02-24T16:33:52.380112700Z",
     "start_time": "2024-02-24T16:33:52.337383500Z"
    }
   },
   "outputs": [],
   "source": [
    "# Scale data\n",
    "scaler = preprocessing.StandardScaler()\n",
    "\n",
    "X_scaled = scaler.fit_transform(data)"
   ]
  },
  {
   "cell_type": "markdown",
   "metadata": {
    "collapsed": false
   },
   "source": [
    "# Processing\n",
    "\n",
    "## Decomposition"
   ]
  },
  {
   "cell_type": "code",
   "execution_count": null,
   "metadata": {
    "ExecuteTime": {
     "end_time": "2024-02-24T16:33:53.464643500Z",
     "start_time": "2024-02-24T16:33:52.358125600Z"
    }
   },
   "outputs": [],
   "source": [
    "# Get principal component analyzer\n",
    "pca = decomposition.PCA()\n",
    "\n",
    "# Fit scaled data\n",
    "X_pca = pca.fit(X_scaled)\n",
    "\n",
    "# Get explained variance (amount of variance explained by each of the selected components)\n",
    "explained_variance_ratio = pca.explained_variance_ratio_\n",
    "\n",
    "# Get cumulative explained variance for retained features\n",
    "cumulative_explained_variance_ratio = np.cumsum(explained_variance_ratio)\n",
    "\n",
    "# Plot explained variance\n",
    "sns.lineplot(data=explained_variance_ratio, label=\"variance\", color=\"g\", marker=\"o\")\n",
    "\n",
    "plt.xlabel(\"Number of principal components\")\n",
    "plt.ylabel(\"explained_variance_ratio\")\n",
    "axis_2 = plt.gca().twinx()\n",
    "\n",
    "sns.lineplot(\n",
    "    data=cumulative_explained_variance_ratio,\n",
    "    label=\"cumulative variance\",\n",
    "    color=\"r\",\n",
    "    marker=\"s\",\n",
    ")\n",
    "\n",
    "plt.title(\"Explained variance by principal components\")\n",
    "plt.ylabel(\"cumulative_explained_variance_ratio\");"
   ]
  },
  {
   "cell_type": "code",
   "execution_count": null,
   "metadata": {
    "ExecuteTime": {
     "end_time": "2024-02-24T16:33:53.475143800Z",
     "start_time": "2024-02-24T16:33:53.462549800Z"
    }
   },
   "outputs": [],
   "source": [
    "# Get amount of retained components with cumulative explained variance more than 70%\n",
    "retained_components = np.argmax(cumulative_explained_variance_ratio >= 0.7)\n",
    "\n",
    "retained_components"
   ]
  },
  {
   "cell_type": "code",
   "execution_count": null,
   "metadata": {
    "ExecuteTime": {
     "end_time": "2024-02-24T16:33:53.558427100Z",
     "start_time": "2024-02-24T16:33:53.470149200Z"
    }
   },
   "outputs": [],
   "source": [
    "# Get analyzer for only components which cumulative explained variance is more than 70%\n",
    "pca_reduced = decomposition.PCA(n_components=retained_components)\n",
    "\n",
    "# Get decomposition for chosen components\n",
    "X_reduced = pca_reduced.fit_transform(X_scaled)\n",
    "\n",
    "# Get variance loss\n",
    "loss = 1 - cumulative_explained_variance_ratio[retained_components]\n",
    "\n",
    "print(f\"Variance loss is {loss:.2f}\")"
   ]
  }
 ],
 "metadata": {
  "kernelspec": {
   "display_name": "Python 3",
   "language": "python",
   "name": "python3"
  },
  "language_info": {
   "codemirror_mode": {
    "name": "ipython",
    "version": 2
   },
   "file_extension": ".py",
   "mimetype": "text/x-python",
   "name": "python",
   "nbconvert_exporter": "python",
   "pygments_lexer": "ipython2",
   "version": "2.7.6"
  }
 },
 "nbformat": 4,
 "nbformat_minor": 0
}
