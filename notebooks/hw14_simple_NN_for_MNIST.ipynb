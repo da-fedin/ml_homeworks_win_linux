{
 "cells": [
  {
   "cell_type": "code",
   "execution_count": null,
   "id": "initial_id",
   "metadata": {},
   "outputs": [],
   "source": [
    "import warnings\n",
    "\n",
    "import matplotlib.pyplot as plt\n",
    "import seaborn as sns\n",
    "from keras.datasets import mnist\n",
    "from keras.utils import to_categorical, disable_interactive_logging\n",
    "from keras.layers import Flatten, Dense\n",
    "from keras.models import Sequential\n",
    "from keras.optimizers import Adam\n",
    "\n",
    "# Suppress specific warning message\n",
    "warnings.filterwarnings(\n",
    "    action='ignore',\n",
    "    message='The name*',\n",
    ")\n",
    "warnings.filterwarnings(\"ignore\")\n",
    "disable_interactive_logging();"
   ]
  },
  {
   "cell_type": "code",
   "execution_count": null,
   "id": "8373578708e534b",
   "metadata": {},
   "outputs": [],
   "source": [
    "# Load MNIST dataset\n",
    "(train_images, train_labels), (test_images, test_labels) = mnist.load_data()\n",
    "\n",
    "# Resize images to match the required input\n",
    "train_images_reshaped = train_images.reshape(train_images.shape[0], 28, 28)\n",
    "test_images_reshaped = test_images.reshape(test_images.shape[0], 28, 28)\n",
    "\n",
    "# Normalize pixel values to be between 0 and 1\n",
    "train_images_resized = train_images_reshaped.astype('float32') / 255\n",
    "test_images_resized = test_images_reshaped.astype('float32') / 255\n",
    "\n",
    "# One-hot encode labels\n",
    "train_labels = to_categorical(train_labels)\n",
    "test_labels = to_categorical(test_labels)\n",
    "\n",
    "# Get model\n",
    "model = Sequential([\n",
    "  Flatten(input_shape=(28, 28)),\n",
    "  Dense(128, activation='relu'),\n",
    "  Dense(10)\n",
    "])\n",
    "\n",
    "# Compile model\n",
    "model.compile(\n",
    "    optimizer=Adam(0.001),\n",
    "    loss='categorical_crossentropy',  # Use categorical_crossentropy for one-hot encoded labels\n",
    "    metrics=['accuracy']  # Use 'accuracy' instead of SparseCategoricalAccuracy\n",
    ")\n",
    "\n",
    "# Fit model\n",
    "history = model.fit(\n",
    "    x=train_images_resized,\n",
    "    y=train_labels,  # Use one-hot encoded labels\n",
    "    epochs=2,\n",
    "    validation_data=(test_images_resized, test_labels)  # Use validation_data as a tuple\n",
    ")\n"
   ]
  },
  {
   "cell_type": "code",
   "execution_count": null,
   "id": "21a888434b0b0bb1",
   "metadata": {},
   "outputs": [],
   "source": [
    "# Load the TensorBoard notebook extension.\n",
    "%load_ext tensorboard\n",
    "\n",
    "# Launch TensorBoard and navigate to the Profile tab to view performance profile\n",
    "%tensorboard --logdir=logs --port=6009\n",
    "\n",
    "# !!! Got message like 'Reusing TensorBoard on port XXXX' - change port !!!"
   ]
  },
  {
   "cell_type": "code",
   "execution_count": null,
   "id": "8be729b1d41c6ac1",
   "metadata": {},
   "outputs": [],
   "source": [
    "# Plot train loss\n",
    "sns.lineplot(\n",
    "    x=range(1, len(history.history['loss']) + 1),\n",
    "    y=history.history['loss'],\n",
    "    label='Train'\n",
    ")\n",
    "\n",
    "# Plot validation loss\n",
    "sns.lineplot(\n",
    "    x=range(1, len(history.history['val_loss']) + 1),\n",
    "    y=history.history['val_loss'],\n",
    "    label='Test'\n",
    ")\n",
    "\n",
    "plt.title('Model loss')\n",
    "plt.ylabel('Loss')\n",
    "plt.xlabel('Epoch')\n",
    "plt.legend(loc='upper right')\n",
    "# plt.show();\n",
    "\n",
    "# Evaluate the model\n",
    "test_loss, test_acc = model.evaluate(test_images_resized, test_labels)\n",
    "print('Test accuracy:', test_acc)"
   ]
  }
 ],
 "metadata": {
  "kernelspec": {
   "display_name": "Python 3",
   "language": "python",
   "name": "python3"
  },
  "language_info": {
   "codemirror_mode": {
    "name": "ipython",
    "version": 2
   },
   "file_extension": ".py",
   "mimetype": "text/x-python",
   "name": "python",
   "nbconvert_exporter": "python",
   "pygments_lexer": "ipython2",
   "version": "2.7.6"
  }
 },
 "nbformat": 4,
 "nbformat_minor": 5
}
