{
 "cells": [
  {
   "cell_type": "raw",
   "id": "fd666fff5ab06174",
   "metadata": {
    "collapsed": false
   },
   "source": [
    "# Import dependencies"
   ]
  },
  {
   "cell_type": "code",
   "execution_count": null,
   "id": "initial_id",
   "metadata": {
    "ExecuteTime": {
     "end_time": "2024-02-11T20:20:04.310753900Z",
     "start_time": "2024-02-11T20:20:04.244326300Z"
    }
   },
   "outputs": [],
   "source": [
    "# import warnings\n",
    "\n",
    "# For Data science\n",
    "import pandas as pd\n",
    "from sklearn.model_selection import train_test_split\n",
    "from sklearn.feature_extraction.text import TfidfVectorizer\n",
    "\n",
    "from sklearn import (\n",
    "    model_selection,\n",
    "    linear_model,\n",
    ")"
   ]
  },
  {
   "cell_type": "markdown",
   "id": "8ba11971040616eb",
   "metadata": {
    "collapsed": false
   },
   "source": [
    "# Getting data, observations\n",
    "## Get dataset"
   ]
  },
  {
   "cell_type": "code",
   "execution_count": null,
   "id": "e8d039075d99938d",
   "metadata": {
    "ExecuteTime": {
     "end_time": "2024-02-11T20:20:05.329686500Z",
     "start_time": "2024-02-11T20:20:04.311754300Z"
    }
   },
   "outputs": [],
   "source": [
    "# Get dataset from file\n",
    "df = pd.read_csv(\n",
    "    f\"../data/IMDB_Dataset.csv\",\n",
    ")\n",
    "\n",
    "# Show dataset head\n",
    "df.head()"
   ]
  },
  {
   "cell_type": "code",
   "execution_count": null,
   "id": "2930910b051bd35e",
   "metadata": {
    "ExecuteTime": {
     "end_time": "2024-02-11T20:20:05.340682700Z",
     "start_time": "2024-02-11T20:20:05.323289Z"
    }
   },
   "outputs": [],
   "source": [
    "review = df.columns[-1]\n",
    "\n",
    "grouped = df.groupby(review).size()"
   ]
  },
  {
   "cell_type": "code",
   "execution_count": null,
   "id": "3c2622e7e3ceecf2",
   "metadata": {
    "ExecuteTime": {
     "end_time": "2024-02-11T20:20:05.619896800Z",
     "start_time": "2024-02-11T20:20:05.333687900Z"
    }
   },
   "outputs": [],
   "source": [
    "grouped.plot(\n",
    "    kind='bar',\n",
    "    xlabel='Review',\n",
    "    ylabel='Count',\n",
    "    title='Count of Reviews',\n",
    ");"
   ]
  },
  {
   "cell_type": "markdown",
   "id": "c154d1878883edc6",
   "metadata": {
    "collapsed": false
   },
   "source": [
    "Dataframe is balanced.\n",
    "Split dataset to train and test."
   ]
  },
  {
   "cell_type": "code",
   "execution_count": null,
   "id": "c13473865e48fb51",
   "metadata": {
    "ExecuteTime": {
     "end_time": "2024-02-11T20:20:05.621895400Z",
     "start_time": "2024-02-11T20:20:05.614775600Z"
    }
   },
   "outputs": [],
   "source": [
    "# Set feature and target subsets\n",
    "features = df.review\n",
    "target = df.sentiment"
   ]
  },
  {
   "cell_type": "markdown",
   "id": "d2cfc77e448fc861",
   "metadata": {
    "collapsed": false
   },
   "source": [
    "Transform words from the text reviews into a numeric representation of its frequency."
   ]
  },
  {
   "cell_type": "code",
   "execution_count": null,
   "id": "be09eb7fc3b60223",
   "metadata": {
    "ExecuteTime": {
     "end_time": "2024-02-11T20:20:18.924638400Z",
     "start_time": "2024-02-11T20:20:05.622895200Z"
    }
   },
   "outputs": [],
   "source": [
    "tf_idf = TfidfVectorizer(stop_words='english')\n",
    "features_vector = tf_idf.fit_transform(features)\n",
    "\n",
    "pd.DataFrame.sparse.from_spmatrix(\n",
    "    data=features_vector,\n",
    "    index=features.index,\n",
    "    columns=tf_idf.get_feature_names_out()\n",
    ")"
   ]
  },
  {
   "cell_type": "code",
   "execution_count": null,
   "id": "669ee5acaa9b7cff",
   "metadata": {
    "ExecuteTime": {
     "end_time": "2024-02-11T20:20:18.929640800Z",
     "start_time": "2024-02-11T20:20:18.919744400Z"
    }
   },
   "outputs": [],
   "source": [
    "target_vector = target.map({'positive': 1, 'negative': 0})"
   ]
  },
  {
   "cell_type": "code",
   "execution_count": null,
   "id": "29f3223082fe8eba",
   "metadata": {
    "ExecuteTime": {
     "end_time": "2024-02-11T20:20:18.940327Z",
     "start_time": "2024-02-11T20:20:18.929640800Z"
    }
   },
   "outputs": [],
   "source": [
    "target_vector"
   ]
  },
  {
   "cell_type": "code",
   "execution_count": null,
   "id": "c5c1675cef0921a9",
   "metadata": {
    "ExecuteTime": {
     "end_time": "2024-02-11T20:21:20.943319600Z",
     "start_time": "2024-02-11T20:21:20.855596600Z"
    }
   },
   "outputs": [],
   "source": [
    "# Get split subsets\n",
    "X_train, X_test, y_train, y_test = train_test_split(\n",
    "    features_vector,\n",
    "    target_vector,\n",
    "    test_size=0.3,\n",
    "    random_state=42\n",
    ")"
   ]
  },
  {
   "cell_type": "code",
   "execution_count": null,
   "id": "fca9fa2b91534903",
   "metadata": {
    "ExecuteTime": {
     "end_time": "2024-02-11T20:22:08.322574700Z",
     "start_time": "2024-02-11T20:22:00.541729300Z"
    }
   },
   "outputs": [],
   "source": [
    "# Get regression object\n",
    "review_regression = linear_model.LogisticRegression(random_state=42)\n",
    "\n",
    "# Get cross-validation results\n",
    "cross_validation_score = model_selection.cross_val_score(\n",
    "    review_regression,\n",
    "    X_train,\n",
    "    y_train,\n",
    "    cv=3\n",
    ")\n",
    "\n",
    "# Get fit\n",
    "review_regression.fit(X_train, y_train)\n",
    "\n",
    "# Get train score\n",
    "review_train_score = review_regression.score(X_train, y_train)\n",
    "# Geet test score\n",
    "review_test_score = review_regression.score(X_test, y_test)\n",
    "\n",
    "print(f\"Cross validation score: {cross_validation_score[:]}\")\n",
    "print(f\"Train score: {review_train_score:.2f}\")\n",
    "print(f\"Test score: {review_test_score:.2f}\")"
   ]
  }
 ],
 "metadata": {
  "kernelspec": {
   "display_name": "Python 3",
   "language": "python",
   "name": "python3"
  },
  "language_info": {
   "codemirror_mode": {
    "name": "ipython",
    "version": 2
   },
   "file_extension": ".py",
   "mimetype": "text/x-python",
   "name": "python",
   "nbconvert_exporter": "python",
   "pygments_lexer": "ipython2",
   "version": "2.7.6"
  }
 },
 "nbformat": 4,
 "nbformat_minor": 5
}
