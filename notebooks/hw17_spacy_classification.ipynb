{
 "cells": [
  {
   "cell_type": "raw",
   "id": "fd666fff5ab06174",
   "metadata": {
    "collapsed": false
   },
   "source": [
    "# Import dependencies"
   ]
  },
  {
   "cell_type": "code",
   "execution_count": null,
   "id": "initial_id",
   "metadata": {
    "ExecuteTime": {
     "end_time": "2024-02-15T11:41:39.916952200Z",
     "start_time": "2024-02-15T11:41:39.906946500Z"
    }
   },
   "outputs": [],
   "source": [
    "# import warnings\n",
    "import time\n",
    "\n",
    "# For Data science\n",
    "import spacy\n",
    "import pandas as pd\n",
    "import seaborn as sns\n",
    "from sklearn.model_selection import train_test_split\n",
    "from sklearn.feature_extraction.text import CountVectorizer\n",
    "\n",
    "import matplotlib.pyplot as plt\n",
    "\n",
    "from sklearn import (\n",
    "    metrics,\n",
    "    linear_model,\n",
    ")\n",
    "\n",
    "from sources import three_sigma_cleared"
   ]
  },
  {
   "cell_type": "markdown",
   "id": "8ba11971040616eb",
   "metadata": {
    "collapsed": false
   },
   "source": [
    "# Getting data, observations\n",
    "## Get dataset"
   ]
  },
  {
   "cell_type": "code",
   "execution_count": null,
   "id": "e8d039075d99938d",
   "metadata": {
    "ExecuteTime": {
     "end_time": "2024-02-15T11:25:20.318493500Z",
     "start_time": "2024-02-15T11:25:19.524579200Z"
    }
   },
   "outputs": [],
   "source": [
    "# Get dataset from file\n",
    "df = pd.read_csv(\n",
    "    f\"../data/IMDB_Dataset.csv\",\n",
    ")\n",
    "\n",
    "# Show dataset head\n",
    "df.head()"
   ]
  },
  {
   "cell_type": "code",
   "execution_count": null,
   "id": "2930910b051bd35e",
   "metadata": {
    "ExecuteTime": {
     "end_time": "2024-02-15T11:25:20.329563600Z",
     "start_time": "2024-02-15T11:25:20.312498Z"
    }
   },
   "outputs": [],
   "source": [
    "review = df.columns[-1]\n",
    "\n",
    "grouped = df.groupby(review).size()"
   ]
  },
  {
   "cell_type": "code",
   "execution_count": null,
   "id": "3c2622e7e3ceecf2",
   "metadata": {
    "ExecuteTime": {
     "end_time": "2024-02-15T11:25:20.561173400Z",
     "start_time": "2024-02-15T11:25:20.324566400Z"
    }
   },
   "outputs": [],
   "source": [
    "grouped.plot(\n",
    "    kind='bar',\n",
    "    xlabel='Review',\n",
    "    ylabel='Count',\n",
    "    title='Count of Reviews',\n",
    ");"
   ]
  },
  {
   "cell_type": "markdown",
   "id": "c154d1878883edc6",
   "metadata": {
    "collapsed": false
   },
   "source": [
    "Dataframe is balanced."
   ]
  },
  {
   "cell_type": "code",
   "execution_count": null,
   "id": "c13473865e48fb51",
   "metadata": {
    "ExecuteTime": {
     "end_time": "2024-02-15T11:25:22.465519800Z",
     "start_time": "2024-02-15T11:25:20.556176200Z"
    }
   },
   "outputs": [],
   "source": [
    "# Set feature and target subsets\n",
    "df['word_count'] = df['review'].apply(lambda x: len(x.split()))\n",
    "\n",
    "# Plot the distribution of word counts\n",
    "plt.figure(figsize=(10, 6))\n",
    "plt.title(\"Distribution of Word Counts\")\n",
    "sns.histplot(x=\"word_count\", data=df, kde=True)\n",
    "plt.xlabel(\"Number of Words\")\n",
    "plt.ylabel(\"Frequency\")\n",
    "plt.show()"
   ]
  },
  {
   "cell_type": "code",
   "execution_count": null,
   "id": "54c883464b9ef3cf",
   "metadata": {
    "ExecuteTime": {
     "end_time": "2024-02-15T11:25:22.490339800Z",
     "start_time": "2024-02-15T11:25:22.468519400Z"
    }
   },
   "outputs": [],
   "source": [
    "df2 = three_sigma_cleared(\n",
    "    dataset=df,\n",
    "    feature_names=['word_count'],\n",
    ")"
   ]
  },
  {
   "cell_type": "code",
   "execution_count": null,
   "id": "d5944994c68a6227",
   "metadata": {
    "ExecuteTime": {
     "end_time": "2024-02-15T11:25:22.888600900Z",
     "start_time": "2024-02-15T11:25:22.485343600Z"
    }
   },
   "outputs": [],
   "source": [
    "plt.figure(figsize=(10, 6))\n",
    "sns.boxplot(data=df, x='sentiment', y='word_count')\n",
    "plt.title('Box Plot of Sentiment vs Word Count')\n",
    "plt.xlabel('Sentiment')\n",
    "plt.ylabel('Word Count');"
   ]
  },
  {
   "cell_type": "markdown",
   "id": "c6d92c3afcb9434c",
   "metadata": {
    "collapsed": false
   },
   "source": [
    "# Preprocessing"
   ]
  },
  {
   "cell_type": "code",
   "execution_count": null,
   "id": "b8d1aa3a310abadd",
   "metadata": {
    "ExecuteTime": {
     "end_time": "2024-02-15T11:25:23.714945100Z",
     "start_time": "2024-02-15T11:25:22.891600700Z"
    }
   },
   "outputs": [],
   "source": [
    "# Load the English language model with all the pipeline components\n",
    "nlp = spacy.load(\"en_core_web_sm\")"
   ]
  },
  {
   "cell_type": "code",
   "execution_count": null,
   "id": "b94fdb54e80b6566",
   "metadata": {
    "ExecuteTime": {
     "end_time": "2024-02-15T11:25:23.732510100Z",
     "start_time": "2024-02-15T11:25:23.718945700Z"
    }
   },
   "outputs": [],
   "source": [
    "list(nlp.pipe_labels.keys())"
   ]
  },
  {
   "cell_type": "code",
   "execution_count": null,
   "id": "469f1e393920d2f5",
   "metadata": {
    "ExecuteTime": {
     "end_time": "2024-02-15T11:25:23.752636900Z",
     "start_time": "2024-02-15T11:25:23.727513Z"
    }
   },
   "outputs": [],
   "source": [
    "nlp.factory_names"
   ]
  },
  {
   "cell_type": "code",
   "execution_count": null,
   "id": "d8ac7c6674d097b",
   "metadata": {
    "ExecuteTime": {
     "end_time": "2024-02-15T11:25:23.796608900Z",
     "start_time": "2024-02-15T11:25:23.744299100Z"
    }
   },
   "outputs": [],
   "source": [
    "nlp.pipe_names"
   ]
  },
  {
   "cell_type": "markdown",
   "id": "8984d9813037a34c",
   "metadata": {
    "collapsed": false
   },
   "source": [
    "# Lasy use"
   ]
  },
  {
   "cell_type": "code",
   "execution_count": null,
   "id": "9bdfc09fe6979fe5",
   "metadata": {
    "ExecuteTime": {
     "end_time": "2024-02-15T11:29:25.415873600Z",
     "start_time": "2024-02-15T11:25:23.762629500Z"
    }
   },
   "outputs": [],
   "source": [
    "# Load the English model\n",
    "nlp = spacy.load(\n",
    "    name=\"en_core_web_sm\",\n",
    "    # disable=[\n",
    "    #     \"tagger\",\n",
    "    #     \"attribute_ruler\",\n",
    "    #     \"lemmatizer\"\n",
    "    # ],\n",
    ")\n",
    "\n",
    "nlp.vocab.reset_vectors(width=64)\n",
    "\n",
    "# Preprocess text function\n",
    "def spacy_preprocessed_text(text):\n",
    "    doc = nlp(text)\n",
    "    tokens = [token.lemma_ for token in doc if not token.is_stop and not token.is_punct]\n",
    "    \n",
    "    return ' '.join(tokens)\n",
    "\n",
    "start_time = time.time()\n",
    "\n",
    "df = df[:5000]\n",
    "\n",
    "df['processed_review'] = df['review'].apply(spacy_preprocessed_text)\n",
    "\n",
    "print(\"--- %s seconds ---\" % (time.time() - start_time))"
   ]
  },
  {
   "cell_type": "code",
   "execution_count": null,
   "id": "2ca829661bc2aa60",
   "metadata": {
    "ExecuteTime": {
     "end_time": "2024-02-15T11:29:25.416872900Z",
     "start_time": "2024-02-15T11:29:25.410100100Z"
    }
   },
   "outputs": [],
   "source": [
    "df['sentiment'] = df['sentiment'].map({'positive': 1, 'negative': 0})"
   ]
  },
  {
   "cell_type": "code",
   "execution_count": null,
   "id": "434d111493f92dce",
   "metadata": {
    "ExecuteTime": {
     "end_time": "2024-02-15T11:32:13.007303400Z",
     "start_time": "2024-02-15T11:32:12.996817500Z"
    }
   },
   "outputs": [],
   "source": [
    "train_df, test_df = train_test_split(\n",
    "    df,\n",
    "    test_size=0.3,\n",
    "    random_state=42,\n",
    ")"
   ]
  },
  {
   "cell_type": "code",
   "execution_count": null,
   "id": "5a65052f85f7dec1",
   "metadata": {
    "ExecuteTime": {
     "end_time": "2024-02-15T11:32:41.735106200Z",
     "start_time": "2024-02-15T11:32:41.722260900Z"
    }
   },
   "outputs": [],
   "source": [
    "train_df"
   ]
  },
  {
   "cell_type": "code",
   "execution_count": null,
   "id": "6f91d980b0c690e1",
   "metadata": {
    "ExecuteTime": {
     "end_time": "2024-02-15T11:34:23.076571300Z",
     "start_time": "2024-02-15T11:34:22.024961600Z"
    }
   },
   "outputs": [],
   "source": [
    "vectorizer = CountVectorizer()\n",
    "\n",
    "X_train = vectorizer.fit_transform(train_df['processed_review'])\n",
    "X_test = vectorizer.transform(test_df['processed_review'])\n",
    "y_train = train_df['sentiment']\n",
    "y_test = test_df['sentiment']"
   ]
  },
  {
   "cell_type": "code",
   "execution_count": null,
   "id": "b221fd7c8f359283",
   "metadata": {
    "ExecuteTime": {
     "end_time": "2024-02-15T11:40:02.162432600Z",
     "start_time": "2024-02-15T11:40:00.721665700Z"
    }
   },
   "outputs": [],
   "source": [
    "classifier = linear_model.LogisticRegression(\n",
    "    max_iter=500,\n",
    ")\n",
    "\n",
    "classifier.fit(X_train, y_train)\n",
    "\n",
    "prediction = classifier.predict(X_test)"
   ]
  },
  {
   "cell_type": "code",
   "execution_count": null,
   "id": "fd753b0bd4d78b43",
   "metadata": {
    "ExecuteTime": {
     "end_time": "2024-02-15T11:45:50.069497500Z",
     "start_time": "2024-02-15T11:45:50.048911200Z"
    }
   },
   "outputs": [],
   "source": [
    "confusion_matrix = metrics.confusion_matrix(\n",
    "    y_true=y_test,\n",
    "    y_pred=prediction,\n",
    "    labels=classifier.classes_,\n",
    ")\n",
    "\n",
    "confusion_matrix"
   ]
  },
  {
   "cell_type": "code",
   "execution_count": null,
   "id": "2156e256e2ccb711",
   "metadata": {
    "ExecuteTime": {
     "end_time": "2024-02-15T11:55:02.905501500Z",
     "start_time": "2024-02-15T11:55:02.579165200Z"
    }
   },
   "outputs": [],
   "source": [
    "disp = metrics.ConfusionMatrixDisplay(\n",
    "    confusion_matrix=confusion_matrix,\n",
    "    display_labels=classifier.classes_,\n",
    ")\n",
    "\n",
    "disp.plot(cmap='Blues');"
   ]
  },
  {
   "cell_type": "code",
   "execution_count": null,
   "id": "46f2d0047e4079dc",
   "metadata": {
    "ExecuteTime": {
     "end_time": "2024-02-15T11:58:06.389938400Z",
     "start_time": "2024-02-15T11:58:05.708324600Z"
    }
   },
   "outputs": [],
   "source": [
    "# Get density plot\n",
    "# for test data\n",
    "sns.kdeplot(\n",
    "    y_test,\n",
    "    fill=False,\n",
    "    color='r',\n",
    "    label='test subset',\n",
    ")\n",
    "\n",
    "# for predicted data\n",
    "sns.kdeplot(\n",
    "    prediction,\n",
    "    fill=True,\n",
    "    color='b',\n",
    "    label='predicted',\n",
    ")\n",
    "\n",
    "# Plot\n",
    "plt.title('Distribution of observations in test dataset and and predicted dataset')\n",
    "plt.legend();"
   ]
  },
  {
   "cell_type": "code",
   "execution_count": null,
   "id": "3b16bd184e17d19e",
   "metadata": {
    "ExecuteTime": {
     "end_time": "2024-02-15T12:01:22.051480900Z",
     "start_time": "2024-02-15T12:01:22.007833400Z"
    }
   },
   "outputs": [],
   "source": [
    "print(\n",
    "    metrics.classification_report(\n",
    "    y_true=y_test,\n",
    "    y_pred=prediction,\n",
    "    target_names=['class 1', 'class 2'],\n",
    "    )\n",
    ")"
   ]
  }
 ],
 "metadata": {
  "kernelspec": {
   "display_name": "Python 3",
   "language": "python",
   "name": "python3"
  },
  "language_info": {
   "codemirror_mode": {
    "name": "ipython",
    "version": 2
   },
   "file_extension": ".py",
   "mimetype": "text/x-python",
   "name": "python",
   "nbconvert_exporter": "python",
   "pygments_lexer": "ipython2",
   "version": "2.7.6"
  }
 },
 "nbformat": 4,
 "nbformat_minor": 5
}
