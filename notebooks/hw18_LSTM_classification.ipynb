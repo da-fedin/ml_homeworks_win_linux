{
 "cells": [
  {
   "cell_type": "markdown",
   "id": "148950651412c229",
   "metadata": {
    "collapsed": false
   },
   "source": [
    "# Import dependencies"
   ]
  },
  {
   "cell_type": "code",
   "execution_count": null,
   "id": "e7e1ede2c2c2ef21",
   "metadata": {
    "ExecuteTime": {
     "end_time": "2024-02-17T17:26:24.420006600Z",
     "start_time": "2024-02-17T17:26:17.837420400Z"
    }
   },
   "outputs": [],
   "source": [
    "# To mute annoying warnings in notebook\n",
    "import warnings\n",
    "import time\n",
    "\n",
    "import numpy as np\n",
    "import pandas as pd\n",
    "import keras\n",
    "from keras import layers\n",
    "from sklearn.feature_extraction.text import TfidfVectorizer\n",
    "from sklearn.model_selection import train_test_split\n",
    "\n",
    "warnings.filterwarnings(\"ignore\")"
   ]
  },
  {
   "cell_type": "markdown",
   "id": "196ed05b4a8634ed",
   "metadata": {
    "collapsed": false
   },
   "source": [
    "# Getting data, observations\n",
    "Get dataset"
   ]
  },
  {
   "cell_type": "code",
   "execution_count": null,
   "id": "51e0c1971244b6b6",
   "metadata": {
    "ExecuteTime": {
     "end_time": "2024-02-17T17:26:25.092854Z",
     "start_time": "2024-02-17T17:26:24.424005600Z"
    }
   },
   "outputs": [],
   "source": [
    "# Get dataset from file\n",
    "df = pd.read_csv(\n",
    "    f\"../data/IMDB_Dataset.csv\",\n",
    ")\n",
    "\n",
    "# Show dataset head\n",
    "df.head()"
   ]
  },
  {
   "cell_type": "code",
   "execution_count": null,
   "id": "ca21c0bcc36c60a1",
   "metadata": {
    "ExecuteTime": {
     "end_time": "2024-02-17T17:26:25.093854100Z",
     "start_time": "2024-02-17T17:26:25.089336100Z"
    }
   },
   "outputs": [],
   "source": [
    "# Set feature and target subsets\n",
    "features = df.review\n",
    "target = df.sentiment"
   ]
  },
  {
   "cell_type": "code",
   "execution_count": null,
   "id": "33b0c61ed1b26ccb",
   "metadata": {
    "ExecuteTime": {
     "end_time": "2024-02-17T17:26:37.377037600Z",
     "start_time": "2024-02-17T17:26:25.095852700Z"
    }
   },
   "outputs": [],
   "source": [
    "tf_idf = TfidfVectorizer(stop_words='english')\n",
    "feature_vector = tf_idf.fit_transform(features)\n",
    "\n",
    "pd.DataFrame.sparse.from_spmatrix(\n",
    "    data=feature_vector,\n",
    "    index=features.index,\n",
    "    columns=tf_idf.get_feature_names_out()\n",
    ")"
   ]
  },
  {
   "cell_type": "code",
   "execution_count": null,
   "id": "ed6195b158bb6e12",
   "metadata": {
    "ExecuteTime": {
     "end_time": "2024-02-17T17:26:37.390414600Z",
     "start_time": "2024-02-17T17:26:37.369043100Z"
    }
   },
   "outputs": [],
   "source": [
    "# Make transform\n",
    "target_vector = target.map({'positive': 1, 'negative': 0})\n",
    "\n",
    "# Show transformed data\n",
    "target_vector"
   ]
  },
  {
   "cell_type": "code",
   "execution_count": null,
   "id": "86659c5ba1998808",
   "metadata": {
    "ExecuteTime": {
     "end_time": "2024-02-17T17:26:37.467618100Z",
     "start_time": "2024-02-17T17:26:37.388416Z"
    }
   },
   "outputs": [],
   "source": [
    "# Get split subsets\n",
    "X_train, X_test, y_train, y_test = train_test_split(\n",
    "    feature_vector,\n",
    "    target_vector,\n",
    "    test_size=0.3,\n",
    "    random_state=42\n",
    ")"
   ]
  },
  {
   "cell_type": "code",
   "execution_count": null,
   "id": "initial_id",
   "metadata": {
    "ExecuteTime": {
     "end_time": "2024-02-17T17:26:37.522582800Z",
     "start_time": "2024-02-17T17:26:37.434219400Z"
    }
   },
   "outputs": [],
   "source": [
    "max_features = 20000  # Only consider the top 20k words\n",
    "max_length = 200 "
   ]
  },
  {
   "cell_type": "code",
   "execution_count": null,
   "id": "54bedcae7fb78751",
   "metadata": {
    "ExecuteTime": {
     "end_time": "2024-02-17T17:26:40.380649600Z",
     "start_time": "2024-02-17T17:26:37.447630500Z"
    }
   },
   "outputs": [],
   "source": [
    "inputs = keras.Input(\n",
    "    shape=(None,),\n",
    "    dtype=\"int32\",\n",
    ")\n",
    "\n",
    "x = layers.Embedding(max_features, 128)(inputs)\n",
    "\n",
    "x = layers.Bidirectional(\n",
    "    layers.LSTM(\n",
    "        64,\n",
    "        return_sequences=True,\n",
    "    )\n",
    ")(x)\n",
    "\n",
    "x = layers.Bidirectional(layers.LSTM(64))(x)\n",
    "\n",
    "outputs = layers.Dense(\n",
    "    units=1,\n",
    "    activation=\"sigmoid\",\n",
    ")(x)\n",
    "\n",
    "model = keras.Model(inputs, outputs)\n",
    "\n",
    "model.summary()"
   ]
  },
  {
   "cell_type": "code",
   "execution_count": null,
   "id": "53066145fd61b545",
   "metadata": {
    "ExecuteTime": {
     "end_time": "2024-02-17T17:26:49.707081500Z",
     "start_time": "2024-02-17T17:26:40.376654400Z"
    }
   },
   "outputs": [],
   "source": [
    "start_time = time.time()\n",
    "\n",
    "model.compile(\n",
    "    optimizer=\"adam\",\n",
    "    loss=\"binary_crossentropy\",\n",
    "    metrics=[\"accuracy\"],\n",
    ")\n",
    "\n",
    "model.fit(\n",
    "    x=X_train,\n",
    "    y=y_train,\n",
    "    batch_size=32,\n",
    "    epochs=2,\n",
    "    validation_data=(X_test, y_test),\n",
    ")\n",
    "\n",
    "print(f\"--- {((time.time() - start_time)):.2f} seconds ---\")"
   ]
  }
 ],
 "metadata": {
  "kernelspec": {
   "display_name": "Python 3",
   "language": "python",
   "name": "python3"
  },
  "language_info": {
   "codemirror_mode": {
    "name": "ipython",
    "version": 2
   },
   "file_extension": ".py",
   "mimetype": "text/x-python",
   "name": "python",
   "nbconvert_exporter": "python",
   "pygments_lexer": "ipython2",
   "version": "2.7.6"
  }
 },
 "nbformat": 4,
 "nbformat_minor": 5
}
