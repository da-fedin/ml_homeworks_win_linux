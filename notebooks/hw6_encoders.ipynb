{
 "cells": [
  {
   "cell_type": "markdown",
   "metadata": {
    "collapsed": false
   },
   "source": [
    "# Import dependencies"
   ]
  },
  {
   "cell_type": "code",
   "execution_count": null,
   "metadata": {},
   "outputs": [],
   "source": [
    "# For data science\n",
    "import numpy as np\n",
    "import pandas as pd\n",
    "import seaborn as sns\n",
    "\n",
    "from category_encoders import TargetEncoder\n",
    "from sklearn import (\n",
    "    preprocessing,\n",
    ")\n",
    "\n",
    "# For plot\n",
    "import matplotlib.pyplot as plt"
   ]
  },
  {
   "cell_type": "markdown",
   "metadata": {
    "collapsed": false
   },
   "source": [
    "# Getting data, observations\n",
    "Get dataset"
   ]
  },
  {
   "cell_type": "code",
   "execution_count": null,
   "metadata": {},
   "outputs": [],
   "source": [
    "# Set dataset names\n",
    "names = [\n",
    "    \"sex\",\n",
    "    \"Length\",\n",
    "    \"Diameter\",\n",
    "    \"Height\",\n",
    "    \"Whole weight\",\n",
    "    \"Shucked weight\",\n",
    "    \"Viscera weight\",\n",
    "    \"Shell weight\",\n",
    "    \"Rings\",\n",
    "]\n",
    "\n",
    "# Get dataset from web\n",
    "data = pd.read_csv(\n",
    "    \"../data/abalone.data\",\n",
    "    delimiter=\",\",\n",
    "    names=names,\n",
    ")"
   ]
  },
  {
   "cell_type": "markdown",
   "metadata": {
    "collapsed": false
   },
   "source": [
    "Show dataset info"
   ]
  },
  {
   "cell_type": "code",
   "execution_count": null,
   "metadata": {},
   "outputs": [],
   "source": [
    "# Get dataset header\n",
    "data.head(3)"
   ]
  },
  {
   "cell_type": "code",
   "execution_count": null,
   "metadata": {},
   "outputs": [],
   "source": [
    "# Get dataset info\n",
    "data.info()"
   ]
  },
  {
   "cell_type": "markdown",
   "metadata": {
    "collapsed": false
   },
   "source": [
    "There is a categorical feature in dataset. Let's extract it."
   ]
  },
  {
   "cell_type": "code",
   "execution_count": null,
   "metadata": {},
   "outputs": [],
   "source": [
    "# Get DataFrame from categorical column\n",
    "df = data.select_dtypes(include=\"object\")\n",
    "\n",
    "# Get head\n",
    "df.head(5)"
   ]
  },
  {
   "cell_type": "markdown",
   "metadata": {
    "collapsed": false
   },
   "source": [
    "Visualize feature."
   ]
  },
  {
   "cell_type": "code",
   "execution_count": null,
   "metadata": {},
   "outputs": [],
   "source": [
    "# Get count plot\n",
    "sns.countplot(\n",
    "    data=df,\n",
    "    x=\"sex\",\n",
    ")\n",
    "\n",
    "plt.title(\"Item count for DataFrame\");"
   ]
  },
  {
   "cell_type": "markdown",
   "metadata": {
    "collapsed": false
   },
   "source": [
    "# Use encoders\n",
    "1. Use OneHotEncoder"
   ]
  },
  {
   "cell_type": "code",
   "execution_count": null,
   "metadata": {},
   "outputs": [],
   "source": [
    "# Get OneHotEncoder\n",
    "one_hot_encoder = preprocessing.OneHotEncoder(dtype=np.float32)\n",
    "\n",
    "# Encode data\n",
    "one_hot_encoded = one_hot_encoder.fit_transform(df).toarray()\n",
    "\n",
    "one_hot_encoded"
   ]
  },
  {
   "cell_type": "markdown",
   "metadata": {
    "collapsed": false
   },
   "source": [
    "Categorical data is represented as a set of binary values."
   ]
  },
  {
   "cell_type": "markdown",
   "metadata": {
    "collapsed": false
   },
   "source": [
    "2. Use LabelEncoder."
   ]
  },
  {
   "cell_type": "code",
   "execution_count": null,
   "metadata": {},
   "outputs": [],
   "source": [
    "# Get Let's use LabelEncoder.\n",
    "label_encoder = preprocessing.LabelEncoder()\n",
    "\n",
    "# Encode data\n",
    "label_encoded = label_encoder.fit_transform(df.values.ravel())\n",
    "\n",
    "label_encoded"
   ]
  },
  {
   "cell_type": "markdown",
   "metadata": {
    "collapsed": false
   },
   "source": [
    "Visualize encoded target"
   ]
  },
  {
   "cell_type": "code",
   "execution_count": null,
   "metadata": {},
   "outputs": [],
   "source": [
    "# Make dataframe from ndarray\n",
    "label_encoded_df = pd.DataFrame(\n",
    "    data=label_encoded,\n",
    "    columns=[\"labels\"],\n",
    ")\n",
    "\n",
    "# Get count plot\n",
    "sns.countplot(\n",
    "    data=label_encoded_df,\n",
    "    x=label_encoded_df[\"labels\"],\n",
    ")\n",
    "\n",
    "plt.title(\"Item count for label_encoded_df\");"
   ]
  },
  {
   "cell_type": "code",
   "execution_count": null,
   "metadata": {},
   "outputs": [],
   "source": [
    "# Get data type for encoded array\n",
    "label_encoded.dtype"
   ]
  },
  {
   "cell_type": "markdown",
   "metadata": {
    "collapsed": false
   },
   "source": [
    "Categorical data is represented as a numeric values (integers)."
   ]
  },
  {
   "cell_type": "markdown",
   "metadata": {
    "collapsed": false
   },
   "source": [
    "3. Use OrdinalEncoder."
   ]
  },
  {
   "cell_type": "code",
   "execution_count": null,
   "metadata": {},
   "outputs": [],
   "source": [
    "# Get Let's use OrdinalEncoder.\n",
    "ordinal_encoder = preprocessing.OrdinalEncoder(dtype=np.float16)\n",
    "\n",
    "# Encode data\n",
    "ordinal_encoded = ordinal_encoder.fit_transform(df)\n",
    "\n",
    "ordinal_encoded"
   ]
  },
  {
   "cell_type": "code",
   "execution_count": null,
   "metadata": {},
   "outputs": [],
   "source": [
    "# Get data type for encoded array\n",
    "ordinal_encoded.dtype"
   ]
  },
  {
   "cell_type": "markdown",
   "metadata": {
    "collapsed": false
   },
   "source": [
    "Visualize encoded target"
   ]
  },
  {
   "cell_type": "code",
   "execution_count": null,
   "metadata": {},
   "outputs": [],
   "source": [
    "# Make dataframe from ndarray\n",
    "ordinal_encoded_df = pd.DataFrame(\n",
    "    data=ordinal_encoded,\n",
    "    columns=[\"labels\"],\n",
    ")\n",
    "\n",
    "# Get cout plot\n",
    "sns.displot(data=ordinal_encoded_df, x=ordinal_encoded_df[\"labels\"])\n",
    "\n",
    "plt.title(\"Item count for label_encoded_df\");"
   ]
  },
  {
   "cell_type": "markdown",
   "metadata": {
    "collapsed": false
   },
   "source": [
    "Categorical data is represented as a numeric values (floats)."
   ]
  },
  {
   "cell_type": "markdown",
   "metadata": {
    "collapsed": false
   },
   "source": [
    "4. Use TargetEncoder"
   ]
  },
  {
   "cell_type": "code",
   "execution_count": null,
   "metadata": {},
   "outputs": [],
   "source": [
    "data"
   ]
  },
  {
   "cell_type": "code",
   "execution_count": null,
   "metadata": {},
   "outputs": [],
   "source": [
    "# Get Let's use TargetEncoder.\n",
    "target_encoder = TargetEncoder(cols=[\"sex\"])\n",
    "\n",
    "# Encode data\n",
    "target_encoded = target_encoder.fit_transform(\n",
    "    X=data[\"sex\"],\n",
    "    y=data[\"Whole weight\"],\n",
    ")\n",
    "\n",
    "target_encoded"
   ]
  },
  {
   "cell_type": "code",
   "execution_count": null,
   "metadata": {},
   "outputs": [],
   "source": [
    "sns.displot(data=target_encoded);"
   ]
  },
  {
   "cell_type": "markdown",
   "metadata": {
    "collapsed": false
   },
   "source": [
    "TargetEncoder mixes the global target mean with the target mean conditioned on the value of the category."
   ]
  }
 ],
 "metadata": {
  "kernelspec": {
   "display_name": "Python 3",
   "language": "python",
   "name": "python3"
  },
  "language_info": {
   "codemirror_mode": {
    "name": "ipython",
    "version": 2
   },
   "file_extension": ".py",
   "mimetype": "text/x-python",
   "name": "python",
   "nbconvert_exporter": "python",
   "pygments_lexer": "ipython2",
   "version": "2.7.6"
  }
 },
 "nbformat": 4,
 "nbformat_minor": 0
}
