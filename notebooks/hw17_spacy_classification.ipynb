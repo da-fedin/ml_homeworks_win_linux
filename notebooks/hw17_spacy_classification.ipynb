{
 "cells": [
  {
   "cell_type": "raw",
   "id": "fd666fff5ab06174",
   "metadata": {
    "collapsed": false
   },
   "source": [
    "# Import dependencies"
   ]
  },
  {
   "cell_type": "code",
   "execution_count": null,
   "id": "initial_id",
   "metadata": {},
   "outputs": [],
   "source": [
    "# import warnings\n",
    "\n",
    "# For Data science\n",
    "import spacy\n",
    "import pandas as pd\n",
    "import seaborn as sns\n",
    "from sklearn.model_selection import train_test_split\n",
    "from sklearn.feature_extraction.text import TfidfVectorizer\n",
    "\n",
    "import matplotlib.pyplot as plt\n",
    "\n",
    "from sklearn import (\n",
    "    model_selection,\n",
    "    linear_model,\n",
    ")\n",
    "\n",
    "from sources import three_sigma_cleared"
   ]
  },
  {
   "cell_type": "markdown",
   "id": "8ba11971040616eb",
   "metadata": {
    "collapsed": false
   },
   "source": [
    "# Getting data, observations\n",
    "## Get dataset"
   ]
  },
  {
   "cell_type": "code",
   "execution_count": null,
   "id": "e8d039075d99938d",
   "metadata": {},
   "outputs": [],
   "source": [
    "# Get dataset from file\n",
    "df = pd.read_csv(\n",
    "    f\"../data/IMDB_Dataset.csv\",\n",
    ")\n",
    "\n",
    "# Show dataset head\n",
    "df.head()"
   ]
  },
  {
   "cell_type": "code",
   "execution_count": null,
   "id": "2930910b051bd35e",
   "metadata": {},
   "outputs": [],
   "source": [
    "review = df.columns[-1]\n",
    "\n",
    "grouped = df.groupby(review).size()"
   ]
  },
  {
   "cell_type": "code",
   "execution_count": null,
   "id": "3c2622e7e3ceecf2",
   "metadata": {},
   "outputs": [],
   "source": [
    "grouped.plot(\n",
    "    kind='bar',\n",
    "    xlabel='Review',\n",
    "    ylabel='Count',\n",
    "    title='Count of Reviews',\n",
    ");"
   ]
  },
  {
   "cell_type": "markdown",
   "id": "c154d1878883edc6",
   "metadata": {
    "collapsed": false
   },
   "source": [
    "Dataframe is balanced."
   ]
  },
  {
   "cell_type": "code",
   "execution_count": null,
   "id": "c13473865e48fb51",
   "metadata": {},
   "outputs": [],
   "source": [
    "# Set feature and target subsets\n",
    "features = df.review\n",
    "target = df.sentiment\n",
    "df['word_count'] = df['review'].apply(lambda x: len(x.split()))\n",
    "\n",
    "# Plot the distribution of word counts\n",
    "plt.figure(figsize=(10, 6))\n",
    "plt.title(\"Distribution of Word Counts\")\n",
    "sns.histplot(x=\"word_count\", data=df, kde=True)\n",
    "plt.xlabel(\"Number of Words\")\n",
    "plt.ylabel(\"Frequency\")\n",
    "plt.show()"
   ]
  },
  {
   "cell_type": "code",
   "execution_count": null,
   "id": "54c883464b9ef3cf",
   "metadata": {},
   "outputs": [],
   "source": [
    "df2 = three_sigma_cleared(\n",
    "    dataset=df,\n",
    "    feature_names=['word_count'],\n",
    ")"
   ]
  },
  {
   "cell_type": "code",
   "execution_count": null,
   "id": "d5944994c68a6227",
   "metadata": {},
   "outputs": [],
   "source": [
    "plt.figure(figsize=(10, 6))\n",
    "sns.boxplot(data=df, x='sentiment', y='word_count')\n",
    "plt.title('Box Plot of Sentiment vs Word Count')\n",
    "plt.xlabel('Sentiment')\n",
    "plt.ylabel('Word Count')"
   ]
  },
  {
   "cell_type": "markdown",
   "id": "c6d92c3afcb9434c",
   "metadata": {
    "collapsed": false
   },
   "source": [
    "# Preprocessing"
   ]
  },
  {
   "cell_type": "code",
   "execution_count": null,
   "id": "b8d1aa3a310abadd",
   "metadata": {},
   "outputs": [],
   "source": [
    "# Load the English language model with all the pipeline components\n",
    "nlp = spacy.load(\"en_core_web_sm\")"
   ]
  },
  {
   "cell_type": "code",
   "execution_count": null,
   "id": "b94fdb54e80b6566",
   "metadata": {},
   "outputs": [],
   "source": [
    "list(nlp.pipe_labels.keys())"
   ]
  },
  {
   "cell_type": "code",
   "execution_count": null,
   "id": "469f1e393920d2f5",
   "metadata": {},
   "outputs": [],
   "source": [
    "nlp.factory_names"
   ]
  },
  {
   "cell_type": "code",
   "execution_count": null,
   "id": "d8ac7c6674d097b",
   "metadata": {},
   "outputs": [],
   "source": [
    "nlp.pipe_names"
   ]
  },
  {
   "cell_type": "markdown",
   "id": "8984d9813037a34c",
   "metadata": {
    "collapsed": false
   },
   "source": [
    "# Lasy use"
   ]
  },
  {
   "cell_type": "code",
   "execution_count": null,
   "id": "9bdfc09fe6979fe5",
   "metadata": {},
   "outputs": [],
   "source": [
    "# Load the English model\n",
    "nlp = spacy.load(\"en_core_web_sm\")\n",
    "\n",
    "# Preprocess text function\n",
    "def spacy_preprocessed_text(text):\n",
    "    doc = nlp(text)\n",
    "    tokens = [token.lemma_ for token in doc if not token.is_stop and not token.is_punct]\n",
    "    return ' '.join(tokens)\n",
    "df['processed_review'] = df['review'].apply(spacy_preprocessed_text)"
   ]
  },
  {
   "cell_type": "markdown",
   "id": "ee3cd92449dc66a5",
   "metadata": {
    "collapsed": false
   },
   "source": [
    "Split data to test and strain data."
   ]
  },
  {
   "cell_type": "code",
   "execution_count": null,
   "id": "c5c1675cef0921a9",
   "metadata": {},
   "outputs": [],
   "source": [
    "# Get split subsets\n",
    "X_train, X_test, y_train, y_test = train_test_split(\n",
    "    features,\n",
    "    target,\n",
    "    test_size=0.3,\n",
    "    random_state=42\n",
    ")"
   ]
  }
 ],
 "metadata": {
  "kernelspec": {
   "display_name": "Python 3",
   "language": "python",
   "name": "python3"
  },
  "language_info": {
   "codemirror_mode": {
    "name": "ipython",
    "version": 2
   },
   "file_extension": ".py",
   "mimetype": "text/x-python",
   "name": "python",
   "nbconvert_exporter": "python",
   "pygments_lexer": "ipython2",
   "version": "2.7.6"
  }
 },
 "nbformat": 4,
 "nbformat_minor": 5
}
