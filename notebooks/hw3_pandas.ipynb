{
 "cells": [
  {
   "cell_type": "markdown",
   "metadata": {
    "collapsed": false
   },
   "source": [
    "# Import dependencies"
   ]
  },
  {
   "cell_type": "code",
   "execution_count": null,
   "metadata": {
    "ExecuteTime": {
     "end_time": "2024-02-18T19:33:14.901676Z",
     "start_time": "2024-02-18T19:33:14.893615100Z"
    }
   },
   "outputs": [],
   "source": [
    "import pandas as pd\n",
    "import numpy as np"
   ]
  },
  {
   "cell_type": "markdown",
   "metadata": {
    "collapsed": false
   },
   "source": [
    "# Getting data\n",
    "Get dataset"
   ]
  },
  {
   "cell_type": "code",
   "execution_count": null,
   "metadata": {
    "ExecuteTime": {
     "end_time": "2024-02-18T19:33:15.004839300Z",
     "start_time": "2024-02-18T19:33:14.898616300Z"
    }
   },
   "outputs": [],
   "source": [
    "# Get data as dataframe\n",
    "data = pd.read_csv(\"../data/adult.data.csv\")\n",
    "\n",
    "data.head()"
   ]
  },
  {
   "cell_type": "markdown",
   "metadata": {
    "collapsed": false
   },
   "source": [
    "Drop rows with ? symbol"
   ]
  },
  {
   "cell_type": "code",
   "execution_count": null,
   "metadata": {
    "ExecuteTime": {
     "end_time": "2024-02-18T19:33:15.135252200Z",
     "start_time": "2024-02-18T19:33:15.000842100Z"
    }
   },
   "outputs": [],
   "source": [
    "# Create a mask indicating rows containing '?' symbols\n",
    "mask = np.any(data == \"?\", axis=1)\n",
    "\n",
    "# Select rows that do not contain '?' symbols\n",
    "data = data[~mask]"
   ]
  },
  {
   "cell_type": "markdown",
   "metadata": {
    "collapsed": false
   },
   "source": [
    "Get info"
   ]
  },
  {
   "cell_type": "code",
   "execution_count": null,
   "metadata": {
    "ExecuteTime": {
     "end_time": "2024-02-18T19:33:15.325607700Z",
     "start_time": "2024-02-18T19:33:15.104826300Z"
    }
   },
   "outputs": [],
   "source": [
    "data.info()"
   ]
  },
  {
   "cell_type": "markdown",
   "metadata": {
    "collapsed": false
   },
   "source": [
    "Gat summary"
   ]
  },
  {
   "cell_type": "code",
   "execution_count": null,
   "metadata": {
    "ExecuteTime": {
     "end_time": "2024-02-18T19:33:15.327605500Z",
     "start_time": "2024-02-18T19:33:15.136253800Z"
    }
   },
   "outputs": [],
   "source": [
    "data.describe()"
   ]
  },
  {
   "cell_type": "markdown",
   "metadata": {
    "collapsed": false
   },
   "source": [
    "# Tasks"
   ]
  },
  {
   "cell_type": "markdown",
   "metadata": {},
   "source": [
    "1. How many man and woman are in dataset (by sex feature)?"
   ]
  },
  {
   "cell_type": "code",
   "execution_count": null,
   "metadata": {
    "ExecuteTime": {
     "end_time": "2024-02-18T19:33:15.328605400Z",
     "start_time": "2024-02-18T19:33:15.168618800Z"
    }
   },
   "outputs": [],
   "source": [
    "data.groupby([\"sex\"]).size()"
   ]
  },
  {
   "cell_type": "markdown",
   "metadata": {},
   "source": [
    "2. Woman mean age (by age feature)?"
   ]
  },
  {
   "cell_type": "code",
   "execution_count": null,
   "metadata": {
    "ExecuteTime": {
     "end_time": "2024-02-18T19:33:15.330604800Z",
     "start_time": "2024-02-18T19:33:15.178933Z"
    }
   },
   "outputs": [],
   "source": [
    "female_age_avg = data.groupby([\"sex\"]).get_group(\"Male\")[\"age\"].mean().astype(\"int32\")\n",
    "\n",
    "print(f\"Average female age is: {female_age_avg} year(s)\")"
   ]
  },
  {
   "cell_type": "markdown",
   "metadata": {},
   "source": [
    "3. German citizen ratio (by native-country feature)?"
   ]
  },
  {
   "cell_type": "code",
   "execution_count": null,
   "metadata": {
    "ExecuteTime": {
     "end_time": "2024-02-18T19:33:15.330604800Z",
     "start_time": "2024-02-18T19:33:15.267665100Z"
    }
   },
   "outputs": [],
   "source": [
    "german_person_count = data.groupby([\"native-country\"]).get_group(\"Germany\").shape[0]\n",
    "\n",
    "german_person_ratio = german_person_count / data.shape[0]\n",
    "\n",
    "print(f\"Ratio of persons from Germany is: {german_person_ratio:.3f}.\")"
   ]
  },
  {
   "cell_type": "markdown",
   "metadata": {},
   "source": [
    "4. Age mean and square root mean of persons who earns at least 50K per year ('salary') and for those who earns less?"
   ]
  },
  {
   "cell_type": "code",
   "execution_count": null,
   "metadata": {
    "ExecuteTime": {
     "end_time": "2024-02-18T19:33:15.354644600Z",
     "start_time": "2024-02-18T19:33:15.279967100Z"
    }
   },
   "outputs": [],
   "source": [
    "# Get groups by salary\n",
    "reach_person_group = data.groupby([\"salary\"]).get_group(\">50K\")\n",
    "other_person_group = data.groupby([\"salary\"]).get_group(\"<=50K\")\n",
    "\n",
    "# Get mean ages\n",
    "reach_person_age_mean = reach_person_group[\"age\"].mean()\n",
    "other_person_age_mean = other_person_group[\"age\"].mean()\n",
    "\n",
    "# Get std\n",
    "reach_person_age_std = reach_person_group[\"age\"].std()\n",
    "other_person_age_std = other_person_group[\"age\"].std()\n",
    "\n",
    "age_format = \".0f\"\n",
    "print(\n",
    "    f\"Reach persons have mean age {reach_person_age_mean:.0f}\\\n",
    " with std {reach_person_age_std:.2f}\"\n",
    ")\n",
    "print(\n",
    "    f\"Other persons have mean age {other_person_age_mean:.0f}\\\n",
    " with std {other_person_age_std:.2f}\"\n",
    ")"
   ]
  },
  {
   "cell_type": "markdown",
   "metadata": {},
   "source": [
    "6. Is it true that persons who earns more than 50K have higher education?\n",
    "(Bachelors, Prof-school, Assoc-acdm, Assoc-voc, Masters, Doctorate)"
   ]
  },
  {
   "cell_type": "code",
   "execution_count": null,
   "metadata": {
    "ExecuteTime": {
     "end_time": "2024-02-18T19:33:15.355643700Z",
     "start_time": "2024-02-18T19:33:15.302234700Z"
    }
   },
   "outputs": [],
   "source": [
    "# Set check list of education level\n",
    "higher_education_list = [\n",
    "    \"Bachelors\",\n",
    "    \"Prof-school\",\n",
    "    \"Assoc-acdm\",\n",
    "    \"Assoc-voc\",\n",
    "    \"Masters\",\n",
    "    \"Doctorate\",\n",
    "]\n",
    "\n",
    "# Check condition\n",
    "reach_means_smart = reach_person_group[\"education\"].isin(higher_education_list).all()\n",
    "\n",
    "print(f\"Answer on this question is: {reach_means_smart}.\")"
   ]
  },
  {
   "cell_type": "markdown",
   "metadata": {},
   "source": [
    "7. Age statistics for each race and sex using 'groupby' and 'describe'."
   ]
  },
  {
   "cell_type": "code",
   "execution_count": null,
   "metadata": {
    "ExecuteTime": {
     "end_time": "2024-02-18T19:33:15.516950800Z",
     "start_time": "2024-02-18T19:33:15.309616900Z"
    }
   },
   "outputs": [],
   "source": [
    "# Get group stat\n",
    "race_age_stat = data.groupby([\"race\", \"sex\"])[\"age\"].describe()\n",
    "\n",
    "race_age_stat"
   ]
  },
  {
   "cell_type": "markdown",
   "metadata": {
    "collapsed": false
   },
   "source": [
    "Max age of Amer-Indian-Eskimo man."
   ]
  },
  {
   "cell_type": "code",
   "execution_count": null,
   "metadata": {
    "ExecuteTime": {
     "end_time": "2024-02-18T19:33:15.555003700Z",
     "start_time": "2024-02-18T19:33:15.375416900Z"
    }
   },
   "outputs": [],
   "source": [
    "# Get Amer-Indian-Eskimo male max age\n",
    "max_age = race_age_stat[\"max\"][\"Amer-Indian-Eskimo\"][\"Male\"]\n",
    "\n",
    "print(f\"\\nMax age of Amer-Indian-Eskimo is: {max_age:.0f}\")"
   ]
  },
  {
   "cell_type": "markdown",
   "metadata": {},
   "source": [
    "8. Which category of persons earns at least 50K: married or not (marital-status = (Married-civ-spouse, Married-spouse-absent или Married-AF-spouse)"
   ]
  },
  {
   "cell_type": "code",
   "execution_count": null,
   "metadata": {
    "ExecuteTime": {
     "end_time": "2024-02-18T19:33:15.557002800Z",
     "start_time": "2024-02-18T19:33:15.387172800Z"
    }
   },
   "outputs": [],
   "source": [
    "# Set list of statuses which are equal to married\n",
    "married_statuses = [\"Married-civ-spouse\", \"Married-spouse-absent\", \"Married-AF-spouse\"]\n",
    "\n",
    "# Get mask for married persons\n",
    "data[\"Married\"] = data[\"marital-status\"].isin(married_statuses)\n",
    "\n",
    "# Get ratios\n",
    "married_ratio = (\n",
    "    data[data[\"Married\"]][\"salary\"].value_counts(normalize=True).get(\">50K\", 0)\n",
    ")\n",
    "single_ratio = (\n",
    "    data[~data[\"Married\"]][\"salary\"].value_counts(normalize=True).get(\">50K\", 0)\n",
    ")\n",
    "\n",
    "if married_ratio > single_ratio:\n",
    "    print(\"Reach person ratio is bigger for married persons.\")\n",
    "elif married_ratio < single_ratio:\n",
    "    print(\"Reach person ratio is bigger for single persons.\")\n",
    "else:\n",
    "    print(\"Ratios are identical.\")"
   ]
  },
  {
   "cell_type": "markdown",
   "metadata": {},
   "source": [
    "9. Maximal working hours per week (hours-per-week)? Haw many persons work these hours and how many reach persons among them?"
   ]
  },
  {
   "cell_type": "code",
   "execution_count": null,
   "metadata": {
    "ExecuteTime": {
     "end_time": "2024-02-18T19:33:15.661282600Z",
     "start_time": "2024-02-18T19:33:15.405136200Z"
    }
   },
   "outputs": [],
   "source": [
    "max_hours_per_week = data[\"hours-per-week\"].max()\n",
    "person_count = (data[\"hours-per-week\"] == max_hours_per_week).sum()\n",
    "\n",
    "data[\"hard_worker\"] = data[\"hours-per-week\"] == max_hours_per_week\n",
    "\n",
    "reach_percentage = (\n",
    "    data[data[\"hard_worker\"]][\"salary\"].value_counts(normalize=True).get(\">50K\", 0)\n",
    "    * 100\n",
    ")\n",
    "\n",
    "print(\n",
    "    f\"Max hours per week is {max_hours_per_week}. {person_count} persons do it and {reach_percentage:.1f}% of them are reach persons.\"\n",
    ")"
   ]
  },
  {
   "cell_type": "markdown",
   "metadata": {},
   "source": [
    "10. Average working hours (hours-per-week) for poor and reach persons (salary) for each country (native-country)."
   ]
  },
  {
   "cell_type": "code",
   "execution_count": null,
   "metadata": {
    "ExecuteTime": {
     "end_time": "2024-02-18T19:33:15.663364800Z",
     "start_time": "2024-02-18T19:33:15.412671500Z"
    }
   },
   "outputs": [],
   "source": [
    "average_hours_per_week = data.groupby([\"native-country\", \"salary\"])[\n",
    "    \"hours-per-week\"\n",
    "].mean()\n",
    "average_hours_per_week"
   ]
  }
 ],
 "metadata": {
  "anaconda-cloud": {},
  "kernelspec": {
   "display_name": "Python 3",
   "language": "python",
   "name": "python3"
  },
  "language_info": {
   "codemirror_mode": {
    "name": "ipython",
    "version": 3
   },
   "file_extension": ".py",
   "mimetype": "text/x-python",
   "name": "python",
   "nbconvert_exporter": "python",
   "pygments_lexer": "ipython3",
   "version": "3.6.6"
  }
 },
 "nbformat": 4,
 "nbformat_minor": 1
}
