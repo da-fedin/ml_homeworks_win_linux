{
 "cells": [
  {
   "cell_type": "raw",
   "id": "fd666fff5ab06174",
   "metadata": {
    "collapsed": false
   },
   "source": [
    "# Import dependencies"
   ]
  },
  {
   "cell_type": "code",
   "execution_count": null,
   "id": "initial_id",
   "metadata": {},
   "outputs": [],
   "source": [
    "# import warnings\n",
    "import time\n",
    "import random\n",
    "\n",
    "# For Data science\n",
    "import spacy\n",
    "from spacy.util import minibatch\n",
    "\n",
    "import pandas as pd\n",
    "import seaborn as sns\n",
    "from sklearn.model_selection import train_test_split\n",
    "from sklearn.feature_extraction.text import CountVectorizer\n",
    "\n",
    "import matplotlib.pyplot as plt\n",
    "\n",
    "from sklearn import (\n",
    "    metrics,\n",
    "    linear_model,\n",
    ")\n",
    "\n",
    "from sources import three_sigma_cleared"
   ]
  },
  {
   "cell_type": "markdown",
   "id": "8ba11971040616eb",
   "metadata": {
    "collapsed": false
   },
   "source": [
    "# Getting data, observations\n",
    "## Get dataset"
   ]
  },
  {
   "cell_type": "code",
   "execution_count": null,
   "id": "e8d039075d99938d",
   "metadata": {},
   "outputs": [],
   "source": [
    "# Get dataset from file\n",
    "df = pd.read_csv(\n",
    "    f\"../data/IMDB_Dataset.csv\",\n",
    ")\n",
    "\n",
    "# Show dataset head\n",
    "df.head()"
   ]
  },
  {
   "cell_type": "code",
   "execution_count": null,
   "id": "2930910b051bd35e",
   "metadata": {},
   "outputs": [],
   "source": [
    "review = df.columns[-1]\n",
    "\n",
    "grouped = df.groupby(review).size()"
   ]
  },
  {
   "cell_type": "code",
   "execution_count": null,
   "id": "3c2622e7e3ceecf2",
   "metadata": {},
   "outputs": [],
   "source": [
    "grouped.plot(\n",
    "    kind='bar',\n",
    "    xlabel='Review',\n",
    "    ylabel='Count',\n",
    "    title='Count of Reviews',\n",
    ");"
   ]
  },
  {
   "cell_type": "markdown",
   "id": "c154d1878883edc6",
   "metadata": {
    "collapsed": false
   },
   "source": [
    "Dataframe is balanced."
   ]
  },
  {
   "cell_type": "markdown",
   "id": "c6d92c3afcb9434c",
   "metadata": {
    "collapsed": false
   },
   "source": [
    "# Preprocessing"
   ]
  },
  {
   "cell_type": "code",
   "execution_count": null,
   "id": "c13473865e48fb51",
   "metadata": {},
   "outputs": [],
   "source": [
    "# Set feature and target subsets\n",
    "df['word_count'] = df['review'].apply(lambda x: len(x.split()))\n",
    "\n",
    "# Plot the distribution of word counts\n",
    "plt.figure(figsize=(10, 6))\n",
    "plt.title(\"Distribution of Word Counts\")\n",
    "sns.histplot(x=\"word_count\", data=df, kde=True)\n",
    "plt.xlabel(\"Number of Words\")\n",
    "plt.ylabel(\"Frequency\")\n",
    "plt.show()"
   ]
  },
  {
   "cell_type": "code",
   "execution_count": null,
   "id": "54c883464b9ef3cf",
   "metadata": {},
   "outputs": [],
   "source": [
    "df2 = three_sigma_cleared(\n",
    "    dataset=df,\n",
    "    feature_names=['word_count'],\n",
    ")"
   ]
  },
  {
   "cell_type": "code",
   "execution_count": null,
   "id": "d5944994c68a6227",
   "metadata": {},
   "outputs": [],
   "source": [
    "plt.figure(figsize=(10, 6))\n",
    "sns.boxplot(data=df, x='sentiment', y='word_count')\n",
    "plt.title('Box Plot of Sentiment vs Word Count')\n",
    "plt.xlabel('Sentiment')\n",
    "plt.ylabel('Word Count');"
   ]
  },
  {
   "cell_type": "markdown",
   "id": "8984d9813037a34c",
   "metadata": {
    "collapsed": false
   },
   "source": [
    "# Lasy use"
   ]
  },
  {
   "cell_type": "code",
   "execution_count": null,
   "id": "9bdfc09fe6979fe5",
   "metadata": {},
   "outputs": [],
   "source": [
    "# Load the English model\n",
    "nlp = spacy.load(\n",
    "    name=\"en_core_web_sm\",\n",
    "    # disable=[\n",
    "    #     \"tagger\",\n",
    "    #     \"attribute_ruler\",\n",
    "    #     \"lemmatizer\"\n",
    "    # ],\n",
    ")\n",
    "\n",
    "nlp.vocab.reset_vectors(width=64)\n",
    "\n",
    "# Preprocess text function\n",
    "def spacy_preprocessed_text(text):\n",
    "    doc = nlp(text)\n",
    "    tokens = [token.lemma_ for token in doc if not token.is_stop and not token.is_punct]\n",
    "    \n",
    "    return ' '.join(tokens)\n",
    "\n",
    "start_time = time.time()\n",
    "\n",
    "df = df[:1000]\n",
    "\n",
    "df['processed_review'] = df['review'].apply(spacy_preprocessed_text)\n",
    "\n",
    "print(\"--- %s seconds ---\" % (time.time() - start_time))"
   ]
  },
  {
   "cell_type": "code",
   "execution_count": null,
   "id": "b94fdb54e80b6566",
   "metadata": {},
   "outputs": [],
   "source": [
    "list(nlp.pipe_labels.keys())"
   ]
  },
  {
   "cell_type": "code",
   "execution_count": null,
   "id": "d8ac7c6674d097b",
   "metadata": {},
   "outputs": [],
   "source": [
    "nlp.pipe_names"
   ]
  },
  {
   "cell_type": "code",
   "execution_count": null,
   "id": "2ca829661bc2aa60",
   "metadata": {},
   "outputs": [],
   "source": [
    "df['sentiment'] = df['sentiment'].map({'positive': 1, 'negative': 0})"
   ]
  },
  {
   "cell_type": "code",
   "execution_count": null,
   "id": "434d111493f92dce",
   "metadata": {},
   "outputs": [],
   "source": [
    "train_df, test_df = train_test_split(\n",
    "    df,\n",
    "    test_size=0.3,\n",
    "    random_state=42,\n",
    ")"
   ]
  },
  {
   "cell_type": "code",
   "execution_count": null,
   "id": "5a65052f85f7dec1",
   "metadata": {},
   "outputs": [],
   "source": [
    "train_df"
   ]
  },
  {
   "cell_type": "code",
   "execution_count": null,
   "id": "6f91d980b0c690e1",
   "metadata": {},
   "outputs": [],
   "source": [
    "vectorizer = CountVectorizer()\n",
    "\n",
    "X_train = vectorizer.fit_transform(train_df['processed_review'])\n",
    "X_test = vectorizer.transform(test_df['processed_review'])\n",
    "y_train = train_df['sentiment']\n",
    "y_test = test_df['sentiment']"
   ]
  },
  {
   "cell_type": "code",
   "execution_count": null,
   "id": "b221fd7c8f359283",
   "metadata": {},
   "outputs": [],
   "source": [
    "classifier = linear_model.LogisticRegression(\n",
    "    max_iter=500,\n",
    ")\n",
    "\n",
    "classifier.fit(X_train, y_train)\n",
    "\n",
    "prediction = classifier.predict(X_test)"
   ]
  },
  {
   "cell_type": "code",
   "execution_count": null,
   "id": "fd753b0bd4d78b43",
   "metadata": {},
   "outputs": [],
   "source": [
    "confusion_matrix = metrics.confusion_matrix(\n",
    "    y_true=y_test,\n",
    "    y_pred=prediction,\n",
    "    labels=classifier.classes_,\n",
    ")\n",
    "\n",
    "confusion_matrix"
   ]
  },
  {
   "cell_type": "code",
   "execution_count": null,
   "id": "2156e256e2ccb711",
   "metadata": {},
   "outputs": [],
   "source": [
    "disp = metrics.ConfusionMatrixDisplay(\n",
    "    confusion_matrix=confusion_matrix,\n",
    "    display_labels=classifier.classes_,\n",
    ")\n",
    "\n",
    "disp.plot(cmap='Blues');"
   ]
  },
  {
   "cell_type": "code",
   "execution_count": null,
   "id": "46f2d0047e4079dc",
   "metadata": {},
   "outputs": [],
   "source": [
    "# Get density plot\n",
    "# for test data\n",
    "sns.kdeplot(\n",
    "    y_test,\n",
    "    fill=False,\n",
    "    color='r',\n",
    "    label='test subset',\n",
    ")\n",
    "\n",
    "# for predicted data\n",
    "sns.kdeplot(\n",
    "    prediction,\n",
    "    fill=True,\n",
    "    color='b',\n",
    "    label='predicted',\n",
    ")\n",
    "\n",
    "# Plot\n",
    "plt.title('Distribution of observations in test dataset and and predicted dataset')\n",
    "plt.legend();"
   ]
  },
  {
   "cell_type": "code",
   "execution_count": null,
   "id": "3b16bd184e17d19e",
   "metadata": {},
   "outputs": [],
   "source": [
    "print(\n",
    "    metrics.classification_report(\n",
    "    y_true=y_test,\n",
    "    y_pred=prediction,\n",
    "    target_names=['class 1', 'class 2'],\n",
    "    )\n",
    ")"
   ]
  },
  {
   "cell_type": "markdown",
   "id": "56c75e3a1a3b3e4",
   "metadata": {
    "collapsed": false
   },
   "source": [
    "Use spaCy for classification"
   ]
  },
  {
   "cell_type": "code",
   "execution_count": null,
   "id": "ead773482f0057ca",
   "metadata": {},
   "outputs": [],
   "source": [
    "nlp= spacy.load(r'en_core_web_sm')\n",
    "\n",
    "# Adding the built-in textcat component to the pipeline.\n",
    "if 'textcat' not in nlp.pipe_names:\n",
    "    textcat=nlp.add_pipe(\n",
    "        'textcat',\n",
    "        last=True,\n",
    "    )#, config={\"exclusive_classes\": True, \"architecture\": \"simple_cnn\"})\n",
    "\n",
    "else:\n",
    "    nlp.get_pipe('textcat')\n",
    "\n",
    "nlp.pipe_names[-1]"
   ]
  },
  {
   "cell_type": "code",
   "execution_count": null,
   "id": "e12aebf9a45c7989",
   "metadata": {},
   "outputs": [],
   "source": [
    "train_texts = df['review'].values\n",
    "\n",
    "train_labels = [\n",
    "    {\n",
    "        'cats': {\n",
    "            'positive': label == 'positive',\n",
    "            'negative': label == 'negative',\n",
    "        }\n",
    "    } for label in df['sentiment']\n",
    "]\n",
    "\n",
    "train_data = list(zip(train_texts, train_labels))"
   ]
  },
  {
   "cell_type": "code",
   "execution_count": null,
   "id": "c7c0b3dbf485f65b",
   "metadata": {},
   "outputs": [],
   "source": [
    "# get names of other pipes to disable them during training\n",
    "other_pipes = [pipe for pipe in nlp.pipe_names if pipe != 'textcat']"
   ]
  },
  {
   "cell_type": "code",
   "execution_count": null,
   "id": "436de4d1f22d5b1e",
   "metadata": {},
   "outputs": [],
   "source": [
    "optimizer = nlp.create_optimizer()"
   ]
  },
  {
   "cell_type": "code",
   "execution_count": null,
   "id": "be8e4b82c19831b5",
   "metadata": {},
   "outputs": [],
   "source": [
    "# nlp= spacy.load(r'en_core_web_sm')\n",
    "# \n",
    "# # Adding the built-in textcat component to the pipeline.\n",
    "# textcat = nlp.add_pipe(\"textcat\")\n",
    "# \n",
    "# # Adding the labels to textcat\n",
    "# textcat.add_label(\"positive\")\n",
    "# textcat.add_label(\"negative\")\n",
    "# \n",
    "# print(nlp.pipe_names)"
   ]
  },
  {
   "cell_type": "code",
   "execution_count": null,
   "id": "bffb695e8927d0fb",
   "metadata": {},
   "outputs": [],
   "source": []
  },
  {
   "cell_type": "code",
   "execution_count": null,
   "id": "e9c2c9b1ba692865",
   "metadata": {},
   "outputs": [],
   "source": [
    "# train_data = list(zip(train_texts, train_labels))"
   ]
  },
  {
   "cell_type": "code",
   "execution_count": null,
   "id": "5755d323ac7c5aa7",
   "metadata": {},
   "outputs": [],
   "source": [
    "# train the model\n",
    "# optimizer = nlp.begin_training()\n",
    "\n",
    "# losses = {}\n",
    "# \n",
    "# for epoch in range(2):\n",
    "#     random.shuffle(train_data)\n",
    "    # batches = minibatch(train_data,size=10)\n",
    "    \n",
    "    # for batch in batches:\n",
    "    #     texts,labels = zip(*batch)\n",
    "    #     nlp.update(texts, labels, sgd=optimizer, losses=losses)\n",
    "        \n",
    "    # print(losses)"
   ]
  },
  {
   "cell_type": "code",
   "execution_count": null,
   "id": "f5f68ca3a48ec64e",
   "metadata": {},
   "outputs": [],
   "source": [
    "\n",
    "# Construction via add_pipe with custom model\n",
    "# config = {\"model\": {\"@architectures\": \"my_textcat\"}}\n",
    "# parser = nlp.add_pipe(\"textcat\", config=config)\n",
    "\n",
    "# Construction from class\n",
    "# Use 'MultiLabel_TextCategorizer' for multi-label classification\n",
    "\n",
    "# textcat = TextCategorizer(nlp.vocab, model, threshold=0.5)"
   ]
  },
  {
   "cell_type": "code",
   "execution_count": null,
   "id": "45b83f139fc2c884",
   "metadata": {},
   "outputs": [],
   "source": [
    "# # Create a blank spacy model\n",
    "# nlp = spacy.blank(\"en\")\n",
    "# \n",
    "# textcat = nlp.create_pipe(\"textcat\", config={\n",
    "#                                         \"exclusive_classes\": True,\n",
    "#                                         \"architecture\": \"simple_cnn\"})\n",
    "# textcat.add_label(\"positive\")\n",
    "# textcat.add_label(\"negative\")\n",
    "# # nlp.add_pipe(textcat, last=True)"
   ]
  }
 ],
 "metadata": {
  "kernelspec": {
   "display_name": "Python 3",
   "language": "python",
   "name": "python3"
  },
  "language_info": {
   "codemirror_mode": {
    "name": "ipython",
    "version": 2
   },
   "file_extension": ".py",
   "mimetype": "text/x-python",
   "name": "python",
   "nbconvert_exporter": "python",
   "pygments_lexer": "ipython2",
   "version": "2.7.6"
  }
 },
 "nbformat": 4,
 "nbformat_minor": 5
}
