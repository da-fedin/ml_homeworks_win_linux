{
 "cells": [
  {
   "cell_type": "markdown",
   "metadata": {},
   "source": [
    "<center>\n",
    "<img src=\"../../img/ods_stickers.jpg\">\n",
    "## Открытый курс по машинному обучению\n",
    "<center>\n",
    "Автор материала: Юрий Кашницкий, программист-исследователь Mail.Ru Group <br> \n",
    "\n",
    "Материал распространяется на условиях лицензии [Creative Commons CC BY-NC-SA 4.0](https://creativecommons.org/licenses/by-nc-sa/4.0/). Можно использовать в любых целях (редактировать, поправлять и брать за основу), кроме коммерческих, но с обязательным упоминанием автора материала."
   ]
  },
  {
   "cell_type": "markdown",
   "metadata": {},
   "source": [
    "# <center>Домашнее задание № 1 (демо).<br> Анализ данных по доходу населения UCI Adult</center>"
   ]
  },
  {
   "cell_type": "markdown",
   "metadata": {},
   "source": [
    "**В задании предлагается с помощью Pandas ответить на несколько вопросов по данным репозитория UCI [Adult](https://archive.ics.uci.edu/ml/datasets/Adult) (качать данные не надо – они уже есть в репозитории).**"
   ]
  },
  {
   "cell_type": "markdown",
   "metadata": {},
   "source": [
    "Уникальные значения признаков (больше информации по ссылке выше):\n",
    "- age: continuous.\n",
    "- workclass: Private, Self-emp-not-inc, Self-emp-inc, Federal-gov, Local-gov, State-gov, Without-pay, Never-worked.\n",
    "- fnlwgt: continuous.\n",
    "- education: Bachelors, Some-college, 11th, HS-grad, Prof-school, Assoc-acdm, Assoc-voc, 9th, 7th-8th, 12th, Masters, 1st-4th, 10th, Doctorate, 5th-6th, Preschool.\n",
    "- education-num: continuous.\n",
    "- marital-status: Married-civ-spouse, Divorced, Never-married, Separated, Widowed, Married-spouse-absent, Married-AF-spouse.\n",
    "- occupation: Tech-support, Craft-repair, Other-service, Sales, Exec-managerial, Prof-specialty, Handlers-cleaners, Machine-op-inspct, Adm-clerical, Farming-fishing, Transport-moving, Priv-house-serv, Protective-serv, Armed-Forces.\n",
    "- relationship: Wife, Own-child, Husband, Not-in-family, Other-relative, Unmarried.\n",
    "- race: White, Asian-Pac-Islander, Amer-Indian-Eskimo, Other, Black.\n",
    "- sex: Female, Male.\n",
    "- capital-gain: continuous.\n",
    "- capital-loss: continuous.\n",
    "- hours-per-week: continuous.\n",
    "- native-country: United-States, Cambodia, England, Puerto-Rico, Canada, Germany, Outlying-US(Guam-USVI-etc), India, Japan, Greece, South, China, Cuba, Iran, Honduras, Philippines, Italy, Poland, Jamaica, Vietnam, Mexico, Portugal, Ireland, France, Dominican-Republic, Laos, Ecuador, Taiwan, Haiti, Columbia, Hungary, Guatemala, Nicaragua, Scotland, Thailand, Yugoslavia, El-Salvador, Trinadad&Tobago, Peru, Hong, Holand-Netherlands.   \n",
    "- salary: >50K,<=50K"
   ]
  },
  {
   "cell_type": "code",
   "execution_count": null,
   "metadata": {
    "ExecuteTime": {
     "end_time": "2023-12-27T17:16:35.595241542Z",
     "start_time": "2023-12-27T17:16:35.438840632Z"
    }
   },
   "outputs": [],
   "source": [
    "import numpy as np\n",
    "import pandas as pd"
   ]
  },
  {
   "cell_type": "code",
   "execution_count": null,
   "metadata": {
    "ExecuteTime": {
     "end_time": "2023-12-27T17:16:35.881234066Z",
     "start_time": "2023-12-27T17:16:35.457928107Z"
    }
   },
   "outputs": [],
   "source": [
    "data = pd.read_csv('adult.data.csv')\n",
    "data.head()"
   ]
  },
  {
   "cell_type": "markdown",
   "metadata": {},
   "source": [
    "**1. Сколько мужчин и женщин (признак *sex*) представлено в этом наборе данных?**"
   ]
  },
  {
   "cell_type": "code",
   "execution_count": null,
   "metadata": {
    "ExecuteTime": {
     "end_time": "2023-12-27T17:16:35.881579381Z",
     "start_time": "2023-12-27T17:16:35.643915872Z"
    }
   },
   "outputs": [],
   "source": [
    "data.groupby(['sex']).size()"
   ]
  },
  {
   "cell_type": "markdown",
   "metadata": {},
   "source": [
    "**2. Каков средний возраст (признак *age*) женщин?**"
   ]
  },
  {
   "cell_type": "code",
   "execution_count": null,
   "metadata": {
    "ExecuteTime": {
     "end_time": "2023-12-27T17:16:35.881812322Z",
     "start_time": "2023-12-27T17:16:35.645040328Z"
    }
   },
   "outputs": [],
   "source": [
    "female_age_avg = data.groupby(['sex']).get_group('Male')['age'].mean().astype('int32')\n",
    "print(f\"Average female age is: {female_age_avg} year(s)\")"
   ]
  },
  {
   "cell_type": "markdown",
   "metadata": {},
   "source": [
    "**3. Какова доля граждан Германии (признак *native-country*)?**"
   ]
  },
  {
   "cell_type": "code",
   "execution_count": null,
   "metadata": {
    "ExecuteTime": {
     "end_time": "2023-12-27T17:16:35.882413887Z",
     "start_time": "2023-12-27T17:16:35.648402358Z"
    }
   },
   "outputs": [],
   "source": [
    "german_person_count = data.groupby(['native-country']).get_group('Germany').shape[0]\n",
    "german_person_ratio = german_person_count / data.shape[0]\n",
    "print(f\"Ratio of persons from Germany is: {german_person_ratio}\")"
   ]
  },
  {
   "cell_type": "markdown",
   "metadata": {},
   "source": [
    "**4-5. Каковы средние значения и среднеквадратичные отклонения возраста тех, кто получает более 50K в год (признак *salary*) и тех, кто получает менее 50K в год? **"
   ]
  },
  {
   "cell_type": "code",
   "execution_count": null,
   "metadata": {
    "ExecuteTime": {
     "end_time": "2023-12-27T17:16:35.882713581Z",
     "start_time": "2023-12-27T17:16:35.657804686Z"
    }
   },
   "outputs": [],
   "source": [
    "# Get groups by salary\n",
    "reach_person_group = data.groupby(['salary']).get_group('>50K')\n",
    "other_person_group = data.groupby(['salary']).get_group('<=50K')\n",
    "\n",
    "# Get mean ages\n",
    "reach_person_age_mean = reach_person_group['age'].mean()\n",
    "other_person_age_mean = other_person_group['age'].mean()\n",
    "\n",
    "# Get std\n",
    "reach_person_age_std= reach_person_group['age'].std()\n",
    "other_person_age_std = other_person_group['age'].std()\n",
    "\n",
    "age_format = '.0f'\n",
    "print(f\"Reach persons have mean age {reach_person_age_mean:{age_format}} with std {reach_person_age_std:{age_format}}\")\n",
    "print(f\"Other persons have mean age {other_person_age_mean:{age_format}} with std {other_person_age_std:{age_format}}\")"
   ]
  },
  {
   "cell_type": "markdown",
   "metadata": {},
   "source": [
    "**6. Правда ли, что люди, которые получают больше 50k, имеют как минимум высшее образование? (признак *education – Bachelors, Prof-school, Assoc-acdm, Assoc-voc, Masters* или *Doctorate*)**"
   ]
  },
  {
   "cell_type": "code",
   "execution_count": null,
   "metadata": {
    "ExecuteTime": {
     "end_time": "2023-12-27T17:16:35.883840789Z",
     "start_time": "2023-12-27T17:16:35.688630077Z"
    }
   },
   "outputs": [],
   "source": [
    "# Set check list of education level\n",
    "higher_education_list = ['Bachelors', 'Prof-school', 'Assoc-acdm', 'Assoc-voc', 'Masters', 'Doctorate']\n",
    "\n",
    "# Check condition\n",
    "reach_means_smart = reach_person_group['education'].isin(higher_education_list).all()\n",
    "\n",
    "print(f\"Answer on this question is: {reach_means_smart}\")"
   ]
  },
  {
   "cell_type": "markdown",
   "metadata": {},
   "source": [
    "**7. Выведите статистику возраста для каждой расы (признак *race*) и каждого пола. Используйте *groupby* и *describe*. Найдите таким образом максимальный возраст мужчин расы *Amer-Indian-Eskimo*.**"
   ]
  },
  {
   "cell_type": "code",
   "execution_count": null,
   "metadata": {
    "ExecuteTime": {
     "end_time": "2023-12-27T17:22:15.060975590Z",
     "start_time": "2023-12-27T17:22:14.923662949Z"
    }
   },
   "outputs": [],
   "source": [
    "# Get group stat\n",
    "race_age_stat = data.groupby(['race', 'sex'])['age'].describe()\n",
    "\n",
    "# Get Amer-Indian-Eskimo male max age\n",
    "max_age = race_age_stat['max']['Amer-Indian-Eskimo']['Male']\n",
    "\n",
    "print(f\"Statistics:\\n{race_age_stat}\")\n",
    "print(f\"\\nMax age of Amer-Indian-Eskimo is: {max_age}\")"
   ]
  },
  {
   "cell_type": "markdown",
   "metadata": {},
   "source": [
    "**8. Среди кого больше доля зарабатывающих много (>50K): среди женатых или холостых мужчин (признак *marital-status*)? Женатыми считаем тех, у кого *marital-status* начинается с *Married* (Married-civ-spouse, Married-spouse-absent или Married-AF-spouse), остальных считаем холостыми.**"
   ]
  },
  {
   "cell_type": "code",
   "execution_count": null,
   "metadata": {
    "ExecuteTime": {
     "end_time": "2023-12-27T17:16:35.884914089Z",
     "start_time": "2023-12-27T17:16:35.775946400Z"
    }
   },
   "outputs": [],
   "source": [
    "# Set list of statuses which are equal to married\n",
    "married_statuses = ['Married-civ-spouse', 'Married-spouse-absent', 'Married-AF-spouse']\n",
    "\n",
    "# Get mask for married persons\n",
    "data['Married'] = data['marital-status'].isin(married_statuses)\n",
    "\n",
    "# Get ratios\n",
    "married_ratio = data[data['Married']]['salary'].value_counts(normalize=True).get('>50K', 0)\n",
    "single_ratio = data[~data['Married']]['salary'].value_counts(normalize=True).get('>50K', 0)\n",
    "\n",
    "if married_ratio > single_ratio:\n",
    "    print(\"Reach person ratio is bigger for married persons.\")\n",
    "elif married_ratio < single_ratio:\n",
    "    print(\"Reach person ratio is bigger for single persons.\")\n",
    "else:\n",
    "    print(\"Ratios are identical.\")"
   ]
  },
  {
   "cell_type": "markdown",
   "metadata": {},
   "source": [
    "**9. Какое максимальное число часов человек работает в неделю (признак *hours-per-week*)? Сколько людей работают такое количество часов и каков среди них процент зарабатывающих много?**"
   ]
  },
  {
   "cell_type": "code",
   "execution_count": null,
   "metadata": {
    "ExecuteTime": {
     "end_time": "2023-12-27T17:16:35.906258442Z",
     "start_time": "2023-12-27T17:16:35.786110711Z"
    }
   },
   "outputs": [],
   "source": [
    "max_hours_per_week = data['hours-per-week'].max()\n",
    "person_count = (data['hours-per-week'] == max_hours_per_week).sum()\n",
    "\n",
    "data['hard_worker'] = (data['hours-per-week'] == max_hours_per_week)\n",
    "\n",
    "reach_percentage = data[data['hard_worker']]['salary'].value_counts(normalize=True).get('>50K', 0) * 100\n",
    "\n",
    "print(f\"Max hours per week is {max_hours_per_week}. {person_count} persons do it and {reach_percentage:.1f}% of them are reach persons.\")"
   ]
  },
  {
   "cell_type": "markdown",
   "metadata": {},
   "source": [
    "**10. Посчитайте среднее время работы (*hours-per-week*) зарабатывающих мало и много (*salary*) для каждой страны (*native-country*).**"
   ]
  },
  {
   "cell_type": "code",
   "execution_count": null,
   "metadata": {
    "ExecuteTime": {
     "end_time": "2023-12-27T17:16:35.906758101Z",
     "start_time": "2023-12-27T17:16:35.827731891Z"
    }
   },
   "outputs": [],
   "source": [
    "average_hours_per_week = data.groupby(['native-country', 'salary'])['hours-per-week'].mean()\n",
    "average_hours_per_week"
   ]
  }
 ],
 "metadata": {
  "anaconda-cloud": {},
  "kernelspec": {
   "display_name": "Python 3",
   "language": "python",
   "name": "python3"
  },
  "language_info": {
   "codemirror_mode": {
    "name": "ipython",
    "version": 3
   },
   "file_extension": ".py",
   "mimetype": "text/x-python",
   "name": "python",
   "nbconvert_exporter": "python",
   "pygments_lexer": "ipython3",
   "version": "3.6.6"
  }
 },
 "nbformat": 4,
 "nbformat_minor": 1
}
