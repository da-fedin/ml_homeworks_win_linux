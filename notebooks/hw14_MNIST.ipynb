{
 "cells": [
  {
   "cell_type": "code",
   "execution_count": null,
   "id": "initial_id",
   "metadata": {},
   "outputs": [],
   "source": [
    "import warnings\n",
    "\n",
    "import numpy as np\n",
    "# import matplotlib.pyplot as plt\n",
    "# import seaborn as sns\n",
    "from keras.datasets import mnist\n",
    "from keras.utils import to_categorical, disable_interactive_logging\n",
    "# from keras.applications.densenet import DenseNet121\n",
    "from keras.layers import Flatten, Dense\n",
    "from keras.models import Model\n",
    "from keras.optimizers import Adam\n",
    "from keras.losses import SparseCategoricalCrossentropy\n",
    "from keras.metrics import SparseCategoricalAccuracy\n",
    "# from keras.callbacks import TensorBoard\n",
    "\n",
    "# from datetime import datetime\n",
    "from skimage.transform import resize\n",
    "\n",
    "# Suppress specific warning message\n",
    "warnings.filterwarnings(\n",
    "    action='ignore',\n",
    "    message='The name tf.executing_eagerly_outside_functions is deprecated.*',\n",
    ")\n",
    "warnings.filterwarnings(\"ignore\")\n",
    "disable_interactive_logging();"
   ]
  },
  {
   "cell_type": "code",
   "execution_count": null,
   "id": "8373578708e534b",
   "metadata": {},
   "outputs": [],
   "source": [
    "# Load MNIST dataset\n",
    "(train_images, train_labels), (test_images, test_labels) = mnist.load_data()\n",
    "\n",
    "# Resize images to match the required input size of DenseNet (32x32)\n",
    "train_images_resized = np.array([resize(img, (32, 32)) for img in train_images])\n",
    "test_images_resized = np.array([resize(img, (32, 32)) for img in test_images])\n",
    "\n",
    "# Normalize pixel values to be between 0 and 1\n",
    "train_images_resized = train_images_resized.astype('float32') / 255\n",
    "test_images_resized = test_images_resized.astype('float32') / 255\n",
    "\n",
    "# Replicate single channel across three channels to match DenseNet input shape\n",
    "train_images_resized = np.repeat(train_images_resized[..., np.newaxis], 3, axis=-1)\n",
    "test_images_resized = np.repeat(test_images_resized[..., np.newaxis], 3, axis=-1)\n",
    "\n",
    "# One-hot encode labels\n",
    "train_labels = to_categorical(train_labels)\n",
    "test_labels = to_categorical(test_labels)"
   ]
  },
  {
   "cell_type": "code",
   "execution_count": null,
   "id": "74492c73f39551ea",
   "metadata": {},
   "outputs": [],
   "source": [
    "# model = Model.Sequential([\n",
    "#   Flatten(input_shape=(28, 28)),\n",
    "#   Dense(128, activation='relu'),\n",
    "#   Dense(10)\n",
    "# ])\n",
    "# model.compile(\n",
    "#     optimizer=Adam(0.001),\n",
    "#     loss=SparseCategoricalCrossentropy(from_logits=True),\n",
    "#     metrics=[SparseCategoricalAccuracy()],\n",
    "# )\n",
    "# \n",
    "# model.fit(\n",
    "#     train_images_resized,\n",
    "#     epochs=6,\n",
    "#     validation_data=test_images_resized,\n",
    "# )"
   ]
  }
 ],
 "metadata": {
  "kernelspec": {
   "display_name": "Python 3",
   "language": "python",
   "name": "python3"
  },
  "language_info": {
   "codemirror_mode": {
    "name": "ipython",
    "version": 2
   },
   "file_extension": ".py",
   "mimetype": "text/x-python",
   "name": "python",
   "nbconvert_exporter": "python",
   "pygments_lexer": "ipython2",
   "version": "2.7.6"
  }
 },
 "nbformat": 4,
 "nbformat_minor": 5
}
