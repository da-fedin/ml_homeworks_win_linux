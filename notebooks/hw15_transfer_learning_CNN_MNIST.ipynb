{
 "cells": [
  {
   "cell_type": "markdown",
   "metadata": {
    "collapsed": false
   },
   "source": [
    "# Import dependencies."
   ]
  },
  {
   "cell_type": "code",
   "execution_count": null,
   "metadata": {
    "ExecuteTime": {
     "end_time": "2024-02-07T16:11:18.633832600Z",
     "start_time": "2024-02-07T16:11:18.533312400Z"
    }
   },
   "outputs": [],
   "source": [
    "import warnings\n",
    "\n",
    "import numpy as np\n",
    "import matplotlib.pyplot as plt\n",
    "import seaborn as sns\n",
    "from keras.datasets import mnist\n",
    "from keras.utils import to_categorical, disable_interactive_logging\n",
    "from keras.applications.densenet import DenseNet121\n",
    "from keras.layers import Dense, GlobalAveragePooling2D\n",
    "from keras.models import Model\n",
    "from keras.optimizers import Adam\n",
    "from keras.callbacks import TensorBoard\n",
    "\n",
    "from datetime import datetime\n",
    "from skimage.transform import resize"
   ]
  },
  {
   "cell_type": "markdown",
   "metadata": {
    "collapsed": false
   },
   "source": [
    "Mute warnings"
   ]
  },
  {
   "cell_type": "code",
   "execution_count": null,
   "metadata": {
    "ExecuteTime": {
     "end_time": "2024-02-07T16:11:18.703899400Z",
     "start_time": "2024-02-07T16:11:18.641935100Z"
    }
   },
   "outputs": [],
   "source": [
    "# Suppress specific warning message\n",
    "warnings.filterwarnings(\n",
    "    action='ignore',\n",
    "    message='The name*',\n",
    ")\n",
    "\n",
    "warnings.filterwarnings(\n",
    "    action='ignore',\n",
    "    message='tensorflow*',\n",
    ")\n",
    "\n",
    "warnings.filterwarnings(\n",
    "    action='ignore',\n",
    "    message='WARNING*',\n",
    ")\n",
    "\n",
    "warnings.filterwarnings(\"ignore\")\n",
    "disable_interactive_logging();"
   ]
  },
  {
   "cell_type": "markdown",
   "metadata": {
    "collapsed": false
   },
   "source": [
    "# Getting data, observations\n",
    "## Get dataset"
   ]
  },
  {
   "cell_type": "code",
   "execution_count": null,
   "metadata": {
    "ExecuteTime": {
     "end_time": "2024-02-07T16:11:19.099179100Z",
     "start_time": "2024-02-07T16:11:18.687910200Z"
    }
   },
   "outputs": [],
   "source": [
    "# Load MNIST dataset\n",
    "(train_images, train_labels), (test_images, test_labels) = mnist.load_data()"
   ]
  },
  {
   "cell_type": "markdown",
   "metadata": {
    "collapsed": false
   },
   "source": [
    "Show original images"
   ]
  },
  {
   "cell_type": "code",
   "execution_count": null,
   "metadata": {
    "ExecuteTime": {
     "end_time": "2024-02-07T16:11:22.053762200Z",
     "start_time": "2024-02-07T16:11:19.063086Z"
    }
   },
   "outputs": [],
   "source": [
    "# Sample 25 mnist digits from train dataset\n",
    "indexes = np.random.randint(0, train_images.shape[0], size=25)\n",
    "images = train_images[indexes]\n",
    "labels = train_labels[indexes]\n",
    "\n",
    "# Plot the 25 mnist digits\n",
    "plt.figure(figsize=(5,5))\n",
    "\n",
    "for i in range(len(indexes)):\n",
    "    plt.subplot(5, 5, i + 1)\n",
    "    image = images[i]\n",
    "    plt.imshow(image, cmap='gray')\n",
    "    plt.axis('off')\n",
    "    \n",
    "plt.show()\n",
    "plt.savefig(\"mnist-samples.png\")\n",
    "plt.close('all')"
   ]
  },
  {
   "cell_type": "markdown",
   "metadata": {
    "collapsed": false
   },
   "source": [
    "## Preprocessing\n",
    "Reshape data"
   ]
  },
  {
   "cell_type": "code",
   "execution_count": null,
   "metadata": {
    "ExecuteTime": {
     "end_time": "2024-02-07T16:11:35.964875700Z",
     "start_time": "2024-02-07T16:11:22.054761Z"
    }
   },
   "outputs": [],
   "source": [
    "# Resize images to match the required input size of DenseNet (32x32)\n",
    "train_images_resized = np.array([resize(img, (32, 32)) for img in train_images])\n",
    "test_images_resized = np.array([resize(img, (32, 32)) for img in test_images])"
   ]
  },
  {
   "cell_type": "markdown",
   "metadata": {
    "collapsed": false
   },
   "source": [
    "Resize image"
   ]
  },
  {
   "cell_type": "code",
   "execution_count": null,
   "metadata": {
    "ExecuteTime": {
     "end_time": "2024-02-07T16:11:36.248822400Z",
     "start_time": "2024-02-07T16:11:35.968873700Z"
    }
   },
   "outputs": [],
   "source": [
    "# Normalize pixel values to be between 0 and 1\n",
    "train_images_resized = train_images_resized.astype('float32') / 255\n",
    "test_images_resized = test_images_resized.astype('float32') / 255"
   ]
  },
  {
   "cell_type": "markdown",
   "metadata": {
    "collapsed": false
   },
   "source": [
    "Replicate channels"
   ]
  },
  {
   "cell_type": "code",
   "execution_count": null,
   "metadata": {
    "ExecuteTime": {
     "end_time": "2024-02-07T16:11:37.594162600Z",
     "start_time": "2024-02-07T16:11:36.250822500Z"
    }
   },
   "outputs": [],
   "source": [
    "# Replicate single channel across three channels to match DenseNet input shape\n",
    "train_images_resized = np.repeat(train_images_resized[..., np.newaxis], 3, axis=-1)\n",
    "test_images_resized = np.repeat(test_images_resized[..., np.newaxis], 3, axis=-1)"
   ]
  },
  {
   "cell_type": "markdown",
   "metadata": {
    "collapsed": false
   },
   "source": [
    "Make labels"
   ]
  },
  {
   "cell_type": "code",
   "execution_count": null,
   "metadata": {
    "ExecuteTime": {
     "end_time": "2024-02-07T16:11:37.608522700Z",
     "start_time": "2024-02-07T16:11:37.595162200Z"
    }
   },
   "outputs": [],
   "source": [
    "# One-hot encode labels\n",
    "train_labels = to_categorical(train_labels)\n",
    "test_labels = to_categorical(test_labels)"
   ]
  },
  {
   "cell_type": "markdown",
   "metadata": {
    "collapsed": false
   },
   "source": [
    "#  Transfer learning\n",
    "## Get and modify pre-trained model"
   ]
  },
  {
   "cell_type": "markdown",
   "metadata": {
    "collapsed": false
   },
   "source": [
    "Get pre-trained keras model"
   ]
  },
  {
   "cell_type": "code",
   "execution_count": null,
   "metadata": {
    "ExecuteTime": {
     "end_time": "2024-02-07T16:11:41.020709Z",
     "start_time": "2024-02-07T16:11:37.603526800Z"
    }
   },
   "outputs": [],
   "source": [
    "# Load pre-trained DenseNet model without the top layer\n",
    "base_model = DenseNet121(\n",
    "    weights='imagenet',\n",
    "    include_top=False,\n",
    "    input_shape=(32, 32, 3),\n",
    ")"
   ]
  },
  {
   "cell_type": "markdown",
   "metadata": {
    "collapsed": false
   },
   "source": [
    "Show model"
   ]
  },
  {
   "cell_type": "code",
   "execution_count": null,
   "metadata": {
    "ExecuteTime": {
     "end_time": "2024-02-07T16:11:41.059646Z",
     "start_time": "2024-02-07T16:11:41.021708700Z"
    }
   },
   "outputs": [],
   "source": [
    "base_model.layers"
   ]
  },
  {
   "cell_type": "code",
   "execution_count": null,
   "metadata": {
    "ExecuteTime": {
     "end_time": "2024-02-07T16:11:41.061644600Z",
     "start_time": "2024-02-07T16:11:41.057646800Z"
    }
   },
   "outputs": [],
   "source": [
    "print(f'Model has: {len(base_model.layers)} layers')"
   ]
  },
  {
   "cell_type": "markdown",
   "metadata": {
    "collapsed": false
   },
   "source": [
    "Add custom classification layers"
   ]
  },
  {
   "cell_type": "code",
   "execution_count": null,
   "metadata": {
    "ExecuteTime": {
     "end_time": "2024-02-07T16:11:41.081784Z",
     "start_time": "2024-02-07T16:11:41.061644600Z"
    }
   },
   "outputs": [],
   "source": [
    "# Get output tensor of the last layer in the base model\n",
    "output_tensor = base_model.output\n",
    "\n",
    "output_tensor"
   ]
  },
  {
   "cell_type": "markdown",
   "metadata": {
    "collapsed": false
   },
   "source": [
    "Add layer to the end of model"
   ]
  },
  {
   "cell_type": "code",
   "execution_count": null,
   "metadata": {
    "ExecuteTime": {
     "end_time": "2024-02-07T16:11:41.200964900Z",
     "start_time": "2024-02-07T16:11:41.070716100Z"
    }
   },
   "outputs": [],
   "source": [
    "# Add global average pooling operation for spatial data\n",
    "output_tensor = GlobalAveragePooling2D()(output_tensor)\n",
    "\n",
    "#  Add a fully connected (dense) layer on top of the previous x tensor\n",
    "output_tensor = Dense(\n",
    "    units=512,\n",
    "    activation='relu'\n",
    ")(output_tensor)\n",
    "# ReLU activation introduces non-linearity by mapping negative values to zero and leaving positive values unchanged.\n",
    "\n",
    "# Add last layer with 10 units, which represents the number of output classes in a classification task\n",
    "predictions = Dense(\n",
    "    units=10,\n",
    "    activation='softmax'\n",
    ")(output_tensor)\n",
    "#Softmax normalizes the output values across the units to represent class probabilities, ensuring that the sum of probabilities across all classes equals 1.0."
   ]
  },
  {
   "cell_type": "markdown",
   "metadata": {
    "collapsed": false
   },
   "source": [
    "Combine model"
   ]
  },
  {
   "cell_type": "code",
   "execution_count": null,
   "metadata": {
    "ExecuteTime": {
     "end_time": "2024-02-07T16:11:41.233944100Z",
     "start_time": "2024-02-07T16:11:41.116703600Z"
    }
   },
   "outputs": [],
   "source": [
    "# Combine the base model with custom layers\n",
    "model = Model(inputs=base_model.input, outputs=predictions)\n",
    "\n",
    "# Freeze layers in the base model\n",
    "for layer in base_model.layers:\n",
    "    layer.trainable = False"
   ]
  },
  {
   "cell_type": "markdown",
   "metadata": {
    "collapsed": false
   },
   "source": [
    "Compile model"
   ]
  },
  {
   "cell_type": "code",
   "execution_count": null,
   "metadata": {
    "ExecuteTime": {
     "end_time": "2024-02-07T16:11:41.234943100Z",
     "start_time": "2024-02-07T16:11:41.171269Z"
    }
   },
   "outputs": [],
   "source": [
    "# Compile the model\n",
    "model.compile(optimizer=Adam(lr=0.001), loss='categorical_crossentropy', metrics=['accuracy'])"
   ]
  },
  {
   "cell_type": "markdown",
   "metadata": {
    "collapsed": false
   },
   "source": [
    "Add interactive visual board "
   ]
  },
  {
   "cell_type": "code",
   "execution_count": null,
   "metadata": {
    "ExecuteTime": {
     "end_time": "2024-02-07T16:12:03.620587900Z",
     "start_time": "2024-02-07T16:12:03.587968Z"
    }
   },
   "outputs": [],
   "source": [
    "# Get time log\n",
    "logs = \"logs/\" + datetime.now().strftime(\"%Y%m%d-%H%M%S\")\n",
    "\n",
    "# Get TensorBoard \n",
    "tboard_callback = TensorBoard(\n",
    "    log_dir = logs,\n",
    "    histogram_freq = 1,\n",
    "    profile_batch = '500,520'\n",
    ")"
   ]
  },
  {
   "cell_type": "markdown",
   "metadata": {
    "collapsed": false
   },
   "source": [
    "Train model"
   ]
  },
  {
   "cell_type": "code",
   "execution_count": null,
   "metadata": {},
   "outputs": [],
   "source": [
    "# Train the model\n",
    "history = model.fit(\n",
    "    train_images_resized,\n",
    "    train_labels,\n",
    "    epochs=3,\n",
    "    batch_size=128,\n",
    "    validation_data=(test_images_resized, test_labels),\n",
    "    callbacks = [tboard_callback]\n",
    ")\n"
   ]
  },
  {
   "cell_type": "code",
   "execution_count": null,
   "metadata": {},
   "outputs": [],
   "source": [
    "# Load the TensorBoard notebook extension.\n",
    "%load_ext tensorboard\n",
    "\n",
    "# Launch TensorBoard and navigate to the Profile tab to view performance profile\n",
    "%tensorboard --logdir=logs --port=6006"
   ]
  },
  {
   "cell_type": "code",
   "execution_count": null,
   "metadata": {},
   "outputs": [],
   "source": [
    "# Plot training & validation loss values using Seaborn\n",
    "sns.lineplot(x=range(1, len(history.history['loss']) + 1), y=history.history['loss'], label='Train')\n",
    "sns.lineplot(x=range(1, len(history.history['val_loss']) + 1), y=history.history['val_loss'], label='Test')\n",
    "plt.title('Model loss')\n",
    "plt.ylabel('Loss')\n",
    "plt.xlabel('Epoch')\n",
    "plt.legend(loc='upper right')\n",
    "# plt.show();\n",
    "\n",
    "# Evaluate the model\n",
    "test_loss, test_acc = model.evaluate(test_images_resized, test_labels)\n",
    "print('Test accuracy:', test_acc)"
   ]
  },
  {
   "cell_type": "markdown",
   "metadata": {
    "collapsed": false
   },
   "source": [
    "# Getting data, observations.\n",
    "## Get dataset, split data into train and test sets."
   ]
  }
 ],
 "metadata": {
  "kernelspec": {
   "display_name": "Python 3",
   "language": "python",
   "name": "python3"
  },
  "language_info": {
   "codemirror_mode": {
    "name": "ipython",
    "version": 2
   },
   "file_extension": ".py",
   "mimetype": "text/x-python",
   "name": "python",
   "nbconvert_exporter": "python",
   "pygments_lexer": "ipython2",
   "version": "2.7.6"
  }
 },
 "nbformat": 4,
 "nbformat_minor": 0
}
