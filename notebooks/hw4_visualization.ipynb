{
 "cells": [
  {
   "cell_type": "markdown",
   "metadata": {
    "collapsed": false
   },
   "source": [
    "# Import dependencies"
   ]
  },
  {
   "cell_type": "code",
   "execution_count": null,
   "metadata": {},
   "outputs": [],
   "source": [
    "# For data science\n",
    "import pandas as pd\n",
    "import numpy as np\n",
    "import missingno as msno\n",
    "\n",
    "# For plot\n",
    "import matplotlib.pyplot as plt\n",
    "import seaborn as sns\n",
    "\n",
    "from scipy import stats\n",
    "\n",
    "# For modules\n",
    "from sources import (\n",
    "    get_heatmap,\n",
    ")"
   ]
  },
  {
   "cell_type": "markdown",
   "metadata": {
    "collapsed": false
   },
   "source": [
    "# Getting data\n",
    "Get dataset"
   ]
  },
  {
   "cell_type": "code",
   "execution_count": null,
   "metadata": {},
   "outputs": [],
   "source": [
    "players = pd.read_csv(\"../data/Players.csv\")\n",
    "season_stat = pd.read_csv(\"../data/Seasons_Stats.csv\")"
   ]
  },
  {
   "cell_type": "markdown",
   "metadata": {
    "collapsed": false
   },
   "source": [
    "Clear datasets"
   ]
  },
  {
   "cell_type": "code",
   "execution_count": null,
   "metadata": {},
   "outputs": [],
   "source": [
    "if players.isna().any().any():\n",
    "    players.dropna(inplace=True)"
   ]
  },
  {
   "cell_type": "markdown",
   "metadata": {
    "collapsed": false
   },
   "source": [
    "Check for correlations between features"
   ]
  },
  {
   "cell_type": "code",
   "execution_count": null,
   "metadata": {},
   "outputs": [],
   "source": [
    "# Get correlation table\n",
    "round(\n",
    "    number=players[[\"weight\", \"height\", \"born\"]].corr(),\n",
    "    ndigits=2,\n",
    ")"
   ]
  },
  {
   "cell_type": "code",
   "execution_count": null,
   "metadata": {},
   "outputs": [],
   "source": [
    "# Get correlation graph\n",
    "sns.heatmap(\n",
    "    data=players[[\"weight\", \"height\", \"born\"]].corr(),\n",
    "    annot=True,\n",
    ");"
   ]
  },
  {
   "cell_type": "markdown",
   "metadata": {
    "collapsed": false
   },
   "source": [
    "The sufficient correlation is observed between 'weight' and 'height' features! Let's discover them."
   ]
  },
  {
   "cell_type": "markdown",
   "metadata": {
    "collapsed": false
   },
   "source": [
    "Discover height and weight distribution"
   ]
  },
  {
   "cell_type": "code",
   "execution_count": null,
   "metadata": {},
   "outputs": [],
   "source": [
    "# Set a box plot using Pandas\n",
    "height_mean = players.boxplot(\n",
    "    column=\"height\",\n",
    "    showmeans=True,\n",
    "    meanline=True,\n",
    "    notch=True,\n",
    "    vert=True,\n",
    ")\n",
    "\n",
    "# Customize the plot\n",
    "height_mean.set_xlabel(\"Height\")\n",
    "height_mean.set_title(\"Box Plot with Mean and Confidence Interval (95%)\")\n",
    "\n",
    "# Display the plot\n",
    "plt.show()"
   ]
  },
  {
   "cell_type": "markdown",
   "metadata": {
    "collapsed": false
   },
   "source": [
    "The mean height of players is around 200 units. There are points out of Confidence interval (potential outlayers)."
   ]
  },
  {
   "cell_type": "code",
   "execution_count": null,
   "metadata": {},
   "outputs": [],
   "source": [
    "# Set a box plot\n",
    "weight_mean = players.boxplot(\n",
    "    column=\"weight\",\n",
    "    showmeans=True,\n",
    "    meanline=True,\n",
    "    notch=True,\n",
    "    vert=True,\n",
    ")\n",
    "\n",
    "# Customize the plot\n",
    "weight_mean.set_xlabel(\"Weight\")\n",
    "weight_mean.set_title(\"Box Plot with Mean and Confidence Interval 95%\")\n",
    "\n",
    "# Display the plot\n",
    "plt.show()"
   ]
  },
  {
   "cell_type": "markdown",
   "metadata": {
    "collapsed": false
   },
   "source": [
    "The mean weight of players is around 95 units. The potential outlayers are mostly have bigger values then points within Confidence interval."
   ]
  },
  {
   "cell_type": "code",
   "execution_count": null,
   "metadata": {},
   "outputs": [],
   "source": [
    "# Plot pairwise relationships in a dataset\n",
    "pair_plot = sns.pairplot(\n",
    "    data=players[[\"height\", \"weight\", \"birth_state\"]],\n",
    "    hue=\"birth_state\",\n",
    "    hue_order=players[\"birth_state\"].unique().tolist()[:25],\n",
    ")\n",
    "\n",
    "# Add title to the pair plot\n",
    "pair_plot.fig.suptitle(\"Pair Plot of Height, Weight by Birth State\", y=1.02);"
   ]
  },
  {
   "cell_type": "markdown",
   "metadata": {
    "collapsed": false
   },
   "source": [
    "It would be better to combine correlated features by on feature, for example, index weight/height)"
   ]
  },
  {
   "cell_type": "code",
   "execution_count": null,
   "metadata": {},
   "outputs": [],
   "source": [
    "# Get correlation plot for height and weight\n",
    "pair_plot = sns.lmplot(\n",
    "    x=\"height\",\n",
    "    y=\"weight\",\n",
    "    data=players,\n",
    ")\n",
    "\n",
    "# Add title to the regression plot\n",
    "pair_plot.fig.suptitle(\"Correlation plot for Height and Weight\", y=1.02);"
   ]
  },
  {
   "cell_type": "markdown",
   "metadata": {
    "collapsed": false
   },
   "source": [
    "The linear correlation between weight and height is observed. For the tall people the deviation in weight is bigger."
   ]
  },
  {
   "cell_type": "code",
   "execution_count": null,
   "metadata": {},
   "outputs": [],
   "source": [
    "# Get Pearson statistics for the distribution\n",
    "pearson = stats.pearsonr(\n",
    "    x=players[\"weight\"],\n",
    "    y=players[\"height\"],\n",
    ")\n",
    "\n",
    "corr = pearson[0]\n",
    "\n",
    "print(f\"Correlation coefficient is: {corr:.2f}\")"
   ]
  },
  {
   "cell_type": "code",
   "execution_count": null,
   "metadata": {},
   "outputs": [],
   "source": [
    "pair_plot = sns.lmplot(\n",
    "    x=\"born\",\n",
    "    y=\"weight\",\n",
    "    data=players,\n",
    ")\n",
    "\n",
    "# Add title to the regression plot\n",
    "pair_plot.fig.suptitle(\"Correlation plot for Height and Born date\", y=1.02);"
   ]
  },
  {
   "cell_type": "markdown",
   "metadata": {
    "collapsed": false
   },
   "source": [
    "Later players have more weight but this tendency is not so much obvious as for weight and height. Let's discover it."
   ]
  },
  {
   "cell_type": "code",
   "execution_count": null,
   "metadata": {},
   "outputs": [],
   "source": [
    "# Get median year\n",
    "median_year = players[\"born\"].median()\n",
    "\n",
    "# Create a new column to indicate the period\n",
    "players[\"period\"] = np.where(\n",
    "    players[\"born\"] <= median_year,\n",
    "    f\"Before {int(median_year)}.\",\n",
    "    f\"After {int(median_year)}.\",\n",
    ")\n",
    "\n",
    "sns.boxplot(\n",
    "    x=\"period\",\n",
    "    y=\"weight\",\n",
    "    data=players,\n",
    ")\n",
    "\n",
    "# Add title to the box plot\n",
    "plt.title(\"Weight comparison before and after median year\")\n",
    "plt.show()"
   ]
  },
  {
   "cell_type": "markdown",
   "metadata": {
    "collapsed": false
   },
   "source": [
    "Yeh... The tendency is not sufficient("
   ]
  },
  {
   "cell_type": "markdown",
   "metadata": {
    "collapsed": false
   },
   "source": [
    "Let's discover seasons statistics."
   ]
  },
  {
   "cell_type": "code",
   "execution_count": null,
   "metadata": {},
   "outputs": [],
   "source": [
    "# Get diagram with missing values\n",
    "msno.matrix(season_stat);"
   ]
  },
  {
   "cell_type": "markdown",
   "metadata": {
    "collapsed": false
   },
   "source": [
    "There are two empty column and rows with no data. Let's drop them."
   ]
  },
  {
   "cell_type": "code",
   "execution_count": null,
   "metadata": {},
   "outputs": [],
   "source": [
    "season_stat.dropna(axis=1, how=\"all\", inplace=True)\n",
    "season_stat.dropna(axis=0, how=\"any\", inplace=True)"
   ]
  },
  {
   "cell_type": "markdown",
   "metadata": {
    "collapsed": false
   },
   "source": [
    "Get heatmap"
   ]
  },
  {
   "cell_type": "code",
   "execution_count": null,
   "metadata": {},
   "outputs": [],
   "source": [
    "# Get numbered data\n",
    "numbered_stat = season_stat.select_dtypes(include=\"number\")\n",
    "\n",
    "# Get correlation matrix\n",
    "get_heatmap(\n",
    "    dataframe=numbered_stat,\n",
    "    name=\"Numbered Stat\",\n",
    "    fmt=\".1f\",\n",
    ")"
   ]
  },
  {
   "cell_type": "markdown",
   "metadata": {
    "collapsed": false
   },
   "source": [
    "There are strongly correlated features"
   ]
  },
  {
   "cell_type": "code",
   "execution_count": null,
   "metadata": {},
   "outputs": [],
   "source": [
    "# Set the correlation threshold\n",
    "correlation_threshold = 0.8\n",
    "\n",
    "# Get correlation matrix\n",
    "correlation_statistics = numbered_stat.corr()\n",
    "\n",
    "# Create a mask for values below the threshold\n",
    "narrow_mask = np.abs(correlation_statistics) < correlation_threshold\n",
    "\n",
    "# Set those values to NaN in the correlation matrix\n",
    "corr_stat_narrowed = correlation_statistics.mask(narrow_mask)\n",
    "\n",
    "# Get correlation matrix\n",
    "get_heatmap(\n",
    "    dataframe=corr_stat_narrowed,\n",
    "    name=\"Numbered Stat\",\n",
    "    fmt=\".1f\",\n",
    ");"
   ]
  },
  {
   "cell_type": "markdown",
   "metadata": {
    "collapsed": false
   },
   "source": [
    "Not sure what do they mean but there are several strongly correlated features in the dataset: G, GS, MP, TS, OWS, DWS, WS, FG, FGA etc."
   ]
  }
 ],
 "metadata": {
  "kernelspec": {
   "display_name": "Python 3",
   "language": "python",
   "name": "python3"
  },
  "language_info": {
   "codemirror_mode": {
    "name": "ipython",
    "version": 2
   },
   "file_extension": ".py",
   "mimetype": "text/x-python",
   "name": "python",
   "nbconvert_exporter": "python",
   "pygments_lexer": "ipython2",
   "version": "2.7.6"
  }
 },
 "nbformat": 4,
 "nbformat_minor": 0
}
