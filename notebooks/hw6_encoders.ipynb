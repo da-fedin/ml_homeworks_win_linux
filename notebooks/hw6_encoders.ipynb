{
 "cells": [
  {
   "cell_type": "markdown",
   "metadata": {
    "collapsed": false
   },
   "source": [
    "Import dependencies"
   ]
  },
  {
   "cell_type": "code",
   "execution_count": null,
   "metadata": {
    "ExecuteTime": {
     "end_time": "2024-01-07T17:11:39.654952930Z",
     "start_time": "2024-01-07T17:11:39.494177658Z"
    }
   },
   "outputs": [],
   "source": [
    "import matplotlib.pyplot as plt\n",
    "import pandas as pd\n",
    "import seaborn as sns\n",
    "from sklearn import (\n",
    "    preprocessing,\n",
    ")\n",
    "\n",
    "# plt.close(\"all\")"
   ]
  },
  {
   "cell_type": "markdown",
   "metadata": {
    "collapsed": false
   },
   "source": [
    "# Getting data, observations\n",
    "Get dataset"
   ]
  },
  {
   "cell_type": "code",
   "execution_count": null,
   "metadata": {
    "ExecuteTime": {
     "end_time": "2024-01-07T17:11:39.756701523Z",
     "start_time": "2024-01-07T17:11:39.506638712Z"
    }
   },
   "outputs": [],
   "source": [
    "# Get dataset from web\n",
    "data = pd.read_csv(\n",
    "    \"src/abalone.data\",\n",
    "    delimiter=\",\",\n",
    "    names=[\n",
    "        \"sex\",\n",
    "        \"Length\",\n",
    "        \"Diameter\",\n",
    "        \"Height\",\n",
    "        \"Whole weight\",\n",
    "        \"Shucked weight\",\n",
    "        \"Viscera weight\",\n",
    "        \"Shell weight\",\n",
    "        \"Rings\",\n",
    "    ],\n",
    ")"
   ]
  },
  {
   "cell_type": "markdown",
   "metadata": {
    "collapsed": false
   },
   "source": [
    "Show dataset info"
   ]
  },
  {
   "cell_type": "code",
   "execution_count": null,
   "metadata": {
    "ExecuteTime": {
     "end_time": "2024-01-07T17:11:39.779119103Z",
     "start_time": "2024-01-07T17:11:39.526496811Z"
    }
   },
   "outputs": [],
   "source": [
    "# Get dataset header\n",
    "data.head(3)"
   ]
  },
  {
   "cell_type": "code",
   "execution_count": null,
   "metadata": {
    "ExecuteTime": {
     "end_time": "2024-01-07T17:11:39.779592287Z",
     "start_time": "2024-01-07T17:11:39.560035188Z"
    }
   },
   "outputs": [],
   "source": [
    "# Get dataset info\n",
    "data.info()"
   ]
  },
  {
   "cell_type": "markdown",
   "metadata": {
    "collapsed": false
   },
   "source": [
    "There is a categorical feature in dataset. Let's extract it."
   ]
  },
  {
   "cell_type": "code",
   "execution_count": null,
   "metadata": {
    "ExecuteTime": {
     "end_time": "2024-01-07T17:11:39.782568253Z",
     "start_time": "2024-01-07T17:11:39.560648592Z"
    }
   },
   "outputs": [],
   "source": [
    "# Get DataFrame from categorical column\n",
    "df = data.select_dtypes(include=\"object\")\n",
    "\n",
    "# Get head\n",
    "df.head(5)"
   ]
  },
  {
   "cell_type": "markdown",
   "metadata": {
    "collapsed": false
   },
   "source": [
    "Visualize feature."
   ]
  },
  {
   "cell_type": "code",
   "execution_count": null,
   "metadata": {
    "ExecuteTime": {
     "end_time": "2024-01-07T17:11:40.085301762Z",
     "start_time": "2024-01-07T17:11:39.585191411Z"
    }
   },
   "outputs": [],
   "source": [
    "# Get count plot\n",
    "sns.countplot(\n",
    "    df,\n",
    "    x=\"sex\",\n",
    ")\n",
    "\n",
    "plt.title(\"Item count for DataFrame\")\n",
    "plt.show()"
   ]
  },
  {
   "cell_type": "markdown",
   "metadata": {
    "collapsed": false
   },
   "source": [
    "# Use encoders\n",
    "1. Use OneHotEncoder"
   ]
  },
  {
   "cell_type": "code",
   "execution_count": null,
   "metadata": {
    "ExecuteTime": {
     "end_time": "2024-01-07T17:11:40.086036401Z",
     "start_time": "2024-01-07T17:11:39.984639600Z"
    }
   },
   "outputs": [],
   "source": [
    "# Get OneHotEncoder\n",
    "one_hot_encoder = preprocessing.OneHotEncoder()\n",
    "\n",
    "# Encode data\n",
    "one_hot_encoded = one_hot_encoder.fit_transform(df).toarray()\n",
    "one_hot_encoded"
   ]
  },
  {
   "cell_type": "markdown",
   "metadata": {
    "collapsed": false
   },
   "source": [
    "Categorical data is represented as a set of binary values."
   ]
  },
  {
   "cell_type": "markdown",
   "metadata": {
    "collapsed": false
   },
   "source": [
    "2. Use LabelEncoder."
   ]
  },
  {
   "cell_type": "code",
   "execution_count": null,
   "metadata": {
    "ExecuteTime": {
     "end_time": "2024-01-07T17:11:40.087700091Z",
     "start_time": "2024-01-07T17:11:39.985330768Z"
    }
   },
   "outputs": [],
   "source": [
    "# Get Let's use LabelEncoder.\n",
    "label_encoder = preprocessing.LabelEncoder()\n",
    "\n",
    "# Encode data\n",
    "label_encoded = label_encoder.fit_transform(df.values.ravel())\n",
    "label_encoded"
   ]
  },
  {
   "cell_type": "code",
   "execution_count": null,
   "metadata": {
    "ExecuteTime": {
     "end_time": "2024-01-07T17:11:40.088227615Z",
     "start_time": "2024-01-07T17:11:39.993996620Z"
    }
   },
   "outputs": [],
   "source": [
    "# Get data type for encoded array\n",
    "label_encoded.dtype"
   ]
  },
  {
   "cell_type": "markdown",
   "metadata": {
    "collapsed": false
   },
   "source": [
    "Categorical data is represented as a numeric values (integers)."
   ]
  },
  {
   "cell_type": "markdown",
   "metadata": {
    "collapsed": false
   },
   "source": [
    "3. Use OrdinalEncoder."
   ]
  },
  {
   "cell_type": "code",
   "execution_count": null,
   "metadata": {
    "ExecuteTime": {
     "end_time": "2024-01-07T17:11:40.110026980Z",
     "start_time": "2024-01-07T17:11:40.003711464Z"
    }
   },
   "outputs": [],
   "source": [
    "# Get Let's use OrdinalEncoder.\n",
    "ordinal_encoder = preprocessing.OrdinalEncoder()\n",
    "\n",
    "# Encode data\n",
    "ordinal_encoded = ordinal_encoder.fit_transform(df)\n",
    "ordinal_encoded"
   ]
  },
  {
   "cell_type": "code",
   "execution_count": null,
   "metadata": {
    "ExecuteTime": {
     "end_time": "2024-01-07T17:11:40.119277939Z",
     "start_time": "2024-01-07T17:11:40.013991590Z"
    }
   },
   "outputs": [],
   "source": [
    "# Get data type for encoded array\n",
    "ordinal_encoded.dtype"
   ]
  },
  {
   "cell_type": "markdown",
   "metadata": {
    "collapsed": false
   },
   "source": [
    "Categorical data is represented as a numeric values (floats)."
   ]
  },
  {
   "cell_type": "markdown",
   "metadata": {
    "collapsed": false
   },
   "source": [
    "4. Use TargetEncoder"
   ]
  },
  {
   "cell_type": "code",
   "execution_count": null,
   "metadata": {
    "ExecuteTime": {
     "end_time": "2024-01-07T17:11:40.120064221Z",
     "start_time": "2024-01-07T17:11:40.060251494Z"
    }
   },
   "outputs": [],
   "source": [
    "# Get Let's use TargetEncoder.\n",
    "target_encoder = preprocessing.TargetEncoder(target_type=\"continuous\")\n",
    "\n",
    "# Encode data\n",
    "target_encoded = target_encoder.fit_transform(data[[\"sex\"]], data[\"Rings\"])\n",
    "\n",
    "target_encoded"
   ]
  },
  {
   "cell_type": "markdown",
   "metadata": {
    "collapsed": false
   },
   "source": [
    "TargetEncoder mixes the global target mean with the target mean conditioned on the value of the category."
   ]
  }
 ],
 "metadata": {
  "kernelspec": {
   "display_name": "Python 3",
   "language": "python",
   "name": "python3"
  },
  "language_info": {
   "codemirror_mode": {
    "name": "ipython",
    "version": 2
   },
   "file_extension": ".py",
   "mimetype": "text/x-python",
   "name": "python",
   "nbconvert_exporter": "python",
   "pygments_lexer": "ipython2",
   "version": "2.7.6"
  }
 },
 "nbformat": 4,
 "nbformat_minor": 0
}
