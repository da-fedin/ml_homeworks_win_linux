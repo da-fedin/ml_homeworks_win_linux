{
 "cells": [
  {
   "cell_type": "markdown",
   "metadata": {
    "collapsed": false
   },
   "source": [
    "# Import dependencies."
   ]
  },
  {
   "cell_type": "code",
   "execution_count": null,
   "metadata": {
    "ExecuteTime": {
     "end_time": "2024-02-06T18:26:05.056797200Z",
     "start_time": "2024-02-06T18:26:05.030659700Z"
    }
   },
   "outputs": [],
   "source": [
    "import warnings\n",
    "\n",
    "import numpy as np\n",
    "import matplotlib.pyplot as plt\n",
    "import seaborn as sns\n",
    "from keras.datasets import mnist\n",
    "from keras.utils import to_categorical, disable_interactive_logging\n",
    "from keras.applications.densenet import DenseNet121\n",
    "from keras.layers import Dense, GlobalAveragePooling2D\n",
    "from keras.models import Model\n",
    "from keras.optimizers import Adam\n",
    "from keras.callbacks import TensorBoard\n",
    "\n",
    "from datetime import datetime\n",
    "from skimage.transform import resize\n",
    "\n",
    "# Suppress specific warning message\n",
    "warnings.filterwarnings(\n",
    "    action='ignore',\n",
    "    message='The name tf.executing_eagerly_outside_functions is deprecated.*',\n",
    ")\n",
    "# warnings.filterwarnings(\"ignore\")\n",
    "# disable_interactive_logging();"
   ]
  },
  {
   "cell_type": "code",
   "execution_count": null,
   "metadata": {
    "ExecuteTime": {
     "end_time": "2024-02-06T18:02:51.073248700Z",
     "start_time": "2024-02-06T18:02:34.978285500Z"
    }
   },
   "outputs": [],
   "source": [
    "# Load MNIST dataset\n",
    "(train_images, train_labels), (test_images, test_labels) = mnist.load_data()\n",
    "\n",
    "# Resize images to match the required input size of DenseNet (32x32)\n",
    "train_images_resized = np.array([resize(img, (32, 32)) for img in train_images])\n",
    "test_images_resized = np.array([resize(img, (32, 32)) for img in test_images])\n",
    "\n",
    "# Normalize pixel values to be between 0 and 1\n",
    "train_images_resized = train_images_resized.astype('float32') / 255\n",
    "test_images_resized = test_images_resized.astype('float32') / 255\n",
    "\n",
    "# Replicate single channel across three channels to match DenseNet input shape\n",
    "train_images_resized = np.repeat(train_images_resized[..., np.newaxis], 3, axis=-1)\n",
    "test_images_resized = np.repeat(test_images_resized[..., np.newaxis], 3, axis=-1)\n",
    "\n",
    "# One-hot encode labels\n",
    "train_labels = to_categorical(train_labels)\n",
    "test_labels = to_categorical(test_labels)"
   ]
  },
  {
   "cell_type": "code",
   "execution_count": null,
   "metadata": {
    "ExecuteTime": {
     "end_time": "2024-02-06T18:13:27.381772600Z",
     "start_time": "2024-02-06T18:02:51.079246200Z"
    }
   },
   "outputs": [],
   "source": [
    "# Load pre-trained DenseNet model without the top layer\n",
    "base_model = DenseNet121(weights='imagenet', include_top=False, input_shape=(32, 32, 3))\n",
    "\n",
    "# Add custom classification layers\n",
    "x = base_model.output\n",
    "x = GlobalAveragePooling2D()(x)\n",
    "x = Dense(512, activation='relu')(x)\n",
    "predictions = Dense(10, activation='softmax')(x)\n",
    "\n",
    "# Combine the base model with custom layers\n",
    "model = Model(inputs=base_model.input, outputs=predictions)\n",
    "\n",
    "# Freeze layers in the base model\n",
    "for layer in base_model.layers:\n",
    "    layer.trainable = False\n",
    "\n",
    "# Compile the model\n",
    "model.compile(optimizer=Adam(lr=0.001), loss='categorical_crossentropy', metrics=['accuracy'])\n",
    "\n",
    "# Create a TensorBoard callback\n",
    "logs = \"logs/\" + datetime.now().strftime(\"%Y%m%d-%H%M%S\")\n",
    "\n",
    "tboard_callback = TensorBoard(\n",
    "    log_dir = logs,\n",
    "    histogram_freq = 1,\n",
    "    profile_batch = '500,520'\n",
    ")\n",
    "# Train the model\n",
    "history = model.fit(\n",
    "    train_images_resized,\n",
    "    train_labels,\n",
    "    epochs=3,\n",
    "    batch_size=128,\n",
    "    validation_data=(test_images_resized, test_labels),\n",
    "    callbacks = [tboard_callback]\n",
    ")\n"
   ]
  },
  {
   "cell_type": "code",
   "execution_count": null,
   "metadata": {
    "ExecuteTime": {
     "end_time": "2024-02-06T18:19:43.065601900Z",
     "start_time": "2024-02-06T18:19:43.040612700Z"
    }
   },
   "outputs": [],
   "source": [
    "# Load the TensorBoard notebook extension.\n",
    "# %reload_ext tensorboard\n",
    "# %load_ext tensorboard\n",
    "\n",
    "# Launch TensorBoard and navigate to the Profile tab to view performance profile\n",
    "# %tensorboard --logdir=logs\n",
    "%tensorboard --logdir=logs --port=6006"
   ]
  },
  {
   "cell_type": "code",
   "execution_count": null,
   "metadata": {
    "ExecuteTime": {
     "end_time": "2024-02-06T18:26:45.045222500Z",
     "start_time": "2024-02-06T18:26:09.396941400Z"
    }
   },
   "outputs": [],
   "source": [
    "# Plot training & validation loss values using Seaborn\n",
    "\n",
    "sns.lineplot(x=range(1, len(history.history['loss']) + 1), y=history.history['loss'], label='Train')\n",
    "sns.lineplot(x=range(1, len(history.history['val_loss']) + 1), y=history.history['val_loss'], label='Test')\n",
    "plt.title('Model loss')\n",
    "plt.ylabel('Loss')\n",
    "plt.xlabel('Epoch')\n",
    "plt.legend(loc='upper right')\n",
    "# plt.show();\n",
    "\n",
    "# Evaluate the model\n",
    "test_loss, test_acc = model.evaluate(test_images_resized, test_labels)\n",
    "print('Test accuracy:', test_acc)"
   ]
  },
  {
   "cell_type": "markdown",
   "metadata": {
    "collapsed": false
   },
   "source": [
    "# Getting data, observations.\n",
    "## Get dataset, split data into train and test sets."
   ]
  }
 ],
 "metadata": {
  "kernelspec": {
   "display_name": "Python 3",
   "language": "python",
   "name": "python3"
  },
  "language_info": {
   "codemirror_mode": {
    "name": "ipython",
    "version": 2
   },
   "file_extension": ".py",
   "mimetype": "text/x-python",
   "name": "python",
   "nbconvert_exporter": "python",
   "pygments_lexer": "ipython2",
   "version": "2.7.6"
  }
 },
 "nbformat": 4,
 "nbformat_minor": 0
}
