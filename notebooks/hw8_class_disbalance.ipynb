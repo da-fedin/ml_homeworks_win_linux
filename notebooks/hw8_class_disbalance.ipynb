{
 "cells": [
  {
   "cell_type": "markdown",
   "metadata": {
    "collapsed": false
   },
   "source": [
    "Import dependencies"
   ]
  },
  {
   "cell_type": "code",
   "execution_count": null,
   "metadata": {
    "ExecuteTime": {
     "end_time": "2024-02-19T19:05:57.878268700Z",
     "start_time": "2024-02-19T19:05:57.297606400Z"
    }
   },
   "outputs": [],
   "source": [
    "import warnings\n",
    "\n",
    "# For Data science\n",
    "import pandas as pd\n",
    "import seaborn as sns\n",
    "import matplotlib.pyplot as plt\n",
    "\n",
    "from pandas.plotting import hist_frame\n",
    "\n",
    "from sklearn import (\n",
    "    model_selection,\n",
    "    svm,\n",
    ")\n",
    "\n",
    "from imblearn import (\n",
    "    over_sampling,\n",
    "    under_sampling,\n",
    "    combine,\n",
    ")\n",
    "\n",
    "# For modules\n",
    "from sources import (\n",
    "    check_is_na,\n",
    "    get_dataframe_scaled,\n",
    "    three_sigma_cleared,\n",
    "    get_kde_comparison,\n",
    "    get_model_score,\n",
    ")\n",
    "\n",
    "warnings.filterwarnings(\"ignore\")"
   ]
  },
  {
   "cell_type": "markdown",
   "metadata": {
    "collapsed": false
   },
   "source": [
    "# Getting data, observations\n",
    "Get dataset"
   ]
  },
  {
   "cell_type": "code",
   "execution_count": null,
   "metadata": {
    "ExecuteTime": {
     "end_time": "2024-02-19T19:05:57.890923800Z",
     "start_time": "2024-02-19T19:05:57.880463400Z"
    }
   },
   "outputs": [],
   "source": [
    "# Set column names\n",
    "column_names = [\n",
    "    \"id\",\n",
    "    \"RI\",\n",
    "    \"Na\",\n",
    "    \"Mg\",\n",
    "    \"Al\",\n",
    "    \"Si\",\n",
    "    \"K\",\n",
    "    \"Ca\",\n",
    "    \"Ba\",\n",
    "    \"Fe\",\n",
    "    \"glass_type\",\n",
    "]\n",
    "\n",
    "# Get dataset from file\n",
    "data = pd.read_csv(\n",
    "    \"../data/glass.data\",\n",
    "    delimiter=\",\",\n",
    "    names=column_names,\n",
    ")"
   ]
  },
  {
   "cell_type": "markdown",
   "metadata": {
    "collapsed": false
   },
   "source": []
  },
  {
   "cell_type": "markdown",
   "metadata": {
    "collapsed": false
   },
   "source": [
    "Look for missing values"
   ]
  },
  {
   "cell_type": "code",
   "execution_count": null,
   "metadata": {
    "ExecuteTime": {
     "end_time": "2024-02-19T19:05:57.951549200Z",
     "start_time": "2024-02-19T19:05:57.894159800Z"
    }
   },
   "outputs": [],
   "source": [
    "# Check if the dataset has missing values\n",
    "check_is_na(data)"
   ]
  },
  {
   "cell_type": "markdown",
   "metadata": {
    "collapsed": false
   },
   "source": [
    "Remove extra feature and show statistics"
   ]
  },
  {
   "cell_type": "code",
   "execution_count": null,
   "metadata": {
    "ExecuteTime": {
     "end_time": "2024-02-19T19:05:57.955910200Z",
     "start_time": "2024-02-19T19:05:57.906465200Z"
    }
   },
   "outputs": [],
   "source": [
    "# Get columns without id column\n",
    "df = data.iloc[:, 1:]\n",
    "\n",
    "# Show statistics summary\n",
    "df.describe()"
   ]
  },
  {
   "cell_type": "markdown",
   "metadata": {
    "collapsed": false
   },
   "source": [
    "Show dataset info"
   ]
  },
  {
   "cell_type": "code",
   "execution_count": null,
   "metadata": {
    "ExecuteTime": {
     "end_time": "2024-02-19T19:05:57.977328Z",
     "start_time": "2024-02-19T19:05:57.949400300Z"
    }
   },
   "outputs": [],
   "source": [
    "# Get dataset info\n",
    "df.info()"
   ]
  },
  {
   "cell_type": "markdown",
   "metadata": {
    "collapsed": false
   },
   "source": [
    "Show size"
   ]
  },
  {
   "cell_type": "code",
   "execution_count": null,
   "metadata": {
    "ExecuteTime": {
     "end_time": "2024-02-19T19:05:58.072443900Z",
     "start_time": "2024-02-19T19:05:57.968777800Z"
    }
   },
   "outputs": [],
   "source": [
    "# Show dataset size\n",
    "df.shape"
   ]
  },
  {
   "cell_type": "markdown",
   "metadata": {
    "collapsed": false
   },
   "source": [
    "# Analyse class imbalance\n",
    "Let's look on class counts"
   ]
  },
  {
   "cell_type": "code",
   "execution_count": null,
   "metadata": {
    "ExecuteTime": {
     "end_time": "2024-02-19T19:05:58.074667900Z",
     "start_time": "2024-02-19T19:05:57.989099100Z"
    }
   },
   "outputs": [],
   "source": [
    "df.groupby(\"glass_type\").size()"
   ]
  },
  {
   "cell_type": "code",
   "execution_count": null,
   "metadata": {
    "ExecuteTime": {
     "end_time": "2024-02-19T19:05:58.392305900Z",
     "start_time": "2024-02-19T19:05:58.000233700Z"
    }
   },
   "outputs": [],
   "source": [
    "# Show counts for classes in figure\n",
    "hist_frame(\n",
    "    data=df,\n",
    "    column=\"glass_type\",\n",
    ");"
   ]
  },
  {
   "cell_type": "markdown",
   "metadata": {
    "collapsed": false
   },
   "source": []
  },
  {
   "cell_type": "markdown",
   "metadata": {
    "collapsed": false
   },
   "source": [
    "There is an imbalance in dataset. Number of occurrences for each classe differs."
   ]
  },
  {
   "cell_type": "code",
   "execution_count": null,
   "metadata": {
    "ExecuteTime": {
     "end_time": "2024-02-19T19:06:01.649553900Z",
     "start_time": "2024-02-19T19:05:58.391306700Z"
    }
   },
   "outputs": [],
   "source": [
    "# Melt dataframe to show chemical composition\n",
    "melted_df = pd.melt(\n",
    "    df.drop(columns=[\"Si\"]),\n",
    "    id_vars=[\"glass_type\"],\n",
    "    var_name=\"Chemical\",\n",
    "    value_name=\"Composition\",\n",
    ")\n",
    "\n",
    "# Plot bar plot\n",
    "plt.figure(figsize=(12, 8))\n",
    "sns.barplot(\n",
    "    data=melted_df,\n",
    "    x=\"glass_type\",\n",
    "    y=\"Composition\",\n",
    "    hue=\"Chemical\",\n",
    "    log_scale=False,\n",
    ")\n",
    "\n",
    "plt.title(\"Chemical Composition (%) of Different Glass Types\")"
   ]
  },
  {
   "cell_type": "markdown",
   "metadata": {
    "collapsed": false
   },
   "source": [
    "Let's scale and clear dataset to have the common value order."
   ]
  },
  {
   "cell_type": "code",
   "execution_count": null,
   "metadata": {
    "ExecuteTime": {
     "end_time": "2024-02-19T19:06:02.640552700Z",
     "start_time": "2024-02-19T19:06:01.647364Z"
    }
   },
   "outputs": [],
   "source": [
    "# Scale dataset\n",
    "scaled_df = get_dataframe_scaled(dataset=df, omit_feature_name=\"glass_type\")\n",
    "\n",
    "# Remove values with deviation more than 3 sigma\n",
    "cleared_df = three_sigma_cleared(\n",
    "    dataset=scaled_df, feature_names=column_names[1:], sigmas=3\n",
    ")\n",
    "\n",
    "cleared_df.describe()"
   ]
  },
  {
   "cell_type": "code",
   "execution_count": null,
   "metadata": {
    "ExecuteTime": {
     "end_time": "2024-02-19T19:06:02.693274300Z",
     "start_time": "2024-02-19T19:06:02.645974300Z"
    }
   },
   "outputs": [],
   "source": [
    "# Show counts for classes in figure\n",
    "hist_frame(\n",
    "    data=df,\n",
    "    column=\"glass_type\",\n",
    ");"
   ]
  },
  {
   "cell_type": "markdown",
   "metadata": {
    "collapsed": false
   },
   "source": [
    "# Classification of imbalanced dataset"
   ]
  },
  {
   "cell_type": "markdown",
   "metadata": {
    "collapsed": false
   },
   "source": [
    "Get feature and target"
   ]
  },
  {
   "cell_type": "code",
   "execution_count": null,
   "metadata": {
    "ExecuteTime": {
     "start_time": "2024-02-19T19:06:02.649351900Z"
    }
   },
   "outputs": [],
   "source": [
    "X = cleared_df.drop(\"glass_type\", axis=1)\n",
    "y = cleared_df[\"glass_type\"]"
   ]
  },
  {
   "cell_type": "markdown",
   "metadata": {
    "collapsed": false
   },
   "source": [
    "Get dataset split"
   ]
  },
  {
   "cell_type": "code",
   "execution_count": null,
   "metadata": {
    "ExecuteTime": {
     "start_time": "2024-02-19T19:06:02.653727900Z"
    }
   },
   "outputs": [],
   "source": [
    "# Get split subsets\n",
    "X_train, X_test, y_train, y_test = model_selection.train_test_split(\n",
    "    X, y, test_size=0.33, random_state=42\n",
    ")"
   ]
  },
  {
   "cell_type": "markdown",
   "metadata": {
    "collapsed": false
   },
   "source": [
    "Set classifier"
   ]
  },
  {
   "cell_type": "code",
   "execution_count": null,
   "metadata": {
    "ExecuteTime": {
     "start_time": "2024-02-19T19:06:02.658093500Z"
    }
   },
   "outputs": [],
   "source": [
    "# Initiate classification\n",
    "classifier = svm.LinearSVC(dual=\"auto\")\n",
    "\n",
    "# Train model\n",
    "classifier.fit(X_train, y_train);"
   ]
  },
  {
   "cell_type": "markdown",
   "metadata": {
    "collapsed": false
   },
   "source": [
    "Get result score"
   ]
  },
  {
   "cell_type": "code",
   "execution_count": null,
   "metadata": {
    "ExecuteTime": {
     "start_time": "2024-02-19T19:06:02.662607600Z"
    }
   },
   "outputs": [],
   "source": [
    "# # Get cross-validation results\n",
    "get_model_score(y_data=y_train, x_data=X_train, modeler=classifier)"
   ]
  },
  {
   "cell_type": "markdown",
   "metadata": {
    "collapsed": false
   },
   "source": [
    "Test scores are similar but look poor."
   ]
  },
  {
   "cell_type": "code",
   "execution_count": null,
   "metadata": {
    "ExecuteTime": {
     "start_time": "2024-02-19T19:06:02.666988100Z"
    }
   },
   "outputs": [],
   "source": [
    "# Get density plot\n",
    "get_kde_comparison(y_data=y_test, x_data=X_test, modeler=classifier)"
   ]
  },
  {
   "cell_type": "markdown",
   "metadata": {
    "collapsed": false
   },
   "source": [
    "Minority classes under-predicted."
   ]
  },
  {
   "cell_type": "markdown",
   "metadata": {
    "collapsed": false
   },
   "source": [
    "# Balance classes"
   ]
  },
  {
   "cell_type": "markdown",
   "metadata": {
    "collapsed": false
   },
   "source": [
    "1. Random-over-Resampler"
   ]
  },
  {
   "cell_type": "code",
   "execution_count": null,
   "metadata": {
    "ExecuteTime": {
     "start_time": "2024-02-19T19:06:02.671370300Z"
    }
   },
   "outputs": [],
   "source": [
    "# Initialize random over sampler\n",
    "random_over_sampler = over_sampling.RandomOverSampler(\n",
    "    random_state=0,\n",
    "    sampling_strategy=\"not majority\",\n",
    ")\n",
    "\n",
    "# Resample data\n",
    "X_resampled, y_resampled = random_over_sampler.fit_resample(X_train, y_train)"
   ]
  },
  {
   "cell_type": "code",
   "execution_count": null,
   "metadata": {
    "ExecuteTime": {
     "start_time": "2024-02-19T19:06:02.675671100Z"
    }
   },
   "outputs": [],
   "source": [
    "# Get distribution plot for non-resampled target\n",
    "sns.displot(data=pd.DataFrame(y_train), kde=True);"
   ]
  },
  {
   "cell_type": "code",
   "execution_count": null,
   "metadata": {
    "ExecuteTime": {
     "start_time": "2024-02-19T19:06:02.678962900Z"
    }
   },
   "outputs": [],
   "source": [
    "# Get distribution plot for resampled target\n",
    "sns.displot(data=pd.DataFrame(y_resampled), kde=True);"
   ]
  },
  {
   "cell_type": "markdown",
   "metadata": {
    "collapsed": false
   },
   "source": [
    "Target distribution balanced but has zero count for class 4. It has more samples than original dataset. Let's get estimation."
   ]
  },
  {
   "cell_type": "code",
   "execution_count": null,
   "metadata": {
    "ExecuteTime": {
     "start_time": "2024-02-19T19:06:02.682246400Z"
    }
   },
   "outputs": [],
   "source": [
    "# Get cross-validation results for data\n",
    "get_model_score(y_data=y_resampled, x_data=X_resampled, modeler=classifier)"
   ]
  },
  {
   "cell_type": "code",
   "execution_count": null,
   "metadata": {
    "ExecuteTime": {
     "start_time": "2024-02-19T19:06:02.685402Z"
    }
   },
   "outputs": [],
   "source": [
    "# Get density plot\n",
    "get_kde_comparison(y_data=y_resampled, x_data=X_resampled, modeler=classifier)"
   ]
  },
  {
   "cell_type": "markdown",
   "metadata": {
    "collapsed": false
   },
   "source": [
    "Looks better."
   ]
  },
  {
   "cell_type": "markdown",
   "metadata": {
    "collapsed": false
   },
   "source": [
    "2. Under-sampling"
   ]
  },
  {
   "cell_type": "code",
   "execution_count": null,
   "metadata": {
    "ExecuteTime": {
     "start_time": "2024-02-19T19:06:02.687772Z"
    }
   },
   "outputs": [],
   "source": [
    "# Initialize random over sampler\n",
    "claster_centroid_sampler = under_sampling.ClusterCentroids(\n",
    "    random_state=0,\n",
    "    sampling_strategy=\"auto\",\n",
    ")\n",
    "\n",
    "# Resample data\n",
    "X_resampled, y_resampled = claster_centroid_sampler.fit_resample(X_train, y_train)\n",
    "\n",
    "# Get distribution plot for resampled target\n",
    "sns.displot(data=pd.DataFrame(y_resampled), kde=True);"
   ]
  },
  {
   "cell_type": "markdown",
   "metadata": {
    "collapsed": false
   },
   "source": [
    "Target distribution balanced but has zero count for class 4. It has less samples than original dataset. Let's get estimation."
   ]
  },
  {
   "cell_type": "code",
   "execution_count": null,
   "metadata": {
    "ExecuteTime": {
     "start_time": "2024-02-19T19:06:02.690013500Z"
    }
   },
   "outputs": [],
   "source": [
    "# Get cross-validation results for data\n",
    "get_model_score(y_data=y_resampled, x_data=X_resampled, modeler=classifier)"
   ]
  },
  {
   "cell_type": "code",
   "execution_count": null,
   "metadata": {
    "ExecuteTime": {
     "start_time": "2024-02-19T19:06:02.693274300Z"
    }
   },
   "outputs": [],
   "source": [
    "# Get density plot\n",
    "get_kde_comparison(y_data=y_resampled, x_data=X_resampled, modeler=classifier)"
   ]
  },
  {
   "cell_type": "markdown",
   "metadata": {
    "collapsed": false
   },
   "source": [
    "3. Combining: Over-sampling using SMOTE and cleaning using Tomek links."
   ]
  },
  {
   "cell_type": "code",
   "execution_count": null,
   "metadata": {
    "ExecuteTime": {
     "end_time": "2024-02-19T19:06:02.798256300Z",
     "start_time": "2024-02-19T19:06:02.695532200Z"
    }
   },
   "outputs": [],
   "source": [
    "smote_over_sampler = over_sampling.SMOTE(k_neighbors=4)\n",
    "tomek_under_sampler = under_sampling.TomekLinks()\n",
    "\n",
    "smote_tomek_sampler = combine.SMOTETomek(\n",
    "    random_state=0, smote=smote_over_sampler, tomek=tomek_under_sampler\n",
    ")\n",
    "\n",
    "# Resample data\n",
    "X_resampled, y_resampled = smote_tomek_sampler.fit_resample(X_train, y_train)\n",
    "\n",
    "# Get distribution plot for resampled target\n",
    "sns.displot(data=pd.DataFrame(y_resampled), kde=True);"
   ]
  },
  {
   "cell_type": "code",
   "execution_count": null,
   "metadata": {
    "ExecuteTime": {
     "start_time": "2024-02-19T19:06:02.697763800Z"
    }
   },
   "outputs": [],
   "source": [
    "# Get cross-validation results for data\n",
    "get_model_score(y_data=y_resampled, x_data=X_resampled, modeler=classifier)"
   ]
  },
  {
   "cell_type": "code",
   "execution_count": null,
   "metadata": {
    "ExecuteTime": {
     "start_time": "2024-02-19T19:06:02.699902200Z"
    }
   },
   "outputs": [],
   "source": [
    "# Get density plot\n",
    "get_kde_comparison(y_data=y_resampled, x_data=X_resampled, modeler=classifier)"
   ]
  },
  {
   "cell_type": "markdown",
   "metadata": {
    "collapsed": false
   },
   "source": [
    "# Summary"
   ]
  },
  {
   "cell_type": "markdown",
   "metadata": {
    "collapsed": false
   },
   "source": [
    "1. Target category in given dataset has imbalanced classes.\n",
    "2. Class imbalance leads to poor model performance.\n",
    "3. Balancing helps to improve performance.\n",
    "4. Under-sempler gave more improvement."
   ]
  },
  {
   "cell_type": "markdown",
   "metadata": {
    "collapsed": false
   },
   "source": []
  }
 ],
 "metadata": {
  "kernelspec": {
   "display_name": "Python 3",
   "language": "python",
   "name": "python3"
  },
  "language_info": {
   "codemirror_mode": {
    "name": "ipython",
    "version": 2
   },
   "file_extension": ".py",
   "mimetype": "text/x-python",
   "name": "python",
   "nbconvert_exporter": "python",
   "pygments_lexer": "ipython2",
   "version": "2.7.6"
  }
 },
 "nbformat": 4,
 "nbformat_minor": 0
}
