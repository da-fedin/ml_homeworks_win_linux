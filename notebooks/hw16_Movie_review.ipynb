{
 "cells": [
  {
   "cell_type": "raw",
   "id": "fd666fff5ab06174",
   "metadata": {
    "collapsed": false
   },
   "source": [
    "# Import dependencies"
   ]
  },
  {
   "cell_type": "code",
   "execution_count": null,
   "id": "initial_id",
   "metadata": {},
   "outputs": [],
   "source": [
    "import warnings\n",
    "\n",
    "# For Data science\n",
    "import pandas as pd\n",
    "import seaborn as sns\n",
    "\n",
    "# For graph\n",
    "import matplotlib.pyplot as plt\n",
    "\n",
    "from sklearn.model_selection import train_test_split\n",
    "from sklearn.feature_extraction.text import TfidfVectorizer\n",
    "\n",
    "from sklearn import (\n",
    "    model_selection,\n",
    "    linear_model,\n",
    ")\n",
    "\n",
    "warnings.filterwarnings(\"ignore\")"
   ]
  },
  {
   "cell_type": "markdown",
   "id": "8ba11971040616eb",
   "metadata": {
    "collapsed": false
   },
   "source": [
    "# Getting data, observations\n",
    "## Get dataset"
   ]
  },
  {
   "cell_type": "code",
   "execution_count": null,
   "id": "e8d039075d99938d",
   "metadata": {},
   "outputs": [],
   "source": [
    "# Get dataset from file\n",
    "df = pd.read_csv(\n",
    "    \"../data/IMDB_Dataset.csv\",\n",
    ")\n",
    "\n",
    "# Show dataset head\n",
    "df.head()"
   ]
  },
  {
   "cell_type": "code",
   "execution_count": null,
   "id": "2930910b051bd35e",
   "metadata": {},
   "outputs": [],
   "source": [
    "review = df.columns[-1]\n",
    "\n",
    "grouped = df.groupby(review).size()"
   ]
  },
  {
   "cell_type": "code",
   "execution_count": null,
   "id": "3c2622e7e3ceecf2",
   "metadata": {},
   "outputs": [],
   "source": [
    "grouped.plot(\n",
    "    kind=\"bar\",\n",
    "    xlabel=\"Review\",\n",
    "    ylabel=\"Count\",\n",
    "    title=\"Count of Reviews\",\n",
    ");"
   ]
  },
  {
   "cell_type": "markdown",
   "id": "c154d1878883edc6",
   "metadata": {
    "collapsed": false
   },
   "source": [
    "Dataframe is balanced."
   ]
  },
  {
   "cell_type": "markdown",
   "id": "c6d92c3afcb9434c",
   "metadata": {
    "collapsed": false
   },
   "source": [
    "# Preprocessing"
   ]
  },
  {
   "cell_type": "code",
   "execution_count": null,
   "id": "c13473865e48fb51",
   "metadata": {},
   "outputs": [],
   "source": [
    "# Set feature and target subsets\n",
    "features = df.review\n",
    "target = df.sentiment"
   ]
  },
  {
   "cell_type": "markdown",
   "id": "d2cfc77e448fc861",
   "metadata": {
    "collapsed": false
   },
   "source": [
    "Transform words from the text reviews into a numeric representation of its frequency."
   ]
  },
  {
   "cell_type": "code",
   "execution_count": null,
   "id": "be09eb7fc3b60223",
   "metadata": {},
   "outputs": [],
   "source": [
    "tf_idf = TfidfVectorizer(stop_words=\"english\")\n",
    "features_vector = tf_idf.fit_transform(features)\n",
    "\n",
    "pd.DataFrame.sparse.from_spmatrix(\n",
    "    data=features_vector, index=features.index, columns=tf_idf.get_feature_names_out()\n",
    ")"
   ]
  },
  {
   "cell_type": "markdown",
   "id": "47121949a98af1bd",
   "metadata": {
    "collapsed": false
   },
   "source": [
    "Transform reviews into a numeric representation."
   ]
  },
  {
   "cell_type": "code",
   "execution_count": null,
   "id": "669ee5acaa9b7cff",
   "metadata": {},
   "outputs": [],
   "source": [
    "# Make transform\n",
    "target_vector = target.map({\"positive\": 1, \"negative\": 0})\n",
    "\n",
    "# Show transformed data\n",
    "target_vector"
   ]
  },
  {
   "cell_type": "markdown",
   "id": "ee3cd92449dc66a5",
   "metadata": {
    "collapsed": false
   },
   "source": [
    "Split data to test and strain data."
   ]
  },
  {
   "cell_type": "code",
   "execution_count": null,
   "id": "c5c1675cef0921a9",
   "metadata": {},
   "outputs": [],
   "source": [
    "# Get split subsets\n",
    "X_train, X_test, y_train, y_test = train_test_split(\n",
    "    features_vector, target_vector, test_size=0.3, random_state=42\n",
    ")"
   ]
  },
  {
   "cell_type": "markdown",
   "id": "ff84dd1796f5d5f7",
   "metadata": {
    "collapsed": false
   },
   "source": [
    "# Classification"
   ]
  },
  {
   "cell_type": "markdown",
   "id": "bf993588e877a791",
   "metadata": {
    "collapsed": false
   },
   "source": [
    "Make model."
   ]
  },
  {
   "cell_type": "code",
   "execution_count": null,
   "id": "9dc6d381cffd317d",
   "metadata": {},
   "outputs": [],
   "source": [
    "# Get regression object\n",
    "review_regression = linear_model.LogisticRegression(random_state=42)\n",
    "\n",
    "# Get cross-validation results\n",
    "cross_validation_score = model_selection.cross_val_score(\n",
    "    review_regression, X_train, y_train, cv=3\n",
    ")"
   ]
  },
  {
   "cell_type": "markdown",
   "id": "6cbd3ea89763adaa",
   "metadata": {
    "collapsed": false
   },
   "source": [
    "Fit model."
   ]
  },
  {
   "cell_type": "code",
   "execution_count": null,
   "id": "4e9927d15fe6633b",
   "metadata": {},
   "outputs": [],
   "source": [
    "# Get fit\n",
    "review_regression.fit(X_train, y_train)"
   ]
  },
  {
   "cell_type": "markdown",
   "id": "c5a2a033680b2233",
   "metadata": {
    "collapsed": false
   },
   "source": [
    "Get score."
   ]
  },
  {
   "cell_type": "code",
   "execution_count": null,
   "id": "fca9fa2b91534903",
   "metadata": {},
   "outputs": [],
   "source": [
    "# Get train score\n",
    "review_train_score = review_regression.score(X_train, y_train)\n",
    "# Geet test score\n",
    "review_test_score = review_regression.score(X_test, y_test)\n",
    "\n",
    "print(f\"Cross validation score: {cross_validation_score[:]}.\")\n",
    "print(f\"Train score: {review_train_score:.2f}.\")\n",
    "print(f\"Test score: {review_test_score:.2f}.\")"
   ]
  },
  {
   "cell_type": "markdown",
   "id": "6de71e69bf3a457b",
   "metadata": {
    "collapsed": false
   },
   "source": [
    "Visualize model"
   ]
  },
  {
   "cell_type": "code",
   "execution_count": null,
   "id": "32612fe4379e0931",
   "metadata": {},
   "outputs": [],
   "source": [
    "# Get density plot\n",
    "# for test data\n",
    "sns.kdeplot(\n",
    "    y_test,\n",
    "    fill=False,\n",
    "    color=\"r\",\n",
    "    label=\"test subset\",\n",
    ")\n",
    "\n",
    "# for predicted data\n",
    "sns.kdeplot(\n",
    "    review_regression.predict(X_test),\n",
    "    fill=True,\n",
    "    color=\"b\",\n",
    "    label=\"predicted\",\n",
    ")\n",
    "\n",
    "# Plot\n",
    "plt.title(\"Distribution of observations in test dataset and and predicted dataset\")\n",
    "plt.legend();"
   ]
  },
  {
   "cell_type": "markdown",
   "id": "f7a22a8eb3dcde5e",
   "metadata": {
    "collapsed": false
   },
   "source": [
    "Lat's make a prediction."
   ]
  },
  {
   "cell_type": "code",
   "execution_count": null,
   "id": "6a034d050757fade",
   "metadata": {},
   "outputs": [],
   "source": [
    "# Predict with the model\n",
    "prediction = review_regression.predict(\n",
    "    tf_idf.transform([\"I did not like this movie at all\"])\n",
    ")\n",
    "\n",
    "# Map numerical prediction back to string representation\n",
    "prediction_str = \"positive\" if prediction[0] == 1 else \"negative\"\n",
    "\n",
    "print(prediction_str)"
   ]
  },
  {
   "cell_type": "markdown",
   "id": "3e557b1cfd950a8d",
   "metadata": {
    "collapsed": false
   },
   "source": [
    "It really works! ... for the most cases)"
   ]
  },
  {
   "cell_type": "markdown",
   "id": "1f7cf67541496c2b",
   "metadata": {
    "collapsed": false
   },
   "source": [
    "# Summary\n",
    "1. LogisticRegression model used for movie review classification.\n",
    "2.  Model trained and the prediction done."
   ]
  }
 ],
 "metadata": {
  "kernelspec": {
   "display_name": "Python 3",
   "language": "python",
   "name": "python3"
  },
  "language_info": {
   "codemirror_mode": {
    "name": "ipython",
    "version": 2
   },
   "file_extension": ".py",
   "mimetype": "text/x-python",
   "name": "python",
   "nbconvert_exporter": "python",
   "pygments_lexer": "ipython2",
   "version": "2.7.6"
  }
 },
 "nbformat": 4,
 "nbformat_minor": 5
}
